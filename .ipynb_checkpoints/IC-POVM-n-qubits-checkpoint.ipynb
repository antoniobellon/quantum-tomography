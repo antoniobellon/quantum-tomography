{
 "cells": [
  {
   "cell_type": "markdown",
   "id": "38b81381",
   "metadata": {},
   "source": [
    "### Quantum state tomography by on-line measuring with IC&SIC-POVM and MMW method\n",
    "(toy example with no noise)"
   ]
  },
  {
   "cell_type": "markdown",
   "id": "c4fe87f2",
   "metadata": {},
   "source": [
    "The problem of state tomography is estimating the state of the quantum system that is fully described by its density matrix $\\rho$ from the measuarements with possible outcomes $\\{0, 1\\}$ of some observables $\\{E_i\\}$ where the probability to obtain \"1\" when measure the observable $E_i$ is $p(m) = \\operatorname{Tr}(E_m \\rho)$"
   ]
  },
  {
   "cell_type": "code",
   "execution_count": 1,
   "id": "90a7e28a",
   "metadata": {},
   "outputs": [],
   "source": [
    "using LinearAlgebra\n",
    "using Statistics\n",
    "using PyPlot"
   ]
  },
  {
   "cell_type": "markdown",
   "id": "dc11d68f",
   "metadata": {},
   "source": [
    "Function to generate an random $n \\times n$ desity matrix we want to indentify (consider unknown)\n",
    "\n",
    "In our toy example consider $2 \\times 2$ desity matrix:\n",
    "\\begin{align}\n",
    "  \\rho = \n",
    "        \\left(\n",
    "        \\begin{array}{ccccc}\n",
    "            \\rho_{00}   &   \\rho_{01}  \\\\\n",
    "            \\rho_{01}^*  &  \\rho_{11} \\\\\n",
    "        \\end{array}\n",
    "        \\right)\n",
    "\\end{align}"
   ]
  },
  {
   "cell_type": "code",
   "execution_count": 2,
   "id": "f78b09b3",
   "metadata": {},
   "outputs": [
    {
     "data": {
      "text/plain": [
       "2×2 Hermitian{ComplexF64, Matrix{ComplexF64}}:\n",
       "  0.365455+0.0im         -0.471554-0.00591015im\n",
       " -0.471554+0.00591015im   0.634545+0.0im"
      ]
     },
     "execution_count": 2,
     "metadata": {},
     "output_type": "execute_result"
    }
   ],
   "source": [
    "function ρᵣₐₙ(n)\n",
    "    # return a random density matrix\n",
    "    ρ = -1 .+ 2 * rand(n, n) \n",
    "    ρ += im * (-1 .+ 2 * rand(n, n))  \n",
    "    ρ = ρ * ρ'\n",
    "    Hermitian(ρ / tr(ρ))\n",
    "end\n",
    "ρᵣₐₙ(2)"
   ]
  },
  {
   "cell_type": "markdown",
   "id": "08612a26",
   "metadata": {},
   "source": [
    "   Any density matrix could be expressed as linear combintion of Pauli matrices:\n",
    "\n",
    "$ \\rho = \\frac{\\operatorname{Tr}(\\rho)I + \\operatorname{Tr}(X\\rho)X +\n",
    "\\operatorname{Tr}(Y\\rho)Y +\\operatorname{Tr}(Z\\rho)Z}{2}$\n",
    "\n",
    "To perform tomography we can potentially use Pauli matrices\n",
    "\\begin{align}\n",
    "  \\sigma_1 = I =  \\begin{pmatrix}\n",
    "            1   &  0 \\\\\n",
    "            0   &  1 \\\\\n",
    "       \\end{pmatrix}\n",
    "       \\quad\n",
    "  \\sigma_2 = X =  \\begin{pmatrix}\n",
    "            0   &  1 \\\\\n",
    "            1   &  0 \\\\\n",
    "       \\end{pmatrix}\n",
    "       \\quad\n",
    "  \\sigma_3 = Y =  \\begin{pmatrix}\n",
    "            0   &  -i \\\\\n",
    "            i   &  0 \\\\\n",
    "       \\end{pmatrix}\n",
    "       \\quad \n",
    "  \\sigma_4 = Z =  \\begin{pmatrix}\n",
    "            1   &   0 \\\\\n",
    "            0   &  -1 \\\\\n",
    "       \\end{pmatrix}\n",
    "       \\quad   \n",
    "\\end{align}\n",
    "\n"
   ]
  },
  {
   "cell_type": "code",
   "execution_count": 3,
   "id": "5248c1f8",
   "metadata": {},
   "outputs": [],
   "source": [
    "σ₁ = [1 0; 0 1]\n",
    "σ₂ = [0 1; 1 0]\n",
    "σ₃ = [0 -im; im 0]\n",
    "σ₄ = [1 0; 0 -1];"
   ]
  },
  {
   "cell_type": "markdown",
   "id": "61bb37dd",
   "metadata": {},
   "source": [
    "But measuring with Pauli matrices is not POVM!"
   ]
  },
  {
   "cell_type": "code",
   "execution_count": 4,
   "id": "36028633",
   "metadata": {},
   "outputs": [
    {
     "data": {
      "text/plain": [
       "2×2 Matrix{Complex{Int64}}:\n",
       " 2+0im  1-1im\n",
       " 1+1im  0+0im"
      ]
     },
     "execution_count": 4,
     "metadata": {},
     "output_type": "execute_result"
    }
   ],
   "source": [
    "λₓ = eigvals(σ₃)\n",
    "σ₁ + σ₂ + σ₃ + σ₄ "
   ]
  },
  {
   "cell_type": "markdown",
   "id": "4a58306a",
   "metadata": {},
   "source": [
    "We can use fidelity to check the similarity of quantum states\n",
    "$F = \\left( \\operatorname{Tr} \\sqrt{\\sqrt{\\rho} \\omega \\sqrt{\\rho}} \\right)^2$"
   ]
  },
  {
   "cell_type": "code",
   "execution_count": null,
   "id": "aa8b7add",
   "metadata": {},
   "outputs": [],
   "source": [
    "function fidelity(ρ, 𝜔)\n",
    "    s = sqrt(sqrt(ρ)*𝜔*sqrt(ρ))\n",
    "    return abs(tr(s)^2)\n",
    "end \n",
    "ρ₁ = ρᵣₐₙ(2)\n",
    "ρ₂ = [1/2 0; 0 1/2]\n",
    "println(fidelity(ρ₁, ρ₂))\n",
    "println(fidelity(ρ₁, ρ₁))"
   ]
  },
  {
   "cell_type": "markdown",
   "id": "ba6205af",
   "metadata": {},
   "source": [
    "To perform quantun state tomography we need to measure quantum system with <br> a set of Positive operator-valued measure (POVM) operators $\\{E_i\\}$ that should be <b> informationally complete (IC)</b>. \n",
    "\n",
    "### POVM Definition\n",
    "\n",
    "A POVM over a $d$-dimensional Hilbert space $\\mathcal{H}$ is a set of $m$ positive-semidefinite operators operators $E = \\{E_i\\ | i \\in \\{1,...,m\\} \\}$ on the Hilbert space that sum to identity: \n",
    "$\\sum_{i=1}^m{E_i} = I$."
   ]
  },
  {
   "cell_type": "markdown",
   "id": "4d9c5ad6",
   "metadata": {},
   "source": [
    "#### POVM example for one qubit\n",
    "For one qubit we can use for example 3 pair of operators (six in total):\n",
    "<img src=\"Bloch_sphere.svg.png\" alt=\"One qubit POVM\" style=\"width:400px;\"/>\n",
    "\n",
    "To meausure in computational $\\{Z\\}$ basis: $\\{ |0\\rangle, |1\\rangle \\}$ we need\n",
    "\\begin{align}\n",
    "  3 E_1 = |0\\rangle \\langle 0|=\n",
    "          \\left(\n",
    "        \\begin{array}{ccccc}\n",
    "            0  \\\\\n",
    "            1  \\\\\n",
    "        \\end{array}\n",
    "        \\right) \n",
    "          \\left(\n",
    "        \\begin{array}{ccccc}\n",
    "            0   &   1  \\\\\n",
    "        \\end{array}\n",
    "        \\right) = \n",
    "        \\left(\n",
    "        \\begin{array}{ccccc}\n",
    "            0   &  0 \\\\\n",
    "            0   &  1 \\\\\n",
    "        \\end{array}\n",
    "        \\right),\n",
    "\\quad\n",
    "  E_1 = \\left(\n",
    "        \\begin{array}{ccccc}\n",
    "            0   &  0 \\\\\n",
    "            0   &  1/3 \\\\\n",
    "        \\end{array}\n",
    "        \\right),\n",
    "\\quad\n",
    " 3E_2 = |1\\rangle \\langle 1|=\n",
    "          \\left(\n",
    "        \\begin{array}{ccccc}\n",
    "            1  \\\\\n",
    "            0  \\\\\n",
    "        \\end{array}\n",
    "        \\right) \n",
    "          \\left(\n",
    "        \\begin{array}{ccccc}\n",
    "            1   &   0 \\\\\n",
    "        \\end{array}\n",
    "        \\right) = \n",
    "        \\left(\n",
    "        \\begin{array}{ccccc}\n",
    "            1   &  0 \\\\\n",
    "            0   &  0 \\\\\n",
    "        \\end{array}\n",
    "        \\right),\n",
    "\\quad\n",
    "  E_2 = \\left(\n",
    "        \\begin{array}{ccccc}\n",
    "            1/3   &  0 \\\\\n",
    "            0   &  0 \\\\\n",
    "        \\end{array}\n",
    "        \\right)\n",
    "\\end{align}\n",
    "\n",
    "To measure in $\\{X\\}$ basis $\\{|+ \\rangle = \\frac{|0\\rangle + |1\\rangle }{\\sqrt{2}}, \n",
    "  |- \\rangle = \\frac{|0\\rangle - |1\\rangle }{\\sqrt{2}} \\}$ we need:\n",
    " \\begin{align}\n",
    "  3E_3 = 3E_+ = |+\\rangle \\langle +|=\n",
    "          \\left(\n",
    "        \\begin{array}{ccccc}\n",
    "            1/\\sqrt{2}  \\\\\n",
    "            1/\\sqrt{2}  \\\\\n",
    "        \\end{array}\n",
    "        \\right) \n",
    "          \\left(\n",
    "        \\begin{array}{ccccc}\n",
    "            1/\\sqrt{2}   &   1/\\sqrt{2} \\\\\n",
    "        \\end{array}\n",
    "        \\right) = \n",
    "        \\left(\n",
    "        \\begin{array}{ccccc}\n",
    "            1/2   &  1/2 \\\\\n",
    "            1/2   &  1/2 \\\\\n",
    "        \\end{array}\n",
    "        \\right), \\quad\n",
    "        E_3 = \n",
    "        \\left(\n",
    "        \\begin{array}{ccccc}\n",
    "            1/6   &  1/6 \\\\\n",
    "            1/6   &  1/6 \\\\\n",
    "        \\end{array}\n",
    "        \\right), \\quad\n",
    "       E_4 = \\frac{1}{3}E_{-} = \\frac{1}{3}|-\\rangle \\langle -|= \n",
    "        \\left(\n",
    "        \\begin{array}{ccccc}\n",
    "            1/6   &  -1/6 \\\\\n",
    "            -1/6   &  1/6 \\\\\n",
    "        \\end{array}\n",
    "        \\right)     \n",
    "\\end{align}\n",
    "\n",
    "To measure in $\\{Y\\}$ basis $\\{|y+ \\rangle = \\frac{|0\\rangle + i|1\\rangle }{\\sqrt{2}}, \n",
    "  |y- \\rangle = \\frac{|0\\rangle - i|1\\rangle }{\\sqrt{2}} \\}$ we need:\n",
    " \\begin{align}\n",
    "  3E_5 = 3E_{y+} = |y+\\rangle \\langle y+|=\n",
    "          \\left(\n",
    "        \\begin{array}{ccccc}\n",
    "            i/\\sqrt{2}  \\\\\n",
    "            1/\\sqrt{2}  \\\\\n",
    "        \\end{array}\n",
    "        \\right) \n",
    "          \\left(\n",
    "        \\begin{array}{ccccc}\n",
    "            -i/\\sqrt{2}   &   1/\\sqrt{2} \\\\\n",
    "        \\end{array}\n",
    "        \\right) = \n",
    "        \\left(\n",
    "        \\begin{array}{ccccc}\n",
    "            1/2   &  i/2 \\\\\n",
    "            -i/2   &  1/2 \\\\\n",
    "        \\end{array}\n",
    "        \\right), \\quad\n",
    "        E_5 = |y-\\rangle \\langle y-|= \n",
    "        \\left(\n",
    "        \\begin{array}{ccccc}\n",
    "            1/6   &  -i/6 \\\\\n",
    "            i/6   &  1/6 \\\\\n",
    "        \\end{array}\n",
    "        \\right), \\quad\n",
    "E_6 = \\frac{1}{3}E_{y-} = \\frac{1}{3}|y-\\rangle \\langle y-|= \n",
    "        \\left(\n",
    "        \\begin{array}{ccccc}\n",
    "            1/6   &  -i/6 \\\\\n",
    "            i/6   &  1/6 \\\\\n",
    "        \\end{array}\n",
    "        \\right)       \n",
    "\\end{align}\n"
   ]
  },
  {
   "cell_type": "markdown",
   "id": "20870b2b",
   "metadata": {},
   "source": [
    "here we use Dirac bra-ket notation:\n",
    "\\begin{align}\n",
    "|0\\rangle  =  \\begin{pmatrix}\n",
    "            0  \\\\\n",
    "            1  \\\\\n",
    "        \\end{pmatrix}, \\quad \n",
    "|1\\rangle = \\begin{pmatrix}\n",
    "            1  \\\\\n",
    "            0   \\\\\n",
    "        \\end{pmatrix}, \\quad  \n",
    "\\langle 0|= |0\\rangle^\\dagger  =  \\begin{pmatrix}\n",
    "            0   &  1 \\\\\n",
    "        \\end{pmatrix}, \\quad \n",
    "\\langle 1|= |1\\rangle^\\dagger = \\begin{pmatrix}\n",
    "            1   &  0 \\\\\n",
    "        \\end{pmatrix} \n",
    "\\end{align}      "
   ]
  },
  {
   "cell_type": "code",
   "execution_count": null,
   "id": "668aacc2",
   "metadata": {},
   "outputs": [],
   "source": [
    "E₁ = [0 0; 0 1/3]\n",
    "E₂ = [1/3 0; 0 0]\n",
    "E₃  = [1/6 1/6; 1/6 1/6]\n",
    "E₄ =  [1/6 -1/6; -1/6 1/6]\n",
    "E₅  = [1/6 im/6; -im/6 1/6]\n",
    "E₆  = [1/6 -im/6; im/6 1/6]\n",
    "E₁ + E₂ + E₃ + E₄ + E₅ + E₆"
   ]
  },
  {
   "cell_type": "markdown",
   "id": "e27d6d01",
   "metadata": {},
   "source": [
    " ### IS POVM and SIC POVM definitions\n",
    " If a POVM consists of at least $d^{2}$ operators which span the space of self-adjoint operators $\\mathcal{L}(\\mathcal {H})$, <br> it is said to be an <b> informationally complete POVM (IC-POVM)</b>. <br> IC-POVMs consisting of exactly $ d^{2}$ elements are called minimal.\n",
    " \n",
    "A set of $d^{2}$ rank-1 projectors $\\Pi =\\left\\{\\Pi_{i}\\mid i\\in \\{1,\\ldots ,d^{2}\\}\\land \\Pi_{i}^{2}=\\Pi _{i}\\right\\}$ which have equal pairwise Hilbert–Schmidt inner products,\n",
    "\\begin{align}\n",
    "\\operatorname{Tr}(\\Pi_i \\Pi_j) = \\frac{d \\delta_{ij} + 1}{d+1},\n",
    "\\end{align}\n",
    "defines a minimal IC-POVM $E = \\{E_i\\ | i \\in \\{1,...,d^2\\} \\land E_i  = \\frac{1}{d} \\Pi_i \\land \\Pi_i \\in \\Pi \\}$ called \n",
    "<b> symmetric, informationally complete, positive operator-valued measure (SIC-POVM) </b>.\n",
    "\n",
    "https://en.wikipedia.org/wiki/SIC-POVM"
   ]
  },
  {
   "cell_type": "markdown",
   "id": "0d79195e",
   "metadata": {},
   "source": [
    "#### SIC POVM example for one qubit\n",
    "In the Bloch sphere representation of a qubit, the states of a SIC-POVM form a regular tetrahedron:\n",
    "<img src=\"Regular_tetrahedron_inscribed_in_a_sphere.svg.png\" alt=\"One qubit SIC-POVM Tetrahedron\" style=\"width:400px;\"/>"
   ]
  },
  {
   "cell_type": "markdown",
   "id": "584e7d69",
   "metadata": {},
   "source": [
    "For one qubit ($d=2$) we can consider the following set of SIC-POVM ket-states:<br>\n",
    "$ |\\psi_1 \\rangle  = |0\\rangle$ <br>\n",
    "$ |\\psi_2 \\rangle  = \\frac{1}{\\sqrt{3}}|0\\rangle + - \\sqrt{\\frac{2}{3}}|1\\rangle$ <br>\n",
    "$ |\\psi_3 \\rangle  = \\frac{1}{\\sqrt{3}}|0\\rangle + \\sqrt{\\frac{2}{3}} e^{i \\frac{2 \\pi}{3}}|1\\rangle$ <br>\n",
    "$ |\\psi_4 \\rangle  = \\frac{1}{\\sqrt{3}}|0\\rangle + \\sqrt{\\frac{2}{3}} e^{i \\frac{4 \\pi}{3}}|1\\rangle$ <br>"
   ]
  },
  {
   "cell_type": "markdown",
   "id": "c0eec19f",
   "metadata": {},
   "source": [
    "here and then we use Dirac bra-ket notation\n",
    "$|\\psi\\rangle = \\langle \\psi |^\\dagger$ :\n",
    "\\begin{align}\n",
    "|\\psi\\rangle =\n",
    " \\begin{pmatrix}\n",
    " \\alpha_1 + i \\beta_1 \\\\\n",
    " \\alpha_2 + i \\beta_2\n",
    " \\end{pmatrix}, \\quad \n",
    " \\langle \\psi | = \\begin{pmatrix}\n",
    " \\alpha_1 - i \\beta_1 &\n",
    " \\alpha_2 - i \\beta_2\n",
    " \\end{pmatrix}, \\quad \\alpha_i, \\beta_i \\in \\mathbb{R}\n",
    "\\end{align}, \n",
    "\n",
    "\\begin{align}\n",
    "|0\\rangle  =  \\begin{pmatrix}\n",
    "            1  \\\\\n",
    "            0  \\\\\n",
    "        \\end{pmatrix}, \\quad \n",
    "|1\\rangle = \\begin{pmatrix}\n",
    "            0  \\\\\n",
    "            1  \\\\\n",
    "        \\end{pmatrix}, \\quad  \n",
    "\\langle 0|= |0\\rangle^\\dagger  =  \\begin{pmatrix}\n",
    "            1   &  0 \\\\\n",
    "        \\end{pmatrix}, \\quad \n",
    "\\langle 1|= |1\\rangle^\\dagger = \\begin{pmatrix}\n",
    "            0   &  1 \\\\\n",
    "        \\end{pmatrix} \n",
    "\\end{align}      \n",
    "\n",
    "\\begin{align}\n",
    "|0\\rangle \\langle 0|=\n",
    "          \\left(\n",
    "        \\begin{array}{ccccc}\n",
    "            1  \\\\\n",
    "            0  \\\\\n",
    "        \\end{array}\n",
    "        \\right) \n",
    "          \\left(\n",
    "        \\begin{array}{ccccc}\n",
    "            1   &   0  \\\\\n",
    "        \\end{array}\n",
    "        \\right) = \n",
    "        \\left(\n",
    "        \\begin{array}{ccccc}\n",
    "            1   &  0 \\\\\n",
    "            0   &  0 \\\\\n",
    "        \\end{array}\n",
    "        \\right), \\quad   \n",
    "|1\\rangle \\langle 1|=\n",
    "          \\left(\n",
    "        \\begin{array}{ccccc}\n",
    "            0  \\\\\n",
    "            1  \\\\\n",
    "        \\end{array}\n",
    "        \\right) \n",
    "          \\left(\n",
    "        \\begin{array}{ccccc}\n",
    "            0   &   1  \\\\\n",
    "        \\end{array}\n",
    "        \\right) = \n",
    "        \\left(\n",
    "        \\begin{array}{ccccc}\n",
    "            0   &  0 \\\\\n",
    "            0   &  1 \\\\\n",
    "        \\end{array}\n",
    "        \\right)\n",
    "\\end{align} "
   ]
  },
  {
   "cell_type": "markdown",
   "id": "86e95b6a",
   "metadata": {},
   "source": [
    "This set of states $\\{ |\\psi_i \\rangle \\}$corresponds to the set of projectors $\\{ \\Pi_i = |\\psi_i \\rangle \\langle \\psi_i | \\}$ <br> and correcponding set of SIC-POVM measurement operators<br>\n",
    "$E = \\{E_i\\ | i \\in \\{1,...,4\\} \\land  E_i  = \\frac{1}{2} \\Pi_i \\}$ on the Hilbert space that sum to identity $\\sum_{i=1}^m{E_i} = I$.\n",
    "\n",
    "\\begin{align}\n",
    " \\Pi_1 = 2E_1 = |\\psi_1\\rangle \\langle \\psi_1|= |0\\rangle \\langle 0|=\n",
    "          \\left(\n",
    "        \\begin{array}{ccccc}\n",
    "            0  \\\\\n",
    "            1  \\\\\n",
    "        \\end{array}\n",
    "        \\right) \n",
    "          \\left(\n",
    "        \\begin{array}{ccccc}\n",
    "            0   &   1  \\\\\n",
    "        \\end{array}\n",
    "        \\right) = \n",
    "        \\left(\n",
    "        \\begin{array}{ccccc}\n",
    "            0   &  0 \\\\\n",
    "            0   &  1 \\\\\n",
    "        \\end{array}\n",
    "        \\right)\n",
    "\\end{align}\n",
    "\n"
   ]
  },
  {
   "cell_type": "code",
   "execution_count": null,
   "id": "fce5e0f7",
   "metadata": {},
   "outputs": [],
   "source": [
    "E₁ₛ = [1/2 0; 0 0]"
   ]
  },
  {
   "cell_type": "markdown",
   "id": "8d1d345d",
   "metadata": {},
   "source": [
    "\\begin{align}\n",
    " \\Pi_2 = 2 E_2 = |\\psi_2\\rangle \\langle \\psi_2|= \n",
    " \\left(\\frac{1}{\\sqrt 3}|0\\rangle  + \\sqrt{\\frac{2}{3}}|1\\rangle \\right) \\left(\\frac{1}{\\sqrt 3}\\langle 0| + \\sqrt{\\frac{2}{3}}\\langle 1| \\right) = \n",
    "     \\left(\n",
    "        \\begin{array}{ccccc}\n",
    "            1/\\sqrt{3}   \\\\  \\sqrt{\\frac{2}{3}} \n",
    "        \\end{array}        \n",
    "        \\right)\n",
    "        \\left(\n",
    "        \\begin{array}{ccccc}\n",
    "            1/\\sqrt{3}   &  \\sqrt{\\frac{2}{3}} \\\\\n",
    "        \\end{array}        \n",
    "        \\right) \n",
    "         =\n",
    "        \\left(\n",
    "        \\begin{array}{ccccc}\n",
    "           1/3 &  \\sqrt{2}/3 \\\\\n",
    "           \\sqrt{2}/3 & 2/3 \\\\\n",
    "        \\end{array}        \n",
    "        \\right)       \n",
    "\\end{align}"
   ]
  },
  {
   "cell_type": "code",
   "execution_count": null,
   "id": "76842c31",
   "metadata": {},
   "outputs": [],
   "source": [
    "E₂ₛ = [1/6 √2/6; √2/6 2/6]"
   ]
  },
  {
   "cell_type": "markdown",
   "id": "857bf232",
   "metadata": {},
   "source": [
    "\\begin{align}\n",
    " \\Pi_3 = 2  E_3 = |\\psi_3\\rangle \\langle \\psi_3|= \n",
    " \\left(\\frac{1}{\\sqrt 3}|0\\rangle  + \\sqrt{\\frac{2}{3}}e^{i\\frac{2 \\pi}{3}}|1\\rangle \\right) \\left(\\frac{1}{\\sqrt 3}\\langle 0| + \\sqrt{\\frac{2}{3}}e^{-i\\frac{2 \\pi}{3}}\\langle 1| \\right) = \n",
    "     \\left(\n",
    "        \\begin{array}{ccccc}\n",
    "            1/\\sqrt{3} \\\\\n",
    "            \\sqrt{\\frac{2}{3}} e^{i\\frac{2 \\pi}{3}} \\\\\n",
    "        \\end{array}        \n",
    "        \\right)\n",
    "        \\left(\n",
    "        \\begin{array}{ccccc}\n",
    "            1/ \\sqrt{3}   &  \\sqrt{\\frac{2}{3}} e^{-i\\frac{2 \\pi}{3}} \\\\\n",
    "        \\end{array}        \n",
    "        \\right) =\n",
    "        \\left(\n",
    "        \\begin{array}{ccccc}\n",
    "           1/3 &  \\sqrt{2}e^{-i\\frac{2 \\pi}{3}}/3 \\\\\n",
    "           \\sqrt{2}e^{i\\frac{2 \\pi}{3}}/3 & 2/3 \\\\\n",
    "        \\end{array}        \n",
    "        \\right)       \n",
    "\\end{align}"
   ]
  },
  {
   "cell_type": "code",
   "execution_count": null,
   "id": "518bf458",
   "metadata": {},
   "outputs": [],
   "source": [
    "E₃ₛ = [1/6 exp(im*2π/3)√2/6; exp(-im*2π/3)√2/6 2/6]"
   ]
  },
  {
   "cell_type": "markdown",
   "id": "85f8d6e4",
   "metadata": {},
   "source": [
    "\\begin{align}\n",
    " \\Pi_3 = 2  E_4 = |\\psi_4\\rangle \\langle \\psi_4|= \n",
    " \\left(\\frac{1}{\\sqrt 3}|0\\rangle  + \\sqrt{\\frac{2}{3}}e^{i\\frac{4 \\pi}{3}}|1\\rangle \\right) \\left(\\frac{1}{\\sqrt 3}\\langle 0| + \\sqrt{\\frac{2}{3}}e^{-i\\frac{4 \\pi}{3}}\\langle 1| \\right) = \n",
    "     \\left(\n",
    "        \\begin{array}{ccccc}\n",
    "            1/\\sqrt{3} \\\\\n",
    "            \\sqrt{\\frac{2}{3}} e^{i\\frac{4 \\pi}{3}} \\\\\n",
    "        \\end{array}        \n",
    "        \\right)\n",
    "        \\left(\n",
    "        \\begin{array}{ccccc}\n",
    "            1/ \\sqrt{3}   &  \\sqrt{\\frac{2}{3}} e^{-i\\frac{4 \\pi}{3}} \\\\\n",
    "        \\end{array}        \n",
    "        \\right) =\n",
    "        \\left(\n",
    "        \\begin{array}{ccccc}\n",
    "           1/3 &  \\sqrt{2}e^{-i\\frac{4 \\pi}{3}}/3 \\\\\n",
    "           \\sqrt{2}e^{i\\frac{4 \\pi}{3}}/3 & 2/3 \\\\\n",
    "        \\end{array}        \n",
    "        \\right)       \n",
    "\\end{align}"
   ]
  },
  {
   "cell_type": "code",
   "execution_count": null,
   "id": "b3f6c6c7",
   "metadata": {},
   "outputs": [],
   "source": [
    "E₄ₛ = [1/6 exp(im*4π/3)√2/6; exp(-im*4π/3)√2/6 2/6]"
   ]
  },
  {
   "cell_type": "markdown",
   "id": "6d1ccbfa",
   "metadata": {},
   "source": [
    "\\begin{align}\n",
    "2(E_1 + E_2 + E_3 + E_4) =\n",
    "\\begin{pmatrix}\n",
    "1 & 0 \\\\\n",
    "0 & 0\n",
    "\\end{pmatrix} + \n",
    "\\begin{pmatrix}\n",
    " 1/3 &  \\sqrt{2}/3 \\\\\n",
    " \\sqrt{2}/3 & 2/3 \n",
    "\\end{pmatrix} +\n",
    "\\begin{pmatrix}\n",
    " 1/3 &  \\sqrt{2}e^{-i\\frac{2 \\pi}{3}}/3 \\\\\n",
    " \\sqrt{2}e^{i\\frac{2 \\pi}{3}}/3 & 2/3\n",
    "\\end{pmatrix}\n",
    " +\n",
    "\\begin{pmatrix}\n",
    " 1/3 &  \\sqrt{2}e^{-i\\frac{4 \\pi}{3}}/3 \\\\\n",
    " \\sqrt{2}e^{i\\frac{4 \\pi}{3}}/3 & 2/3\n",
    "\\end{pmatrix}\n",
    "\\end{align}"
   ]
  },
  {
   "cell_type": "markdown",
   "id": "d2a511c5",
   "metadata": {},
   "source": [
    "\\begin{align}\n",
    " =\n",
    "\\begin{pmatrix}\n",
    "1 & 0 \\\\\n",
    "0 & 0\n",
    "\\end{pmatrix} + \n",
    "\\begin{pmatrix}\n",
    " 1/3 &  \\sqrt{2}/3 \\\\\n",
    " \\sqrt{2}/3 & 2/3 \n",
    "\\end{pmatrix} +\n",
    "\\begin{pmatrix}\n",
    " 2/3 &  \\frac{\\sqrt{2}}{3} (e^{-i\\frac{2 \\pi}{3}} + e^{-i\\frac{4 \\pi}{3}}) \\\\\n",
    " \\frac{\\sqrt{2}}{3} (e^{i\\frac{2 \\pi}{3}} + e^{i\\frac{4 \\pi}{3}}) & 4/3\n",
    "\\end{pmatrix}\n",
    "\\end{align}"
   ]
  },
  {
   "cell_type": "markdown",
   "id": "e1e3fc4a",
   "metadata": {},
   "source": [
    "\\begin{align}\n",
    " =\n",
    "\\begin{pmatrix}\n",
    "1 & 0 \\\\\n",
    "0 & 0\n",
    "\\end{pmatrix} +\n",
    "\\begin{pmatrix}\n",
    " 3/3 &  \\frac{\\sqrt{2}}{3} (1 + e^{-i\\frac{2 \\pi}{3}} + e^{-i\\frac{4 \\pi}{3}}) \\\\\n",
    " \\frac{\\sqrt{2}}{3} (1 + e^{i\\frac{2 \\pi}{3}} + e^{i\\frac{4 \\pi}{3}}) & 6/3\n",
    "\\end{pmatrix}\n",
    "\\end{align}"
   ]
  },
  {
   "cell_type": "markdown",
   "id": "5e262e1a",
   "metadata": {},
   "source": [
    "\\begin{align}\n",
    " =\n",
    "\\begin{pmatrix}\n",
    " 2 &  \\frac{\\sqrt{2}}{3} (1 - 1) \\\\\n",
    " \\frac{\\sqrt{2}}{3} (1 -1) & 2\n",
    "\\end{pmatrix}\n",
    "\\end{align}"
   ]
  },
  {
   "cell_type": "markdown",
   "id": "7b4be34b",
   "metadata": {},
   "source": [
    "Check $\\sum_{i=1}^m{E_i} = I$"
   ]
  },
  {
   "cell_type": "code",
   "execution_count": null,
   "id": "8c0efe73",
   "metadata": {},
   "outputs": [],
   "source": [
    "E₁ₛ + E₂ₛ + E₃ₛ + E₄ₛ"
   ]
  },
  {
   "cell_type": "markdown",
   "id": "eb325a99",
   "metadata": {},
   "source": [
    "#### Probability to obtain \"1\" when measure the observable $E_m$ is \n",
    "\n",
    "$p(m) = \\operatorname{Tr}(E_m \\rho)$\n",
    "\n",
    "for example:"
   ]
  },
  {
   "cell_type": "code",
   "execution_count": null,
   "id": "4a5829a5",
   "metadata": {},
   "outputs": [],
   "source": [
    "p₁ = abs(tr(E₁*ρᵣₐₙ(2)))"
   ]
  },
  {
   "cell_type": "markdown",
   "id": "cde360ef",
   "metadata": {},
   "source": [
    "We can generate sequence that simulate measurements $Y$ with outcomes $\\{0,1\\}$ of the particular observable, for example"
   ]
  },
  {
   "cell_type": "code",
   "execution_count": null,
   "id": "e9d86d02",
   "metadata": {},
   "outputs": [],
   "source": [
    "using Random, Distributions\n",
    "d = Bernoulli(p₁)\n",
    "𝑌₁ = rand(d, 100)\n",
    "print(𝑌₁')\n",
    "mean(𝑌₁)"
   ]
  },
  {
   "cell_type": "markdown",
   "id": "469199a8",
   "metadata": {},
   "source": [
    "#### MAIN PART "
   ]
  },
  {
   "cell_type": "markdown",
   "id": "c68ca21f",
   "metadata": {},
   "source": [
    "#### 01. Genarate random density matrix (consider unknown)"
   ]
  },
  {
   "cell_type": "code",
   "execution_count": null,
   "id": "7d028ca1",
   "metadata": {},
   "outputs": [],
   "source": [
    "ρ = ρᵣₐₙ(2)\n",
    "#ρ = [1/2 0 ; 0 1/2]\n",
    "#ρ = [1 0 ; 0 0]"
   ]
  },
  {
   "cell_type": "markdown",
   "id": "ca6f1b3e",
   "metadata": {},
   "source": [
    "#### 02. Simulate measuremnets with SIC-POVM operators"
   ]
  },
  {
   "cell_type": "code",
   "execution_count": null,
   "id": "441e59b1",
   "metadata": {},
   "outputs": [],
   "source": [
    "n = 100 # number of measurements for each operator \n",
    "\n",
    "𝑌₁ₛ = rand(Bernoulli(abs(tr(E₁ₛ*ρ))), n)\n",
    "𝑌₂ₛ = rand(Bernoulli(abs(tr(E₂ₛ*ρ))), n)\n",
    "𝑌₃ₛ = rand(Bernoulli(abs(tr(E₃ₛ*ρ))), n)\n",
    "𝑌₄ₛ = rand(Bernoulli(abs(tr(E₄ₛ*ρ))), n)\n",
    "\n",
    "E = []\n",
    "𝑌 = []\n",
    "\n",
    "for i in 1:n\n",
    "    push!(E, E₁ₛ)\n",
    "    push!(𝑌, 𝑌₁ₛ[i])\n",
    "    \n",
    "    push!(E, E₂ₛ) \n",
    "    push!(𝑌, 𝑌₂ₛ[i])\n",
    "\n",
    "    push!(E, E₃ₛ)   \n",
    "    push!(𝑌, 𝑌₃ₛ[i])\n",
    "\n",
    "    push!(E, E₄ₛ)   \n",
    "    push!(𝑌, 𝑌₄ₛ[i])\n",
    "\n",
    "end"
   ]
  },
  {
   "cell_type": "markdown",
   "id": "ec131927",
   "metadata": {},
   "source": [
    "#### Matrix Multiplicative Weights (MMW) algorithm [Tsuda et al., 2005]\n",
    "as described in Online Learning of Quantum States by Elad Hazan and others"
   ]
  },
  {
   "cell_type": "markdown",
   "id": "5bd8d3e0",
   "metadata": {},
   "source": [
    "#### 1. Set $\\omega_1 := 2^{-n} I$\n",
    "for one qubit it is just \n",
    "\n",
    "\\begin{align}\n",
    "    \\omega_1 := \\begin{pmatrix}\n",
    "        1/2 & 0 \\\\\n",
    "        0 & 1/2 \\\\\n",
    "    \\end{pmatrix}\n",
    "\\end{align}"
   ]
  },
  {
   "cell_type": "code",
   "execution_count": null,
   "id": "13a02172",
   "metadata": {},
   "outputs": [],
   "source": [
    "𝜔₁ = [1/2 0; 0 1/2]"
   ]
  },
  {
   "cell_type": "markdown",
   "id": "c67a8aa5",
   "metadata": {},
   "source": [
    "#### 2. Update $\\omega_{t+1}$:"
   ]
  },
  {
   "cell_type": "markdown",
   "id": "4cda003b",
   "metadata": {},
   "source": [
    "To predict $\\omega_{t+1}$ we use the gradient:\n",
    "$ \\nabla_t (\\omega_t) := 2\\left({\\operatorname{Tr}(E_t \\omega_t) - Y_t} \\right) E_t$ "
   ]
  },
  {
   "cell_type": "code",
   "execution_count": null,
   "id": "92a5d099",
   "metadata": {},
   "outputs": [],
   "source": [
    "function ∇(𝜔ₜ, 𝐸ₜ, 𝑌ₜ)\n",
    "    return 2*(tr(𝐸ₜ*𝜔ₜ)-𝑌ₜ)*𝐸ₜ\n",
    "end"
   ]
  },
  {
   "cell_type": "code",
   "execution_count": null,
   "id": "87a71560",
   "metadata": {},
   "outputs": [],
   "source": [
    "∇(𝜔₁, E₁, 1)\n",
    "∇(𝜔₁, E₁, 0)"
   ]
  },
  {
   "cell_type": "markdown",
   "id": "cef1c586",
   "metadata": {},
   "source": [
    "$ \\omega_{t+1} := \\frac{\\operatorname{exp}(-\\frac{\\eta}{L}\\sum_{\\tau=1}^t \\nabla_t)}{\\operatorname{Tr}(\\operatorname{exp}(-\\frac{\\eta}{L}\\sum_{\\tau=1}^t \\nabla_t))}\n",
    "$"
   ]
  },
  {
   "cell_type": "code",
   "execution_count": null,
   "id": "1a38edba",
   "metadata": {},
   "outputs": [],
   "source": [
    "function next_𝜔(𝜔, 𝐸, 𝑌)\n",
    "    e = exp(-sum([∇(𝜔[i], 𝐸[i], 𝑌[i]) for i in 1:length(𝜔)]))\n",
    "    return e/tr(e)\n",
    "end"
   ]
  },
  {
   "cell_type": "markdown",
   "id": "64eed1bc",
   "metadata": {},
   "source": [
    "##### Main loop"
   ]
  },
  {
   "cell_type": "code",
   "execution_count": null,
   "id": "63e1b3eb",
   "metadata": {},
   "outputs": [],
   "source": [
    "𝜔₁ = [1/2 0; 0 1/2]\n",
    "𝜔 = []\n",
    "push!(𝜔, 𝜔₁)\n",
    "\n",
    "F = []\n",
    "\n",
    "for t in 1:length(𝑌)\n",
    "    𝜔ₜ = next_𝜔(𝜔, E, 𝑌)\n",
    "    push!(𝜔, 𝜔ₜ)\n",
    "    push!(F, fidelity(ρ, 𝜔ₜ))\n",
    "end  \n",
    "\n",
    "\n",
    "print(\"Final fidelity:\", fidelity(ρ, 𝜔[end]))\n",
    "\n",
    "plot(F, label=\"\")\n",
    "ylabel!(\"Fidelity, F\")\n",
    "title!( latexstring(L\"F = \\left( \\operatorname{Tr} \\sqrt{\\sqrt{\\rho} \\omega \\sqrt{\\rho}} \\right)^2\"))"
   ]
  },
  {
   "cell_type": "code",
   "execution_count": null,
   "id": "982f7567",
   "metadata": {},
   "outputs": [],
   "source": [
    "𝜔[end]"
   ]
  },
  {
   "cell_type": "code",
   "execution_count": null,
   "id": "914a98ae",
   "metadata": {},
   "outputs": [],
   "source": [
    "ρ "
   ]
  },
  {
   "cell_type": "markdown",
   "id": "6b3ee4a8",
   "metadata": {},
   "source": [
    "Try all together in one cell"
   ]
  },
  {
   "cell_type": "code",
   "execution_count": null,
   "id": "b4c33f5a",
   "metadata": {},
   "outputs": [],
   "source": [
    "ρ = ρᵣₐₙ(2)\n",
    "\n",
    "n = 1000 # number of measurements for each operator \n",
    "\n",
    "# Simulate measurements \n",
    "\n",
    "𝑌₁ₛ = rand(Bernoulli(abs(tr(E₁ₛ*ρ))), n)\n",
    "𝑌₂ₛ = rand(Bernoulli(abs(tr(E₂ₛ*ρ))), n)\n",
    "𝑌₃ₛ = rand(Bernoulli(abs(tr(E₃ₛ*ρ))), n)\n",
    "𝑌₄ₛ = rand(Bernoulli(abs(tr(E₄ₛ*ρ))), n)\n",
    "\n",
    "# Put all measurements in one sequence\n",
    "\n",
    "E = []\n",
    "𝑌 = []\n",
    "\n",
    "for i in 1:n\n",
    "    push!(E, E₁ₛ)\n",
    "    push!(𝑌, 𝑌₁ₛ[i])\n",
    "    \n",
    "    push!(E, E₂ₛ) \n",
    "    push!(𝑌, 𝑌₂ₛ[i])\n",
    "\n",
    "    push!(E, E₃ₛ)   \n",
    "    push!(𝑌, 𝑌₃ₛ[i])\n",
    "\n",
    "    push!(E, E₄ₛ)   \n",
    "    push!(𝑌, 𝑌₄ₛ[i])\n",
    "\n",
    "end\n",
    "\n",
    "# Choose initial guess\n",
    "\n",
    "𝜔₁ = [1/2 0; 0 1/2]\n",
    "𝜔 = []\n",
    "push!(𝜔, 𝜔₁)\n",
    "\n",
    "F = []\n",
    "\n",
    "# Run main loop\n",
    "\n",
    "for t in 1:length(𝑌)\n",
    "    𝜔ₜ = next_𝜔(𝜔, E, 𝑌)\n",
    "    push!(𝜔, 𝜔ₜ)\n",
    "    push!(F, fidelity(ρ, 𝜔ₜ))\n",
    "end  \n",
    "\n",
    "print(\"Final fidelity:\", fidelity(ρ, 𝜔[end]))\n",
    "\n",
    "plot(F, label=\"\")\n",
    "ylabel!(\"Fidelity, F\")\n",
    "title!( latexstring(L\"F = \\left( \\operatorname{Tr} \\sqrt{\\sqrt{\\rho} \\omega \\sqrt{\\rho}} \\right)^2\"))\n"
   ]
  },
  {
   "cell_type": "code",
   "execution_count": null,
   "id": "a1260171",
   "metadata": {},
   "outputs": [],
   "source": []
  }
 ],
 "metadata": {
  "@webio": {
   "lastCommId": null,
   "lastKernelId": null
  },
  "kernelspec": {
   "display_name": "Julia 1.7.2",
   "language": "julia",
   "name": "julia-1.7"
  },
  "language_info": {
   "file_extension": ".jl",
   "mimetype": "application/julia",
   "name": "julia",
   "version": "1.7.2"
  }
 },
 "nbformat": 4,
 "nbformat_minor": 5
}
