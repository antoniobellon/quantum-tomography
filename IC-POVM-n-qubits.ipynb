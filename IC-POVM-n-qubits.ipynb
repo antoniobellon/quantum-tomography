{
 "cells": [
  {
   "cell_type": "markdown",
   "id": "38b81381",
   "metadata": {},
   "source": [
    "### Quantum state tomography by on-line measuring with IC&SIC-POVM and MMW method\n",
    "(toy example with no noise)"
   ]
  },
  {
   "cell_type": "markdown",
   "id": "c4fe87f2",
   "metadata": {},
   "source": [
    "The problem of state tomography is estimating the state of the quantum system that is fully described by its density matrix $\\rho$ from the measuarements with possible outcomes $\\{0, 1\\}$ of some observables $\\{E_i\\}$ where the probability to obtain \"1\" when measure the observable $E_i$ is $p(m) = \\operatorname{Tr}(E_m \\rho)$"
   ]
  },
  {
   "cell_type": "code",
   "execution_count": 1,
   "id": "90a7e28a",
   "metadata": {},
   "outputs": [],
   "source": [
    "using LinearAlgebra\n",
    "using Kronecker\n",
    "using IterTools\n",
    "using Statistics\n",
    "using PyPlot"
   ]
  },
  {
   "cell_type": "markdown",
   "id": "dc11d68f",
   "metadata": {},
   "source": [
    "Function to generate an random $n \\times n$ desity matrix we want to indentify (consider unknown)\n",
    "\n",
    "In our toy example consider $2 \\times 2$ desity matrix:\n",
    "\\begin{align}\n",
    "  \\rho = \n",
    "        \\left(\n",
    "        \\begin{array}{ccccc}\n",
    "            \\rho_{00}   &   \\rho_{01}  \\\\\n",
    "            \\rho_{01}^*  &  \\rho_{11} \\\\\n",
    "        \\end{array}\n",
    "        \\right)\n",
    "\\end{align}"
   ]
  },
  {
   "cell_type": "code",
   "execution_count": 2,
   "id": "f78b09b3",
   "metadata": {},
   "outputs": [
    {
     "data": {
      "text/plain": [
       "2×2 Hermitian{ComplexF64, Matrix{ComplexF64}}:\n",
       "   0.462199+0.0im       -0.0570153-0.236289im\n",
       " -0.0570153+0.236289im    0.537801+0.0im"
      ]
     },
     "execution_count": 2,
     "metadata": {},
     "output_type": "execute_result"
    }
   ],
   "source": [
    "function ρᵣₐₙ(n)\n",
    "    # return a random density matrix\n",
    "    ρ = -1 .+ 2 * rand(n, n) \n",
    "    ρ += im * (-1 .+ 2 * rand(n, n))  \n",
    "    ρ = ρ * ρ'\n",
    "    Hermitian(ρ / tr(ρ))\n",
    "end\n",
    "ρᵣₐₙ(2)"
   ]
  },
  {
   "cell_type": "markdown",
   "id": "4a58306a",
   "metadata": {},
   "source": [
    "We can use fidelity to check the similarity of quantum states\n",
    "$F = \\left( \\operatorname{Tr} \\sqrt{\\sqrt{\\rho} \\omega \\sqrt{\\rho}} \\right)^2$"
   ]
  },
  {
   "cell_type": "code",
   "execution_count": 3,
   "id": "aa8b7add",
   "metadata": {},
   "outputs": [
    {
     "name": "stdout",
     "output_type": "stream",
     "text": [
      "0.6376188977324507\n",
      "0.9999999999999982\n"
     ]
    }
   ],
   "source": [
    "function fidelity(ρ, 𝜔)\n",
    "    s = sqrt(sqrt(ρ)*𝜔*sqrt(ρ))\n",
    "    return abs(tr(s)^2)\n",
    "end \n",
    "ρ₁ = ρᵣₐₙ(2)\n",
    "ρ₂ = [1/2 0; 0 1/2]\n",
    "println(fidelity(ρ₁, ρ₂))\n",
    "println(fidelity(ρ₁, ρ₁))"
   ]
  },
  {
   "cell_type": "markdown",
   "id": "ba6205af",
   "metadata": {},
   "source": [
    "To perform quantun state tomography we need to measure quantum system with <br> a set of Positive operator-valued measure (POVM) operators $\\{E_i\\}$ that should be <b> informationally complete (IC)</b>. \n",
    "\n",
    "### POVM Definition\n",
    "\n",
    "A POVM over a $d$-dimensional Hilbert space $\\mathcal{H}$ is a set of $m$ positive-semidefinite operators operators $E = \\{E_i\\ | i \\in \\{1,...,m\\} \\}$ on the Hilbert space that sum to identity: \n",
    "$\\sum_{i=1}^m{E_i} = I$."
   ]
  },
  {
   "cell_type": "markdown",
   "id": "e27d6d01",
   "metadata": {},
   "source": [
    " ### IS POVM and SIC POVM definitions\n",
    " If a POVM consists of at least $d^{2}$ operators which span the space of self-adjoint operators $\\mathcal{L}(\\mathcal {H})$, <br> it is said to be an <b> informationally complete POVM (IC-POVM)</b>. <br> IC-POVMs consisting of exactly $ d^{2}$ elements are called minimal.\n",
    " \n",
    "A set of $d^{2}$ rank-1 projectors $\\Pi =\\left\\{\\Pi_{i}\\mid i\\in \\{1,\\ldots ,d^{2}\\}\\land \\Pi_{i}^{2}=\\Pi _{i}\\right\\}$ which have equal pairwise Hilbert–Schmidt inner products,\n",
    "\\begin{align}\n",
    "\\operatorname{Tr}(\\Pi_i \\Pi_j) = \\frac{d \\delta_{ij} + 1}{d+1},\n",
    "\\end{align}\n",
    "defines a minimal IC-POVM $E = \\{E_i\\ | i \\in \\{1,...,d^2\\} \\land E_i  = \\frac{1}{d} \\Pi_i \\land \\Pi_i \\in \\Pi \\}$ called \n",
    "<b> symmetric, informationally complete, positive operator-valued measure (SIC-POVM) </b>.\n",
    "\n",
    "https://en.wikipedia.org/wiki/SIC-POVM"
   ]
  },
  {
   "cell_type": "markdown",
   "id": "0d79195e",
   "metadata": {},
   "source": [
    "#### SIC POVM example for one qubit\n",
    "In the Bloch sphere representation of a qubit, the states of a SIC-POVM form a regular tetrahedron:\n",
    "<img src=\"Regular_tetrahedron_inscribed_in_a_sphere.svg.png\" alt=\"One qubit SIC-POVM Tetrahedron\" style=\"width:400px;\"/>"
   ]
  },
  {
   "cell_type": "markdown",
   "id": "584e7d69",
   "metadata": {},
   "source": [
    "For one qubit ($d=2$) we can consider the following set of SIC-POVM ket-states:\n",
    "\n",
    "\\begin{align}\n",
    "|\\psi_1 \\rangle  = |0\\rangle, \\quad\n",
    "|\\psi_2 \\rangle  = \\frac{1}{\\sqrt{3}}|0\\rangle + - \\sqrt{\\frac{2}{3}}|1\\rangle, \\quad\n",
    "|\\psi_3 \\rangle  = \\frac{1}{\\sqrt{3}}|0\\rangle + \\sqrt{\\frac{2}{3}} e^{i \\frac{2 \\pi}{3}}|1\\rangle, \\quad\n",
    "|\\psi_4 \\rangle  = \\frac{1}{\\sqrt{3}}|0\\rangle + \\sqrt{\\frac{2}{3}} e^{i \\frac{4 \\pi}{3}}|1\\rangle \\quad\n",
    "\\end{align}"
   ]
  },
  {
   "cell_type": "markdown",
   "id": "c0eec19f",
   "metadata": {},
   "source": [
    "we use Dirac bra-ket notation\n",
    "$|\\psi\\rangle = \\langle \\psi |^\\dagger$ :\n",
    "\\begin{align}\n",
    "|\\psi\\rangle =\n",
    " \\begin{pmatrix}\n",
    " \\alpha_1 + i \\beta_1 \\\\\n",
    " \\alpha_2 + i \\beta_2\n",
    " \\end{pmatrix}, \\quad \n",
    " \\langle \\psi | = \\begin{pmatrix}\n",
    " \\alpha_1 - i \\beta_1 &\n",
    " \\alpha_2 - i \\beta_2\n",
    " \\end{pmatrix}, \\quad \\alpha_i, \\beta_i \\in \\mathbb{R}\n",
    "\\end{align}"
   ]
  },
  {
   "cell_type": "markdown",
   "id": "86e95b6a",
   "metadata": {},
   "source": [
    "This set of states $\\{ |\\psi_i \\rangle \\}$corresponds to the set of projectors $\\{ \\Pi_i = |\\psi_i \\rangle \\langle \\psi_i | \\}$ <br> and corresponding set of SIC-POVM measurement operators<br>\n",
    "$E = \\{E_i\\ | i \\in \\{1,...,4\\} \\land  E_i  = \\frac{1}{2} \\Pi_i \\}$ on the Hilbert space that sum to identity $\\sum_{i=1}^m{E_i} = I$.\n",
    "\n",
    "\\begin{align}\n",
    " \\Pi_1 = 2E_1 = |\\psi_1\\rangle \\langle \\psi_1|= |0\\rangle \\langle 0|=\n",
    "          \\left(\n",
    "        \\begin{array}{ccccc}\n",
    "            1  \\\\\n",
    "            0  \\\\\n",
    "        \\end{array}\n",
    "        \\right) \n",
    "          \\left(\n",
    "        \\begin{array}{ccccc}\n",
    "            1   &   0  \\\\\n",
    "        \\end{array}\n",
    "        \\right) = \n",
    "        \\left(\n",
    "        \\begin{array}{ccccc}\n",
    "            1   &  0 \\\\\n",
    "            0   &  0 \\\\\n",
    "        \\end{array}\n",
    "        \\right)\n",
    "\\end{align}\n",
    "\n"
   ]
  },
  {
   "cell_type": "code",
   "execution_count": 4,
   "id": "fce5e0f7",
   "metadata": {},
   "outputs": [
    {
     "data": {
      "text/plain": [
       "2×2 Matrix{Float64}:\n",
       " 0.5  0.0\n",
       " 0.0  0.0"
      ]
     },
     "execution_count": 4,
     "metadata": {},
     "output_type": "execute_result"
    }
   ],
   "source": [
    "Π₁ = [1 0; 0 0]\n",
    "E₁ = [1/2 0; 0 0]"
   ]
  },
  {
   "cell_type": "markdown",
   "id": "8d1d345d",
   "metadata": {},
   "source": [
    "\\begin{align}\n",
    " \\Pi_2 = 2 E_2 = |\\psi_2\\rangle \\langle \\psi_2|= \n",
    " \\left(\\frac{1}{\\sqrt 3}|0\\rangle  + \\sqrt{\\frac{2}{3}}|1\\rangle \\right) \\left(\\frac{1}{\\sqrt 3}\\langle 0| + \\sqrt{\\frac{2}{3}}\\langle 1| \\right) = \n",
    "     \\left(\n",
    "        \\begin{array}{ccccc}\n",
    "            1/\\sqrt{3}   \\\\  \\sqrt{\\frac{2}{3}} \n",
    "        \\end{array}        \n",
    "        \\right)\n",
    "        \\left(\n",
    "        \\begin{array}{ccccc}\n",
    "            1/\\sqrt{3}   &  \\sqrt{\\frac{2}{3}} \\\\\n",
    "        \\end{array}        \n",
    "        \\right) \n",
    "         =\n",
    "        \\left(\n",
    "        \\begin{array}{ccccc}\n",
    "           1/3 &  \\sqrt{2}/3 \\\\\n",
    "           \\sqrt{2}/3 & 2/3 \\\\\n",
    "        \\end{array}        \n",
    "        \\right)       \n",
    "\\end{align}"
   ]
  },
  {
   "cell_type": "code",
   "execution_count": 5,
   "id": "76842c31",
   "metadata": {},
   "outputs": [
    {
     "data": {
      "text/plain": [
       "2×2 Matrix{Float64}:\n",
       " 0.166667  0.235702\n",
       " 0.235702  0.333333"
      ]
     },
     "execution_count": 5,
     "metadata": {},
     "output_type": "execute_result"
    }
   ],
   "source": [
    "Π₂ = [1/3 √2/3; √2/3 2/3]\n",
    "E₂ = [1/6 √2/6; √2/6 2/6]"
   ]
  },
  {
   "cell_type": "markdown",
   "id": "857bf232",
   "metadata": {},
   "source": [
    "\\begin{align}\n",
    " \\Pi_3 = 2  E_3 = |\\psi_3\\rangle \\langle \\psi_3|= \n",
    " \\left(\\frac{1}{\\sqrt 3}|0\\rangle  + \\sqrt{\\frac{2}{3}}e^{i\\frac{2 \\pi}{3}}|1\\rangle \\right) \\left(\\frac{1}{\\sqrt 3}\\langle 0| + \\sqrt{\\frac{2}{3}}e^{-i\\frac{2 \\pi}{3}}\\langle 1| \\right) =\n",
    "        \\left(\n",
    "        \\begin{array}{ccccc}\n",
    "           1/3 &  \\sqrt{2}e^{-i\\frac{2 \\pi}{3}}/3 \\\\\n",
    "           \\sqrt{2}e^{i\\frac{2 \\pi}{3}}/3 & 2/3 \\\\\n",
    "        \\end{array}        \n",
    "        \\right)       \n",
    "\\end{align}"
   ]
  },
  {
   "cell_type": "code",
   "execution_count": 6,
   "id": "518bf458",
   "metadata": {},
   "outputs": [
    {
     "data": {
      "text/plain": [
       "2×2 Matrix{ComplexF64}:\n",
       "  0.166667+0.0im       -0.117851+0.204124im\n",
       " -0.117851-0.204124im   0.333333+0.0im"
      ]
     },
     "execution_count": 6,
     "metadata": {},
     "output_type": "execute_result"
    }
   ],
   "source": [
    "Π₃ = [1/3 exp(im*2π/3)√2/3; exp(-im*2π/3)√2/3 2/3]\n",
    "E₃ = [1/6 exp(im*2π/3)√2/6; exp(-im*2π/3)√2/6 2/6]"
   ]
  },
  {
   "cell_type": "markdown",
   "id": "85f8d6e4",
   "metadata": {},
   "source": [
    "\\begin{align}\n",
    " \\Pi_4 = 2  E_4 = |\\psi_4\\rangle \\langle \\psi_4|= \n",
    " \\left(\\frac{1}{\\sqrt 3}|0\\rangle  + \\sqrt{\\frac{2}{3}}e^{i\\frac{4 \\pi}{3}}|1\\rangle \\right) \\left(\\frac{1}{\\sqrt 3}\\langle 0| + \\sqrt{\\frac{2}{3}}e^{-i\\frac{4 \\pi}{3}}\\langle 1| \\right) =\n",
    "        \\left(\n",
    "        \\begin{array}{ccccc}\n",
    "           1/3 &  \\sqrt{2}e^{-i\\frac{4 \\pi}{3}}/3 \\\\\n",
    "           \\sqrt{2}e^{i\\frac{4 \\pi}{3}}/3 & 2/3 \\\\\n",
    "        \\end{array}        \n",
    "        \\right)       \n",
    "\\end{align}"
   ]
  },
  {
   "cell_type": "code",
   "execution_count": 7,
   "id": "b3f6c6c7",
   "metadata": {},
   "outputs": [
    {
     "data": {
      "text/plain": [
       "2×2 Matrix{ComplexF64}:\n",
       "  0.166667+0.0im       -0.117851-0.204124im\n",
       " -0.117851+0.204124im   0.333333+0.0im"
      ]
     },
     "execution_count": 7,
     "metadata": {},
     "output_type": "execute_result"
    }
   ],
   "source": [
    "Π₄ = [1/3 exp(im*4π/3)√2/3; exp(-im*4π/3)√2/3 2/3]\n",
    "E₄ = [1/6 exp(im*4π/3)√2/6; exp(-im*4π/3)√2/6 2/6]"
   ]
  },
  {
   "cell_type": "markdown",
   "id": "7b4be34b",
   "metadata": {},
   "source": [
    "Check $\\sum_{i=1}^m{E_i} = I$"
   ]
  },
  {
   "cell_type": "code",
   "execution_count": 8,
   "id": "8c0efe73",
   "metadata": {},
   "outputs": [
    {
     "data": {
      "text/plain": [
       "2×2 Matrix{ComplexF64}:\n",
       "          1.0+0.0im          -5.55112e-17+5.55112e-17im\n",
       " -5.55112e-17-5.55112e-17im           1.0+0.0im"
      ]
     },
     "execution_count": 8,
     "metadata": {},
     "output_type": "execute_result"
    }
   ],
   "source": [
    "E₁ + E₂ + E₃ + E₄"
   ]
  },
  {
   "cell_type": "markdown",
   "id": "05d8a381",
   "metadata": {},
   "source": [
    "#### Genetate IC-POVM for $n$ qubits"
   ]
  },
  {
   "cell_type": "markdown",
   "id": "0e3d068a",
   "metadata": {},
   "source": [
    "Conside 2 qubit first"
   ]
  },
  {
   "cell_type": "code",
   "execution_count": 9,
   "id": "b4a36e50",
   "metadata": {},
   "outputs": [
    {
     "data": {
      "text/plain": [
       "4"
      ]
     },
     "execution_count": 9,
     "metadata": {},
     "output_type": "execute_result"
    }
   ],
   "source": [
    "n = 2\n",
    "d = 2^n"
   ]
  },
  {
   "cell_type": "markdown",
   "id": "ed711f12",
   "metadata": {},
   "source": [
    "Lets $ \\{ \\Pi_k \\}_{k=1}^4 = \\{ \\Pi_1, \\Pi_2, \\Pi_3, \\Pi_4 \\}$ - are projectors for SIC POVM as described above and\n",
    "as $ E_i  = \\frac{1}{d} \\Pi_i = \\frac{1}{2} \\Pi_i$ for one qubit $(d=2)$ then \n",
    "$ \\{ E_k \\}_{k=1}^4 = \\{ E_1, E_2, E_3, E_4 \\} = \\{ \\Pi_1/2, \\Pi_2/2, \\Pi_3/2, \\Pi_4/2 \\} $ - minimal information complete POVM for a single qubit"
   ]
  },
  {
   "cell_type": "code",
   "execution_count": 10,
   "id": "0ecc0e18",
   "metadata": {},
   "outputs": [],
   "source": [
    "Π₍1q₎ = [Π₁, Π₂, Π₃, Π₄]; \n",
    "E₍1q₎ = [Π₁, Π₂, Π₃, Π₄]/2;"
   ]
  },
  {
   "cell_type": "markdown",
   "id": "27f04b47",
   "metadata": {},
   "source": [
    "Lets show that $ \\{ E_k \\otimes E_l \\}_{k,l=1}^4 $ - is a minimal information complete POVM for a 2 qubits"
   ]
  },
  {
   "cell_type": "markdown",
   "id": "5f603408",
   "metadata": {},
   "source": [
    "Positivity follows trivially, then chech the sum\n",
    "\\begin{align}\n",
    "\\sum_{k,l=1}^4 E_k \\otimes E_l  = \\sum_{k=1}^4 E_k \\otimes \\sum_{l=1}^4 E_l = I_2 \\otimes I_2 = I_4\n",
    "\\end{align}"
   ]
  },
  {
   "cell_type": "markdown",
   "id": "5c84f4f1",
   "metadata": {},
   "source": [
    "#### IC POVM operators set for n-qubits\n",
    "For arbitrary number of qubits we will have the following IC set of POVM operators <br>\n",
    " $ \\{ E_{i_1} \\otimes E_{i_2} \\otimes ... \\otimes E_{i_{n-1}} \\otimes E_{i_n} \\}_{i_1,i_2, ... i_n =1}^4 $ - is a minimal information complete POVM for a $n$ qubits, <br>\n",
    " where $ \\{ E_k \\}_{k=1}^4 = \\{ E_1, E_2, E_3, E_4 \\} $ - information complete POVM for a single qubit.\n",
    "\n",
    "The following function implements the generation of IC POVM set of operators for arbitrary number of qubits $n$ and arbitrary set of initial IC POVM operators for one qubit."
   ]
  },
  {
   "cell_type": "code",
   "execution_count": 41,
   "id": "4e384df4",
   "metadata": {},
   "outputs": [
    {
     "data": {
      "text/plain": [
       "ICPOVM (generic function with 1 method)"
      ]
     },
     "execution_count": 41,
     "metadata": {},
     "output_type": "execute_result"
    }
   ],
   "source": [
    "function ICPOVM(E₍1q₎, n)\n",
    "    # E - informationally complete (IC) set of POVM operators for one qubit\n",
    "    # n - number of qubits\n",
    "    E₍nq₎ = [convert(Matrix{ComplexF64}, reduce(⊗, ops)) for ops in product(repeat([E₍1q₎], n)...)]\n",
    "    return E₍nq₎\n",
    "end    "
   ]
  },
  {
   "cell_type": "code",
   "execution_count": 32,
   "id": "34d16cb9",
   "metadata": {},
   "outputs": [
    {
     "data": {
      "text/plain": [
       "true"
      ]
     },
     "execution_count": 32,
     "metadata": {},
     "output_type": "execute_result"
    }
   ],
   "source": [
    "E₍2q₎ = ICPOVM(E₍1q₎, 2)\n",
    "abs.(sum(E₍2q₎)) ≈ I\n",
    "#E₍2q₎[1]"
   ]
  },
  {
   "cell_type": "markdown",
   "id": "eb325a99",
   "metadata": {},
   "source": [
    "#### Probability to obtain \"1\" when measure the observable $E_m$ is \n",
    "\n",
    "$p(m) = \\operatorname{Tr}(E_m \\rho)$\n",
    "\n",
    "for example:"
   ]
  },
  {
   "cell_type": "code",
   "execution_count": 13,
   "id": "4a5829a5",
   "metadata": {},
   "outputs": [
    {
     "data": {
      "text/plain": [
       "0.0717775341493033"
      ]
     },
     "execution_count": 13,
     "metadata": {},
     "output_type": "execute_result"
    }
   ],
   "source": [
    "p₁ = abs(tr(E₍2q₎[1]*ρᵣₐₙ(4)))"
   ]
  },
  {
   "cell_type": "markdown",
   "id": "cde360ef",
   "metadata": {},
   "source": [
    "We can generate sequence that simulate measurements $Y$ with outcomes $\\{0,1\\}$ of the particular observable, for example"
   ]
  },
  {
   "cell_type": "code",
   "execution_count": 14,
   "id": "e9d86d02",
   "metadata": {},
   "outputs": [
    {
     "name": "stdout",
     "output_type": "stream",
     "text": [
      "Bool[0 0 1 0 1 0 0 0 1 0 0 0 0 0 0 0 0 0 0 0 0 0 0 0 0 0 1 0 0 0 0 0 0 0 0 0 0 0 0 0 0 0 0 0 0 0 0 0 0 0 0 0 0 0 0 1 0 0 1 0 0 0 0 0 0 0 0 0 0 0 0 0 0 0 0 0 0 0 0 0 0 0 0 0 0 0 0 0 0 0 0 0 0 0 0 0 0 0 0 0]"
     ]
    },
    {
     "data": {
      "text/plain": [
       "0.06"
      ]
     },
     "execution_count": 14,
     "metadata": {},
     "output_type": "execute_result"
    }
   ],
   "source": [
    "using Random, Distributions\n",
    "𝑌₁ = rand(Bernoulli(p₁), 100)\n",
    "print(𝑌₁')\n",
    "mean(𝑌₁)"
   ]
  },
  {
   "cell_type": "markdown",
   "id": "469199a8",
   "metadata": {},
   "source": [
    "#### MAIN PART "
   ]
  },
  {
   "cell_type": "markdown",
   "id": "c68ca21f",
   "metadata": {},
   "source": [
    "#### 01. Genarate random density matrix (consider unknown)"
   ]
  },
  {
   "cell_type": "code",
   "execution_count": 15,
   "id": "7d028ca1",
   "metadata": {},
   "outputs": [
    {
     "data": {
      "text/plain": [
       "4×4 Hermitian{ComplexF64, Matrix{ComplexF64}}:\n",
       "    0.231679+0.0im         …   -0.182208-0.00658168im\n",
       " -0.00054576-0.0177044im      -0.0501105-0.0262197im\n",
       "   0.0828081+0.0412736im       -0.121478-0.00802226im\n",
       "   -0.182208+0.00658168im       0.310799+0.0im"
      ]
     },
     "execution_count": 15,
     "metadata": {},
     "output_type": "execute_result"
    }
   ],
   "source": [
    "n = 2\n",
    "d = n^2\n",
    "ρ = ρᵣₐₙ(d)\n",
    "#ρ = [1/2 0 ; 0 1/2]\n",
    "#ρ = [1 0 ; 0 0]"
   ]
  },
  {
   "cell_type": "markdown",
   "id": "ca6f1b3e",
   "metadata": {},
   "source": [
    "#### 02. Simulate measuremnets with SIC-POVM operators"
   ]
  },
  {
   "cell_type": "code",
   "execution_count": 33,
   "id": "441e59b1",
   "metadata": {},
   "outputs": [],
   "source": [
    "T = 100 # number of measurements for each operator \n",
    "\n",
    "# Simulate measurements\n",
    "Ys = [rand(Bernoulli(abs(tr(Eᵢ*ρ))), T) for Eᵢ in E₍2q₎]\n",
    "\n",
    "# Combine all measurements in one sequence\n",
    "E = []; Y = []\n",
    "\n",
    "for t in 1:T\n",
    "    for i in 1:length(E₍2q₎)\n",
    "    push!(E, E₍2q₎[i])\n",
    "    push!(Y, Ys[i][t])\n",
    "    end\n",
    "end"
   ]
  },
  {
   "cell_type": "markdown",
   "id": "ec131927",
   "metadata": {},
   "source": [
    "#### Matrix Multiplicative Weights (MMW) algorithm [Tsuda et al., 2005]\n",
    "as described in Online Learning of Quantum States by Elad Hazan and others"
   ]
  },
  {
   "cell_type": "markdown",
   "id": "5bd8d3e0",
   "metadata": {},
   "source": [
    "#### 1. Set $\\omega_1 := 2^{-n} I$\n",
    "for 2 qubits it is just \n",
    "\n",
    "\\begin{align}\n",
    "    \\omega_1 := \\begin{pmatrix}\n",
    "        1/4 & 0 & 0 & 0\\\\\n",
    "        0 & 1/4 & 0 & 0\\\\\n",
    "        0 & 0 & 1/4 & 0\\\\\n",
    "        0 & 0 & 0 & 1/4\n",
    "    \\end{pmatrix}\n",
    "\\end{align}"
   ]
  },
  {
   "cell_type": "code",
   "execution_count": 17,
   "id": "13a02172",
   "metadata": {},
   "outputs": [
    {
     "data": {
      "text/plain": [
       "4×4 Matrix{Float64}:\n",
       " 0.25  0.0   0.0   0.0\n",
       " 0.0   0.25  0.0   0.0\n",
       " 0.0   0.0   0.25  0.0\n",
       " 0.0   0.0   0.0   0.25"
      ]
     },
     "execution_count": 17,
     "metadata": {},
     "output_type": "execute_result"
    }
   ],
   "source": [
    "𝜔₁ = Matrix(I(d)/2^n)"
   ]
  },
  {
   "cell_type": "markdown",
   "id": "c67a8aa5",
   "metadata": {},
   "source": [
    "#### 2. Update $\\omega_{t+1}$:"
   ]
  },
  {
   "cell_type": "markdown",
   "id": "4cda003b",
   "metadata": {},
   "source": [
    "To predict $\\omega_{t+1}$ we use the gradient:\n",
    "$ \\nabla_t (\\omega_t) := 2\\left({\\operatorname{Tr}(E_t \\omega_t) - Y_t} \\right) E_t$ "
   ]
  },
  {
   "cell_type": "code",
   "execution_count": 18,
   "id": "92a5d099",
   "metadata": {},
   "outputs": [
    {
     "data": {
      "text/plain": [
       "∇ (generic function with 1 method)"
      ]
     },
     "execution_count": 18,
     "metadata": {},
     "output_type": "execute_result"
    }
   ],
   "source": [
    "function ∇(𝜔ₜ, 𝐸ₜ, 𝑌ₜ)\n",
    "    return 2*(tr(𝐸ₜ*𝜔ₜ)-𝑌ₜ)*𝐸ₜ\n",
    "end"
   ]
  },
  {
   "cell_type": "code",
   "execution_count": 19,
   "id": "87a71560",
   "metadata": {},
   "outputs": [
    {
     "data": {
      "text/plain": [
       "4×4 Kronecker.KroneckerProduct{ComplexF64, Matrix{ComplexF64}, Matrix{ComplexF64}}:\n",
       " 0.03125+0.0im  0.0+0.0im  0.0+0.0im  0.0+0.0im\n",
       "     0.0+0.0im  0.0+0.0im  0.0+0.0im  0.0+0.0im\n",
       "     0.0+0.0im  0.0+0.0im  0.0+0.0im  0.0+0.0im\n",
       "     0.0+0.0im  0.0+0.0im  0.0+0.0im  0.0+0.0im"
      ]
     },
     "execution_count": 19,
     "metadata": {},
     "output_type": "execute_result"
    }
   ],
   "source": [
    "∇(𝜔₁, E₍2q₎[1], 1)\n",
    "∇(𝜔₁, E₍2q₎[1], 0)"
   ]
  },
  {
   "cell_type": "markdown",
   "id": "cef1c586",
   "metadata": {},
   "source": [
    "$ \\omega_{t+1} := \\frac{\\operatorname{exp}(-\\frac{\\eta}{L}\\sum_{\\tau=1}^t \\nabla_t)}{\\operatorname{Tr}(\\operatorname{exp}(-\\frac{\\eta}{L}\\sum_{\\tau=1}^t \\nabla_t))}\n",
    "$"
   ]
  },
  {
   "cell_type": "code",
   "execution_count": 20,
   "id": "1a38edba",
   "metadata": {},
   "outputs": [
    {
     "data": {
      "text/plain": [
       "next_𝜔 (generic function with 1 method)"
      ]
     },
     "execution_count": 20,
     "metadata": {},
     "output_type": "execute_result"
    }
   ],
   "source": [
    "function next_𝜔(𝜔, 𝐸, 𝑌)\n",
    "    e = exp(-sum([∇(𝜔[i], 𝐸[i], 𝑌[i]) for i in 1:length(𝜔)]))\n",
    "    return e/tr(e)\n",
    "end"
   ]
  },
  {
   "cell_type": "markdown",
   "id": "64eed1bc",
   "metadata": {},
   "source": [
    "##### Main loop"
   ]
  },
  {
   "cell_type": "code",
   "execution_count": 34,
   "id": "63e1b3eb",
   "metadata": {},
   "outputs": [],
   "source": [
    "n = 2\n",
    "d = 2^n\n",
    "#ρ = ρᵣₐₙ(d)\n",
    "ρ = [1 0 0 0; 0 0 0 0; 0 0 0 0; 0 0 0 0 ]\n",
    "\n",
    "𝜔₁ = Matrix(I(d)/2^n)\n",
    "\n",
    "𝜔 = []\n",
    "push!(𝜔, 𝜔₁)\n",
    "\n",
    "F = []\n",
    "\n",
    "for t in 1:length(Y)\n",
    "    𝜔ₜ = next_𝜔(𝜔, E, Y)\n",
    "    push!(𝜔, 𝜔ₜ)\n",
    "    push!(F, fidelity(ρ, 𝜔ₜ))\n",
    "end  "
   ]
  },
  {
   "cell_type": "code",
   "execution_count": 35,
   "id": "3c17835e",
   "metadata": {},
   "outputs": [
    {
     "name": "stdout",
     "output_type": "stream",
     "text": [
      "Final fidelity:0.880289889589827PyObject Text(0.5, 1.0, '$F = \\\\left( \\\\operatorname{Tr} \\\\sqrt{\\\\sqrt{\\\\rho} \\\\omega \\\\sqrt{\\\\rho}} \\\\right)^2$')"
     ]
    },
    {
     "data": {
      "image/png": "[encoded data removed]",
      "text/plain": [
       "Figure(PyObject <Figure size 640x480 with 1 Axes>)"
      ]
     },
     "metadata": {},
     "output_type": "display_data"
    }
   ],
   "source": [
    "print(\"Final fidelity:\", fidelity(ρ, 𝜔[end]))\n",
    "\n",
    "plt = plot(F, label=\"\")\n",
    "plt = ylabel(\"Fidelity, F\")\n",
    "plt = title( latexstring(L\"F = \\left( \\operatorname{Tr} \\sqrt{\\sqrt{\\rho} \\omega \\sqrt{\\rho}} \\right)^2\"))\n",
    "show(plt)"
   ]
  },
  {
   "cell_type": "code",
   "execution_count": 22,
   "id": "982f7567",
   "metadata": {},
   "outputs": [
    {
     "data": {
      "text/plain": [
       "4×4 Matrix{Float64}:\n",
       " 0.25  0.0   0.0   0.0\n",
       " 0.0   0.25  0.0   0.0\n",
       " 0.0   0.0   0.25  0.0\n",
       " 0.0   0.0   0.0   0.25"
      ]
     },
     "execution_count": 22,
     "metadata": {},
     "output_type": "execute_result"
    }
   ],
   "source": [
    "𝜔[end]"
   ]
  },
  {
   "cell_type": "code",
   "execution_count": 23,
   "id": "914a98ae",
   "metadata": {},
   "outputs": [
    {
     "data": {
      "text/plain": [
       "4×4 Matrix{Int64}:\n",
       " 1  0  0  0\n",
       " 0  0  0  0\n",
       " 0  0  0  0\n",
       " 0  0  0  0"
      ]
     },
     "execution_count": 23,
     "metadata": {},
     "output_type": "execute_result"
    }
   ],
   "source": [
    "ρ "
   ]
  },
  {
   "cell_type": "markdown",
   "id": "6b3ee4a8",
   "metadata": {},
   "source": [
    "Try all together in one cell for $n=3$ qubit"
   ]
  },
  {
   "cell_type": "code",
   "execution_count": 45,
   "id": "fa3097b6",
   "metadata": {},
   "outputs": [
    {
     "name": "stdout",
     "output_type": "stream",
     "text": [
      "Final fidelity:0.7661855284555711PyObject Text(0.5, 1.0, '$F = \\\\left( \\\\operatorname{Tr} \\\\sqrt{\\\\sqrt{\\\\rho} \\\\omega \\\\sqrt{\\\\rho}} \\\\right)^2$')"
     ]
    },
    {
     "data": {
      "image/png": "[encoded data removed]",
      "text/plain": [
       "Figure(PyObject <Figure size 640x480 with 1 Axes>)"
      ]
     },
     "metadata": {},
     "output_type": "display_data"
    }
   ],
   "source": [
    "n = 3         # number of qubits\n",
    "d = 2^n       # dimentionality of Hilbert spase \n",
    "ρ = ρᵣₐₙ(d)   # random density matrix (consider unknown)\n",
    "\n",
    "T = 500      # number of measurements for each operator \n",
    "\n",
    "# Generate operators\n",
    "\n",
    "E₍nq₎ = ICPOVM(E₍1q₎, n)\n",
    "\n",
    "# Simulate measurements\n",
    "Ys = [ rand(Bernoulli(abs(tr(Eᵢ*ρ))), T) for Eᵢ in E₍nq₎]\n",
    "\n",
    "# Combine all measurements in one sequence \n",
    "E = [] ; Y = []\n",
    "\n",
    "@time for t in 1:T\n",
    "    for i in 1:length(E₍nq₎)\n",
    "    push!(E, E₍nq₎[i])\n",
    "    push!(Y, Ys[i][t])\n",
    "    end\n",
    "end\n",
    "\n",
    "# Choose initial guess\n",
    "\n",
    "𝜔₁ = Matrix(I(d)/2^n)\n",
    "𝜔 = []\n",
    "push!(𝜔, 𝜔₁)\n",
    "\n",
    "F = []\n",
    "\n",
    "# Run main loop\n",
    "\n",
    "@time for t in 1:length(Y)\n",
    "    𝜔ₜ = next_𝜔(𝜔, E, Y)\n",
    "    push!(𝜔, 𝜔ₜ)\n",
    "    push!(F, fidelity(ρ, 𝜔ₜ))\n",
    "end  \n",
    "\n",
    "# Show results\n",
    "\n",
    "print(\"Final fidelity:\", fidelity(ρ, 𝜔[end]))\n",
    "\n",
    "plt = plot(F, label=\"\")\n",
    "plt = ylabel(\"Fidelity, F\")\n",
    "plt = title( latexstring(L\"F = \\left( \\operatorname{Tr} \\sqrt{\\sqrt{\\rho} \\omega \\sqrt{\\rho}} \\right)^2\"))\n",
    "show(plt)\n"
   ]
  },
  {
   "cell_type": "code",
   "execution_count": 46,
   "id": "0f6312c4",
   "metadata": {},
   "outputs": [
    {
     "data": {
      "text/plain": [
       "8×8 Matrix{ComplexF64}:\n",
       "    0.175427+7.26662e-18im  …     0.0279198+0.0167583im\n",
       "  -0.0274211+0.0980503im         -0.0260363+0.0363866im\n",
       "  -0.0137835+0.00785315im      -0.000104608+0.0630016im\n",
       "  -0.0163637+0.0231951im        -0.00193273-0.0167105im\n",
       " -0.00083621+0.0232917im          0.0081563+0.0302984im\n",
       "  -0.0244131-0.0548828im    …    -0.0180311-0.0136711im\n",
       "    0.101156-0.0203229im         -0.0282817+0.0412155im\n",
       "   0.0279198-0.0167583im           0.129361+3.61444e-18im"
      ]
     },
     "execution_count": 46,
     "metadata": {},
     "output_type": "execute_result"
    }
   ],
   "source": [
    "𝜔[end]"
   ]
  },
  {
   "cell_type": "code",
   "execution_count": 47,
   "id": "b97501cb",
   "metadata": {},
   "outputs": [
    {
     "data": {
      "text/plain": [
       "8×8 Hermitian{ComplexF64, Matrix{ComplexF64}}:\n",
       "    0.133074+0.0im         …  -0.0340273+0.015205im\n",
       "  -0.0217333+0.0370443im       -0.053114-0.0165206im\n",
       " -0.00615634-0.00479062im     0.00464469-0.00488382im\n",
       "  -0.0257038-0.0109454im      -0.0273308-0.00411523im\n",
       " -0.00159208+0.0193315im      -0.0126358+0.0134394im\n",
       "  -0.0194088+0.020591im    …   0.0418739+0.0124938im\n",
       "   0.0865925-0.0157213im      -0.0723922+0.0460417im\n",
       "  -0.0340273-0.015205im        0.0968217+0.0im"
      ]
     },
     "execution_count": 47,
     "metadata": {},
     "output_type": "execute_result"
    }
   ],
   "source": [
    "ρ "
   ]
  },
  {
   "cell_type": "code",
   "execution_count": null,
   "id": "ac4484dc",
   "metadata": {},
   "outputs": [],
   "source": []
  }
 ],
 "metadata": {
  "@webio": {
   "lastCommId": null,
   "lastKernelId": null
  },
  "kernelspec": {
   "display_name": "Julia 1.7.2",
   "language": "julia",
   "name": "julia-1.7"
  },
  "language_info": {
   "file_extension": ".jl",
   "mimetype": "application/julia",
   "name": "julia",
   "version": "1.7.2"
  }
 },
 "nbformat": 4,
 "nbformat_minor": 5
}
