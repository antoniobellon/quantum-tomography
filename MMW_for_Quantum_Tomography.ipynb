{
 "cells": [
  {
   "cell_type": "markdown",
   "id": "38b81381",
   "metadata": {},
   "source": [
    "### On-line measuring of one qubit with MMW method\n",
    "(toy example with no noise)"
   ]
  },
  {
   "cell_type": "code",
   "execution_count": 1,
   "id": "7d3e0434",
   "metadata": {},
   "outputs": [
    {
     "name": "stderr",
     "output_type": "stream",
     "text": [
      "\n",
      "(process:32552): GLib-GIO-WARNING **: 14:26:46.221: Unexpectedly, UWP app `Clipchamp.Clipchamp_2.5.4.0_neutral__yxz26nhyzhsrt' (AUMId `Clipchamp.Clipchamp_yxz26nhyzhsrt!App') supports 41 extensions but has no verbs\n"
     ]
    }
   ],
   "source": [
    "using LinearAlgebra\n",
    "using Statistics\n",
    "using Plots"
   ]
  },
  {
   "cell_type": "markdown",
   "id": "dc11d68f",
   "metadata": {},
   "source": [
    "Function to generate an random $n \\times n$ desity matrix we want to indentify (consider unknown)\n",
    "\n",
    "In our toy example consider $2 \\times 2$ desity matrix:\n",
    "\\begin{align}\n",
    "  \\rho = \n",
    "        \\left(\n",
    "        \\begin{array}{ccccc}\n",
    "            \\rho_{00}   &   \\rho_{01}  \\\\\n",
    "            \\rho_{01}^*  &  \\rho_{11} \\\\\n",
    "        \\end{array}\n",
    "        \\right)\n",
    "\\end{align}"
   ]
  },
  {
   "cell_type": "code",
   "execution_count": 2,
   "id": "f78b09b3",
   "metadata": {},
   "outputs": [
    {
     "data": {
      "text/plain": [
       "ρᵣₐₙ (generic function with 1 method)"
      ]
     },
     "execution_count": 2,
     "metadata": {},
     "output_type": "execute_result"
    }
   ],
   "source": [
    "function ρᵣₐₙ(n)\n",
    "    # return a random density matrix\n",
    "    ρ = -1 .+ 2 * rand(n, n) \n",
    "    ρ += im * (-1 .+ 2 * rand(n, n))  \n",
    "    ρ = ρ * ρ'\n",
    "    Hermitian(ρ / tr(ρ))\n",
    "end"
   ]
  },
  {
   "cell_type": "code",
   "execution_count": 3,
   "id": "05eb7308",
   "metadata": {},
   "outputs": [
    {
     "data": {
      "text/plain": [
       "2×2 Hermitian{ComplexF64, Matrix{ComplexF64}}:\n",
       " 0.459474+0.0im       0.122531+0.336657im\n",
       " 0.122531-0.336657im  0.540526+0.0im"
      ]
     },
     "execution_count": 3,
     "metadata": {},
     "output_type": "execute_result"
    }
   ],
   "source": [
    "ρ = ρᵣₐₙ(2)"
   ]
  },
  {
   "cell_type": "markdown",
   "id": "7b0f31f1",
   "metadata": {},
   "source": [
    "We can use fidelity to check the similarity of quantum states\n",
    "$F = \\left( \\operatorname{Tr} \\sqrt{\\sqrt{\\rho} \\omega \\sqrt{\\rho}} \\right)^2$"
   ]
  },
  {
   "cell_type": "code",
   "execution_count": 4,
   "id": "6a5df664",
   "metadata": {},
   "outputs": [
    {
     "data": {
      "text/plain": [
       "fidelity (generic function with 1 method)"
      ]
     },
     "execution_count": 4,
     "metadata": {},
     "output_type": "execute_result"
    }
   ],
   "source": [
    "function fidelity(ρ, 𝜔)\n",
    "    s = sqrt(sqrt(ρ)*𝜔*sqrt(ρ))\n",
    "    return abs(tr(s)^2)\n",
    "end "
   ]
  },
  {
   "cell_type": "code",
   "execution_count": 5,
   "id": "da468c1d",
   "metadata": {},
   "outputs": [
    {
     "name": "stdout",
     "output_type": "stream",
     "text": [
      "0.6694879679978968\n",
      "0.9999999999999982\n"
     ]
    }
   ],
   "source": [
    "ρ₁ = ρᵣₐₙ(2)\n",
    "ρ₂ = [1/2 0; 0 1/2]\n",
    "println(fidelity(ρ₁, ρ₂))\n",
    "println(fidelity(ρ₁, ρ₁))"
   ]
  },
  {
   "cell_type": "markdown",
   "id": "86e95b6a",
   "metadata": {},
   "source": [
    "To perform measurements we need a set of POVM measurement operators $\\{E_i\\}$ \n",
    "such that $\\sum_i E_i = I$.\n",
    "\n",
    "To meausure in computational basis: $\\{ |0\\rangle, |1\\rangle \\}$ we need\n",
    "\\begin{align}\n",
    "  E_0 = |0\\rangle \\langle 0|=\n",
    "          \\left(\n",
    "        \\begin{array}{ccccc}\n",
    "            0  \\\\\n",
    "            1  \\\\\n",
    "        \\end{array}\n",
    "        \\right) \n",
    "          \\left(\n",
    "        \\begin{array}{ccccc}\n",
    "            0   &   1  \\\\\n",
    "        \\end{array}\n",
    "        \\right) = \n",
    "        \\left(\n",
    "        \\begin{array}{ccccc}\n",
    "            0   &  0 \\\\\n",
    "            0   &  1 \\\\\n",
    "        \\end{array}\n",
    "        \\right),\n",
    "\\quad\n",
    "  E_1 = |1\\rangle \\langle 1|=\n",
    "          \\left(\n",
    "        \\begin{array}{ccccc}\n",
    "            1  \\\\\n",
    "            0  \\\\\n",
    "        \\end{array}\n",
    "        \\right) \n",
    "          \\left(\n",
    "        \\begin{array}{ccccc}\n",
    "            1   &   0 \\\\\n",
    "        \\end{array}\n",
    "        \\right) = \n",
    "        \\left(\n",
    "        \\begin{array}{ccccc}\n",
    "            1   &  0 \\\\\n",
    "            0   &  0 \\\\\n",
    "        \\end{array}\n",
    "        \\right)\n",
    "\\end{align}"
   ]
  },
  {
   "cell_type": "code",
   "execution_count": 6,
   "id": "708a6929",
   "metadata": {},
   "outputs": [
    {
     "data": {
      "text/plain": [
       "2×2 Matrix{Int64}:\n",
       " 0  0\n",
       " 0  1"
      ]
     },
     "execution_count": 6,
     "metadata": {},
     "output_type": "execute_result"
    }
   ],
   "source": [
    "E₁ = [1 0; 0 0]\n",
    "E₂ = [0 0; 0 1]"
   ]
  },
  {
   "cell_type": "markdown",
   "id": "3be9d364",
   "metadata": {},
   "source": [
    "To measure in $\\{X\\}$ basis $\\{|+ \\rangle = \\frac{|0\\rangle + |1\\rangle }{\\sqrt{2}}, \n",
    "  |- \\rangle = \\frac{|0\\rangle - |1\\rangle }{\\sqrt{2}} \\}$ we need:"
   ]
  },
  {
   "cell_type": "markdown",
   "id": "7a098f74",
   "metadata": {},
   "source": [
    " \\begin{align}\n",
    "  E_+ = |+\\rangle \\langle +|=\n",
    "          \\left(\n",
    "        \\begin{array}{ccccc}\n",
    "            1/\\sqrt{2}  \\\\\n",
    "            1/\\sqrt{2}  \\\\\n",
    "        \\end{array}\n",
    "        \\right) \n",
    "          \\left(\n",
    "        \\begin{array}{ccccc}\n",
    "            1/\\sqrt{2}   &   1/\\sqrt{2} \\\\\n",
    "        \\end{array}\n",
    "        \\right) = \n",
    "        \\left(\n",
    "        \\begin{array}{ccccc}\n",
    "            1/2   &  1/2 \\\\\n",
    "            1/2   &  1/2 \\\\\n",
    "        \\end{array}\n",
    "        \\right), \\quad\n",
    "        E_{-} = |-\\rangle \\langle -|= \n",
    "        \\left(\n",
    "        \\begin{array}{ccccc}\n",
    "            1/2   &  -1/2 \\\\\n",
    "            -1/2   &  1/2 \\\\\n",
    "        \\end{array}\n",
    "        \\right)    \n",
    "\\end{align}"
   ]
  },
  {
   "cell_type": "code",
   "execution_count": 7,
   "id": "c35fa740",
   "metadata": {},
   "outputs": [
    {
     "data": {
      "text/plain": [
       "2×2 Matrix{Float64}:\n",
       "  0.5  -0.5\n",
       " -0.5   0.5"
      ]
     },
     "execution_count": 7,
     "metadata": {},
     "output_type": "execute_result"
    }
   ],
   "source": [
    "Ex₊  = [1/2 1/2; 1/2 1/2]\n",
    "Ex₋ = [1/2 -1/2; -1/2 1/2]"
   ]
  },
  {
   "cell_type": "markdown",
   "id": "e520a6eb",
   "metadata": {},
   "source": [
    "To measure in $\\{Y\\}$ basis $\\{|y+ \\rangle = \\frac{|0\\rangle + i|1\\rangle }{\\sqrt{2}}, \n",
    "  |y- \\rangle = \\frac{|0\\rangle - i|1\\rangle }{\\sqrt{2}} \\}$ we need:\n",
    "  \n",
    " \\begin{align}\n",
    "  E_y+ = |y+\\rangle \\langle y+|=\n",
    "          \\left(\n",
    "        \\begin{array}{ccccc}\n",
    "            i/\\sqrt{2}  \\\\\n",
    "            1/\\sqrt{2}  \\\\\n",
    "        \\end{array}\n",
    "        \\right) \n",
    "          \\left(\n",
    "        \\begin{array}{ccccc}\n",
    "            -i/\\sqrt{2}   &   1/\\sqrt{2} \\\\\n",
    "        \\end{array}\n",
    "        \\right) = \n",
    "        \\left(\n",
    "        \\begin{array}{ccccc}\n",
    "            1/2   &  i/2 \\\\\n",
    "            -i/2   &  1/2 \\\\\n",
    "        \\end{array}\n",
    "        \\right), \\quad\n",
    "        E_{y-} = |y-\\rangle \\langle y-|= \n",
    "        \\left(\n",
    "        \\begin{array}{ccccc}\n",
    "            1/2   &  -i/2 \\\\\n",
    "            i/2   &  1/2 \\\\\n",
    "        \\end{array}\n",
    "        \\right)    \n",
    "\\end{align}"
   ]
  },
  {
   "cell_type": "code",
   "execution_count": 8,
   "id": "b88e7678",
   "metadata": {},
   "outputs": [
    {
     "data": {
      "text/plain": [
       "2×2 Matrix{ComplexF64}:\n",
       " 0.5+0.0im  0.0-0.5im\n",
       " 0.0+0.5im  0.5+0.0im"
      ]
     },
     "execution_count": 8,
     "metadata": {},
     "output_type": "execute_result"
    }
   ],
   "source": [
    "Ey₊ = [1/2 im/2; -im/2 1/2]\n",
    "Ey₋ = [1/2 -im/2; im/2 1/2]"
   ]
  },
  {
   "cell_type": "markdown",
   "id": "161461f4",
   "metadata": {},
   "source": [
    "Any density matrix could be expressed as linear combintion of Pauli matrices:\n",
    "\n",
    "$ \\rho = \\frac{\\operatorname{Tr}(\\rho)I + \\operatorname{Tr}(X\\rho)X +\n",
    "\\operatorname{Tr}(Y\\rho)Y +\\operatorname{Tr}(Z\\rho)Z}{2}$\n",
    "\n",
    "To perform tomography we can also use Pauli matrices\n",
    "\\begin{align}\n",
    "  I =  \\begin{pmatrix}\n",
    "            1   &  0 \\\\\n",
    "            0   &  1 \\\\\n",
    "       \\end{pmatrix}\n",
    "       \\quad\n",
    "  X =  \\begin{pmatrix}\n",
    "            0   &  1 \\\\\n",
    "            1   &  0 \\\\\n",
    "       \\end{pmatrix}\n",
    "       \\quad\n",
    "  Y =  \\begin{pmatrix}\n",
    "            0   &  -i \\\\\n",
    "            i   &  0 \\\\\n",
    "       \\end{pmatrix}\n",
    "       \\quad \n",
    "  Z =  \\begin{pmatrix}\n",
    "            1   &   0 \\\\\n",
    "            0   &  -1 \\\\\n",
    "       \\end{pmatrix}\n",
    "       \\quad   \n",
    "\\end{align}"
   ]
  },
  {
   "cell_type": "code",
   "execution_count": 9,
   "id": "a974f0ee",
   "metadata": {},
   "outputs": [
    {
     "data": {
      "text/plain": [
       "3-element Vector{Matrix{Complex{Int64}}}:\n",
       " [0 + 0im 1 + 0im; 1 + 0im 0 + 0im]\n",
       " [0 + 0im 0 - 1im; 0 + 1im 0 + 0im]\n",
       " [1 + 0im 0 + 0im; 0 + 0im -1 + 0im]"
      ]
     },
     "execution_count": 9,
     "metadata": {},
     "output_type": "execute_result"
    }
   ],
   "source": [
    "I = [1 0; 0 1]\n",
    "X = [0 1; 1 0]\n",
    "Y = [0 -im; im 0]\n",
    "Z = [1 0; 0 -1]\n",
    "σ = [X, Y, Z]"
   ]
  },
  {
   "cell_type": "markdown",
   "id": "5272a328",
   "metadata": {},
   "source": [
    "We denote the eigen values of these operators $\\lambda$"
   ]
  },
  {
   "cell_type": "code",
   "execution_count": 10,
   "id": "9adbdf40",
   "metadata": {},
   "outputs": [
    {
     "data": {
      "text/plain": [
       "2-element Vector{Float64}:\n",
       " -1.0\n",
       "  1.0"
      ]
     },
     "execution_count": 10,
     "metadata": {},
     "output_type": "execute_result"
    }
   ],
   "source": [
    "λₓ = eigvals(X)"
   ]
  },
  {
   "cell_type": "markdown",
   "id": "eb325a99",
   "metadata": {},
   "source": [
    "Probability to obtain \"1\" when measure the observable $E_m$ is \n",
    "\n",
    "$p(m) = \\operatorname{Tr}(E_m \\rho)$"
   ]
  },
  {
   "cell_type": "code",
   "execution_count": 11,
   "id": "4a5829a5",
   "metadata": {},
   "outputs": [
    {
     "data": {
      "text/plain": [
       "0.8366567237616904"
      ]
     },
     "execution_count": 11,
     "metadata": {},
     "output_type": "execute_result"
    }
   ],
   "source": [
    "p₁ = abs(tr(E₁*ρ))\n",
    "p₊ = abs(tr(Ex₊*ρ))\n",
    "py = abs(tr(Ey₊*ρ))"
   ]
  },
  {
   "cell_type": "markdown",
   "id": "0cf6e997",
   "metadata": {},
   "source": [
    "We can generate sequence that simulate measurements $Y$ with outcomes $\\{0,1\\}$ of the particular observable:"
   ]
  },
  {
   "cell_type": "code",
   "execution_count": 12,
   "id": "e9d86d02",
   "metadata": {},
   "outputs": [
    {
     "name": "stdout",
     "output_type": "stream",
     "text": [
      "Bool[1 0 0 0 0 0 0 0 1 1 1 1 0 1 0 0 0 0 1 1 1 1 0 0 0 1 0 1 0 0 1 1 0 1 1 1 1 0 0 0 0 0 0 1 0 0 0 0 1 0 0 1 0 0 1 1 1 1 0 0 1 1 0 1 0 1 0 1 1 1 0 1 1 0 1 0 1 0 1 1 1 1 1 0 0 1 1 1 0 0 0 0 0 0 0 1 1 1 1 0]"
     ]
    },
    {
     "data": {
      "text/plain": [
       "0.48"
      ]
     },
     "execution_count": 12,
     "metadata": {},
     "output_type": "execute_result"
    }
   ],
   "source": [
    "using Random, Distributions\n",
    "p₁ = abs(tr(E₁*ρ))\n",
    "d = Bernoulli(p₁)\n",
    "𝑌 = rand(d, 100)\n",
    "print(𝑌')\n",
    "mean(𝑌)"
   ]
  },
  {
   "cell_type": "markdown",
   "id": "d64ffc5c",
   "metadata": {},
   "source": [
    "We can predict $\\omega_{t}$ using the gradient:\n",
    "$ \\nabla_t (\\omega_t) := 2\\left({\\operatorname{Tr}(E_t \\omega_t) - Y_t} \\right) E_t$ "
   ]
  },
  {
   "cell_type": "code",
   "execution_count": 13,
   "id": "f868033b",
   "metadata": {},
   "outputs": [
    {
     "data": {
      "text/plain": [
       "∇ₜ (generic function with 1 method)"
      ]
     },
     "execution_count": 13,
     "metadata": {},
     "output_type": "execute_result"
    }
   ],
   "source": [
    "function ∇ₜ(𝜔ₜ, 𝐸ₜ, 𝑌ₜ)\n",
    "    return 2*(tr(𝐸ₜ*𝜔ₜ)-𝑌ₜ)*𝐸ₜ\n",
    "end"
   ]
  },
  {
   "cell_type": "code",
   "execution_count": 14,
   "id": "4689795a",
   "metadata": {},
   "outputs": [
    {
     "data": {
      "text/plain": [
       "2×2 Matrix{Float64}:\n",
       " 1.0  0.0\n",
       " 0.0  0.0"
      ]
     },
     "execution_count": 14,
     "metadata": {},
     "output_type": "execute_result"
    }
   ],
   "source": [
    "𝜔₁ = [1/2 0; 0 1/2]\n",
    "∇ₜ(𝜔₁, E₁, 1)\n",
    "∇ₜ(𝜔₁, E₁, 0)"
   ]
  },
  {
   "cell_type": "markdown",
   "id": "3211a1f4",
   "metadata": {},
   "source": [
    "#### Matrix Multiplicative Weights (MMW) algorithm [Tsuda et al., 2005]\n",
    "as described in Online Learning of Quantum States by Elad Hazan and others"
   ]
  },
  {
   "cell_type": "markdown",
   "id": "db30b85f",
   "metadata": {},
   "source": [
    "1. Set $\\omega_1 := 2^{-n} I$\n",
    "for one qubit it is just \n",
    "\n",
    "\\begin{align}\n",
    "    \\omega_1 := \\begin{pmatrix}\n",
    "        1/2 & 0 \\\\\n",
    "        0 & 1/2 \\\\\n",
    "    \\end{pmatrix}\n",
    "\\end{align}"
   ]
  },
  {
   "cell_type": "markdown",
   "id": "c67a8aa5",
   "metadata": {},
   "source": [
    "2. Update $\\omega_{t+1}$:\n",
    "\n",
    "$ \\omega_{t+1} := \\frac{\\operatorname{exp}(-\\frac{\\eta}{L}\\sum_{\\tau=1}^t \\nabla_t)}{\\operatorname{Tr}(\\operatorname{exp}(-\\frac{\\eta}{L}\\sum_{\\tau=1}^t \\nabla_t))}\n",
    "$"
   ]
  },
  {
   "cell_type": "markdown",
   "id": "c2950f8d",
   "metadata": {},
   "source": [
    "$\\eta = \\sqrt{\\frac{(\\operatorname{log}2) n}{4T}}\n",
    "$"
   ]
  },
  {
   "cell_type": "code",
   "execution_count": 15,
   "id": "1a38edba",
   "metadata": {},
   "outputs": [
    {
     "data": {
      "text/plain": [
       "next_𝜔 (generic function with 1 method)"
      ]
     },
     "execution_count": 15,
     "metadata": {},
     "output_type": "execute_result"
    }
   ],
   "source": [
    "function next_𝜔(𝜔, 𝐸, 𝑌)\n",
    "    η = 0.01\n",
    "    ∇ = [∇ₜ(𝜔[i], 𝐸[i], 𝑌[i]) for i in 1:length(𝜔)]\n",
    "    e = exp(- sum(∇) * η)\n",
    "    return e/tr(e)\n",
    "end"
   ]
  },
  {
   "cell_type": "code",
   "execution_count": 20,
   "id": "b56a3c08",
   "metadata": {},
   "outputs": [
    {
     "data": {
      "text/plain": [
       "2×2 Hermitian{ComplexF64, Matrix{ComplexF64}}:\n",
       "  0.356749+0.0im       -0.297234-0.374875im\n",
       " -0.297234+0.374875im   0.643251+0.0im"
      ]
     },
     "execution_count": 20,
     "metadata": {},
     "output_type": "execute_result"
    }
   ],
   "source": [
    "ρ = ρᵣₐₙ(2)\n",
    "#ρ = [1/2 0 ; 0 1/2]\n",
    "#ρ = [1 0 ; 0 0]"
   ]
  },
  {
   "cell_type": "code",
   "execution_count": 29,
   "id": "507ba7e6",
   "metadata": {},
   "outputs": [
    {
     "name": "stdout",
     "output_type": "stream",
     "text": [
      "Final fidelity:0.9471370825538161"
     ]
    },
    {
     "data": {
      "image/svg+xml": [
       "<?xml version=\"1.0\" encoding=\"utf-8\"?>\n",
       "<svg xmlns=\"http://www.w3.org/2000/svg\" xmlns:xlink=\"http://www.w3.org/1999/xlink\" width=\"600\" height=\"400\" viewBox=\"0 0 2400 1600\">\n",
       "<defs>\n",
       "  <clipPath id=\"clip690\">\n",
       "    <rect x=\"0\" y=\"0\" width=\"2400\" height=\"1600\"/>\n",
       "  </clipPath>\n",
       "</defs>\n",
       "<path clip-path=\"url(#clip690)\" d=\"\n",
       "M0 1600 L2400 1600 L2400 0 L0 0  Z\n",
       "  \" fill=\"#ffffff\" fill-rule=\"evenodd\" fill-opacity=\"1\"/>\n",
       "<defs>\n",
       "  <clipPath id=\"clip691\">\n",
       "    <rect x=\"480\" y=\"0\" width=\"1681\" height=\"1600\"/>\n",
       "  </clipPath>\n",
       "</defs>\n",
       "<path clip-path=\"url(#clip690)\" d=\"\n",
       "M156.274 1486.45 L2352.76 1486.45 L2352.76 47.2441 L156.274 47.2441  Z\n",
       "  \" fill=\"#ffffff\" fill-rule=\"evenodd\" fill-opacity=\"1\"/>\n",
       "<defs>\n",
       "  <clipPath id=\"clip692\">\n",
       "    <rect x=\"156\" y=\"47\" width=\"2197\" height=\"1440\"/>\n",
       "  </clipPath>\n",
       "</defs>\n",
       "<polyline clip-path=\"url(#clip692)\" style=\"stroke:#000000; stroke-linecap:butt; stroke-linejoin:round; stroke-width:2; stroke-opacity:0.1; fill:none\" points=\"\n",
       "  217.748,1486.45 217.748,47.2441 \n",
       "  \"/>\n",
       "<polyline clip-path=\"url(#clip692)\" style=\"stroke:#000000; stroke-linecap:butt; stroke-linejoin:round; stroke-width:2; stroke-opacity:0.1; fill:none\" points=\"\n",
       "  908.696,1486.45 908.696,47.2441 \n",
       "  \"/>\n",
       "<polyline clip-path=\"url(#clip692)\" style=\"stroke:#000000; stroke-linecap:butt; stroke-linejoin:round; stroke-width:2; stroke-opacity:0.1; fill:none\" points=\"\n",
       "  1599.64,1486.45 1599.64,47.2441 \n",
       "  \"/>\n",
       "<polyline clip-path=\"url(#clip692)\" style=\"stroke:#000000; stroke-linecap:butt; stroke-linejoin:round; stroke-width:2; stroke-opacity:0.1; fill:none\" points=\"\n",
       "  2290.59,1486.45 2290.59,47.2441 \n",
       "  \"/>\n",
       "<polyline clip-path=\"url(#clip690)\" style=\"stroke:#000000; stroke-linecap:butt; stroke-linejoin:round; stroke-width:4; stroke-opacity:1; fill:none\" points=\"\n",
       "  156.274,1486.45 2352.76,1486.45 \n",
       "  \"/>\n",
       "<polyline clip-path=\"url(#clip690)\" style=\"stroke:#000000; stroke-linecap:butt; stroke-linejoin:round; stroke-width:4; stroke-opacity:1; fill:none\" points=\"\n",
       "  217.748,1486.45 217.748,1467.55 \n",
       "  \"/>\n",
       "<polyline clip-path=\"url(#clip690)\" style=\"stroke:#000000; stroke-linecap:butt; stroke-linejoin:round; stroke-width:4; stroke-opacity:1; fill:none\" points=\"\n",
       "  908.696,1486.45 908.696,1467.55 \n",
       "  \"/>\n",
       "<polyline clip-path=\"url(#clip690)\" style=\"stroke:#000000; stroke-linecap:butt; stroke-linejoin:round; stroke-width:4; stroke-opacity:1; fill:none\" points=\"\n",
       "  1599.64,1486.45 1599.64,1467.55 \n",
       "  \"/>\n",
       "<polyline clip-path=\"url(#clip690)\" style=\"stroke:#000000; stroke-linecap:butt; stroke-linejoin:round; stroke-width:4; stroke-opacity:1; fill:none\" points=\"\n",
       "  2290.59,1486.45 2290.59,1467.55 \n",
       "  \"/>\n",
       "<path clip-path=\"url(#clip690)\" d=\"M217.748 1517.37 Q214.137 1517.37 212.308 1520.93 Q210.502 1524.47 210.502 1531.6 Q210.502 1538.71 212.308 1542.27 Q214.137 1545.82 217.748 1545.82 Q221.382 1545.82 223.188 1542.27 Q225.016 1538.71 225.016 1531.6 Q225.016 1524.47 223.188 1520.93 Q221.382 1517.37 217.748 1517.37 M217.748 1513.66 Q223.558 1513.66 226.613 1518.27 Q229.692 1522.85 229.692 1531.6 Q229.692 1540.33 226.613 1544.94 Q223.558 1549.52 217.748 1549.52 Q211.938 1549.52 208.859 1544.94 Q205.803 1540.33 205.803 1531.6 Q205.803 1522.85 208.859 1518.27 Q211.938 1513.66 217.748 1513.66 Z\" fill=\"#000000\" fill-rule=\"evenodd\" fill-opacity=\"1\" /><path clip-path=\"url(#clip690)\" d=\"M853.221 1544.91 L860.86 1544.91 L860.86 1518.55 L852.55 1520.21 L852.55 1515.95 L860.814 1514.29 L865.49 1514.29 L865.49 1544.91 L873.129 1544.91 L873.129 1548.85 L853.221 1548.85 L853.221 1544.91 Z\" fill=\"#000000\" fill-rule=\"evenodd\" fill-opacity=\"1\" /><path clip-path=\"url(#clip690)\" d=\"M892.573 1517.37 Q888.962 1517.37 887.133 1520.93 Q885.328 1524.47 885.328 1531.6 Q885.328 1538.71 887.133 1542.27 Q888.962 1545.82 892.573 1545.82 Q896.207 1545.82 898.013 1542.27 Q899.842 1538.71 899.842 1531.6 Q899.842 1524.47 898.013 1520.93 Q896.207 1517.37 892.573 1517.37 M892.573 1513.66 Q898.383 1513.66 901.439 1518.27 Q904.517 1522.85 904.517 1531.6 Q904.517 1540.33 901.439 1544.94 Q898.383 1549.52 892.573 1549.52 Q886.763 1549.52 883.684 1544.94 Q880.629 1540.33 880.629 1531.6 Q880.629 1522.85 883.684 1518.27 Q886.763 1513.66 892.573 1513.66 Z\" fill=\"#000000\" fill-rule=\"evenodd\" fill-opacity=\"1\" /><path clip-path=\"url(#clip690)\" d=\"M922.735 1517.37 Q919.124 1517.37 917.295 1520.93 Q915.49 1524.47 915.49 1531.6 Q915.49 1538.71 917.295 1542.27 Q919.124 1545.82 922.735 1545.82 Q926.369 1545.82 928.175 1542.27 Q930.003 1538.71 930.003 1531.6 Q930.003 1524.47 928.175 1520.93 Q926.369 1517.37 922.735 1517.37 M922.735 1513.66 Q928.545 1513.66 931.601 1518.27 Q934.679 1522.85 934.679 1531.6 Q934.679 1540.33 931.601 1544.94 Q928.545 1549.52 922.735 1549.52 Q916.925 1549.52 913.846 1544.94 Q910.791 1540.33 910.791 1531.6 Q910.791 1522.85 913.846 1518.27 Q916.925 1513.66 922.735 1513.66 Z\" fill=\"#000000\" fill-rule=\"evenodd\" fill-opacity=\"1\" /><path clip-path=\"url(#clip690)\" d=\"M952.897 1517.37 Q949.286 1517.37 947.457 1520.93 Q945.651 1524.47 945.651 1531.6 Q945.651 1538.71 947.457 1542.27 Q949.286 1545.82 952.897 1545.82 Q956.531 1545.82 958.337 1542.27 Q960.165 1538.71 960.165 1531.6 Q960.165 1524.47 958.337 1520.93 Q956.531 1517.37 952.897 1517.37 M952.897 1513.66 Q958.707 1513.66 961.762 1518.27 Q964.841 1522.85 964.841 1531.6 Q964.841 1540.33 961.762 1544.94 Q958.707 1549.52 952.897 1549.52 Q947.087 1549.52 944.008 1544.94 Q940.952 1540.33 940.952 1531.6 Q940.952 1522.85 944.008 1518.27 Q947.087 1513.66 952.897 1513.66 Z\" fill=\"#000000\" fill-rule=\"evenodd\" fill-opacity=\"1\" /><path clip-path=\"url(#clip690)\" d=\"M1548.25 1544.91 L1564.57 1544.91 L1564.57 1548.85 L1542.63 1548.85 L1542.63 1544.91 Q1545.29 1542.16 1549.88 1537.53 Q1554.48 1532.88 1555.66 1531.53 Q1557.91 1529.01 1558.79 1527.27 Q1559.69 1525.51 1559.69 1523.82 Q1559.69 1521.07 1557.75 1519.33 Q1555.82 1517.6 1552.72 1517.6 Q1550.52 1517.6 1548.07 1518.36 Q1545.64 1519.13 1542.86 1520.68 L1542.86 1515.95 Q1545.69 1514.82 1548.14 1514.24 Q1550.59 1513.66 1552.63 1513.66 Q1558 1513.66 1561.19 1516.35 Q1564.39 1519.03 1564.39 1523.52 Q1564.39 1525.65 1563.58 1527.57 Q1562.79 1529.47 1560.69 1532.07 Q1560.11 1532.74 1557 1535.95 Q1553.9 1539.15 1548.25 1544.91 Z\" fill=\"#000000\" fill-rule=\"evenodd\" fill-opacity=\"1\" /><path clip-path=\"url(#clip690)\" d=\"M1584.39 1517.37 Q1580.78 1517.37 1578.95 1520.93 Q1577.14 1524.47 1577.14 1531.6 Q1577.14 1538.71 1578.95 1542.27 Q1580.78 1545.82 1584.39 1545.82 Q1588.02 1545.82 1589.83 1542.27 Q1591.66 1538.71 1591.66 1531.6 Q1591.66 1524.47 1589.83 1520.93 Q1588.02 1517.37 1584.39 1517.37 M1584.39 1513.66 Q1590.2 1513.66 1593.25 1518.27 Q1596.33 1522.85 1596.33 1531.6 Q1596.33 1540.33 1593.25 1544.94 Q1590.2 1549.52 1584.39 1549.52 Q1578.58 1549.52 1575.5 1544.94 Q1572.44 1540.33 1572.44 1531.6 Q1572.44 1522.85 1575.5 1518.27 Q1578.58 1513.66 1584.39 1513.66 Z\" fill=\"#000000\" fill-rule=\"evenodd\" fill-opacity=\"1\" /><path clip-path=\"url(#clip690)\" d=\"M1614.55 1517.37 Q1610.94 1517.37 1609.11 1520.93 Q1607.31 1524.47 1607.31 1531.6 Q1607.31 1538.71 1609.11 1542.27 Q1610.94 1545.82 1614.55 1545.82 Q1618.19 1545.82 1619.99 1542.27 Q1621.82 1538.71 1621.82 1531.6 Q1621.82 1524.47 1619.99 1520.93 Q1618.19 1517.37 1614.55 1517.37 M1614.55 1513.66 Q1620.36 1513.66 1623.42 1518.27 Q1626.5 1522.85 1626.5 1531.6 Q1626.5 1540.33 1623.42 1544.94 Q1620.36 1549.52 1614.55 1549.52 Q1608.74 1549.52 1605.66 1544.94 Q1602.61 1540.33 1602.61 1531.6 Q1602.61 1522.85 1605.66 1518.27 Q1608.74 1513.66 1614.55 1513.66 Z\" fill=\"#000000\" fill-rule=\"evenodd\" fill-opacity=\"1\" /><path clip-path=\"url(#clip690)\" d=\"M1644.71 1517.37 Q1641.1 1517.37 1639.27 1520.93 Q1637.47 1524.47 1637.47 1531.6 Q1637.47 1538.71 1639.27 1542.27 Q1641.1 1545.82 1644.71 1545.82 Q1648.35 1545.82 1650.15 1542.27 Q1651.98 1538.71 1651.98 1531.6 Q1651.98 1524.47 1650.15 1520.93 Q1648.35 1517.37 1644.71 1517.37 M1644.71 1513.66 Q1650.52 1513.66 1653.58 1518.27 Q1656.66 1522.85 1656.66 1531.6 Q1656.66 1540.33 1653.58 1544.94 Q1650.52 1549.52 1644.71 1549.52 Q1638.9 1549.52 1635.82 1544.94 Q1632.77 1540.33 1632.77 1531.6 Q1632.77 1522.85 1635.82 1518.27 Q1638.9 1513.66 1644.71 1513.66 Z\" fill=\"#000000\" fill-rule=\"evenodd\" fill-opacity=\"1\" /><path clip-path=\"url(#clip690)\" d=\"M2249.27 1530.21 Q2252.63 1530.93 2254.5 1533.2 Q2256.4 1535.47 2256.4 1538.8 Q2256.4 1543.92 2252.88 1546.72 Q2249.36 1549.52 2242.88 1549.52 Q2240.71 1549.52 2238.39 1549.08 Q2236.1 1548.66 2233.65 1547.81 L2233.65 1543.29 Q2235.59 1544.43 2237.91 1545.01 Q2240.22 1545.58 2242.74 1545.58 Q2247.14 1545.58 2249.43 1543.85 Q2251.75 1542.11 2251.75 1538.8 Q2251.75 1535.75 2249.6 1534.03 Q2247.47 1532.3 2243.65 1532.3 L2239.62 1532.3 L2239.62 1528.45 L2243.83 1528.45 Q2247.28 1528.45 2249.11 1527.09 Q2250.94 1525.7 2250.94 1523.11 Q2250.94 1520.45 2249.04 1519.03 Q2247.17 1517.6 2243.65 1517.6 Q2241.73 1517.6 2239.53 1518.01 Q2237.33 1518.43 2234.69 1519.31 L2234.69 1515.14 Q2237.35 1514.4 2239.67 1514.03 Q2242 1513.66 2244.06 1513.66 Q2249.39 1513.66 2252.49 1516.09 Q2255.59 1518.5 2255.59 1522.62 Q2255.59 1525.49 2253.95 1527.48 Q2252.3 1529.45 2249.27 1530.21 Z\" fill=\"#000000\" fill-rule=\"evenodd\" fill-opacity=\"1\" /><path clip-path=\"url(#clip690)\" d=\"M2275.27 1517.37 Q2271.66 1517.37 2269.83 1520.93 Q2268.02 1524.47 2268.02 1531.6 Q2268.02 1538.71 2269.83 1542.27 Q2271.66 1545.82 2275.27 1545.82 Q2278.9 1545.82 2280.71 1542.27 Q2282.54 1538.71 2282.54 1531.6 Q2282.54 1524.47 2280.71 1520.93 Q2278.9 1517.37 2275.27 1517.37 M2275.27 1513.66 Q2281.08 1513.66 2284.13 1518.27 Q2287.21 1522.85 2287.21 1531.6 Q2287.21 1540.33 2284.13 1544.94 Q2281.08 1549.52 2275.27 1549.52 Q2269.46 1549.52 2266.38 1544.94 Q2263.32 1540.33 2263.32 1531.6 Q2263.32 1522.85 2266.38 1518.27 Q2269.46 1513.66 2275.27 1513.66 Z\" fill=\"#000000\" fill-rule=\"evenodd\" fill-opacity=\"1\" /><path clip-path=\"url(#clip690)\" d=\"M2305.43 1517.37 Q2301.82 1517.37 2299.99 1520.93 Q2298.18 1524.47 2298.18 1531.6 Q2298.18 1538.71 2299.99 1542.27 Q2301.82 1545.82 2305.43 1545.82 Q2309.06 1545.82 2310.87 1542.27 Q2312.7 1538.71 2312.7 1531.6 Q2312.7 1524.47 2310.87 1520.93 Q2309.06 1517.37 2305.43 1517.37 M2305.43 1513.66 Q2311.24 1513.66 2314.29 1518.27 Q2317.37 1522.85 2317.37 1531.6 Q2317.37 1540.33 2314.29 1544.94 Q2311.24 1549.52 2305.43 1549.52 Q2299.62 1549.52 2296.54 1544.94 Q2293.48 1540.33 2293.48 1531.6 Q2293.48 1522.85 2296.54 1518.27 Q2299.62 1513.66 2305.43 1513.66 Z\" fill=\"#000000\" fill-rule=\"evenodd\" fill-opacity=\"1\" /><path clip-path=\"url(#clip690)\" d=\"M2335.59 1517.37 Q2331.98 1517.37 2330.15 1520.93 Q2328.35 1524.47 2328.35 1531.6 Q2328.35 1538.71 2330.15 1542.27 Q2331.98 1545.82 2335.59 1545.82 Q2339.23 1545.82 2341.03 1542.27 Q2342.86 1538.71 2342.86 1531.6 Q2342.86 1524.47 2341.03 1520.93 Q2339.23 1517.37 2335.59 1517.37 M2335.59 1513.66 Q2341.4 1513.66 2344.46 1518.27 Q2347.54 1522.85 2347.54 1531.6 Q2347.54 1540.33 2344.46 1544.94 Q2341.4 1549.52 2335.59 1549.52 Q2329.78 1549.52 2326.7 1544.94 Q2323.65 1540.33 2323.65 1531.6 Q2323.65 1522.85 2326.7 1518.27 Q2329.78 1513.66 2335.59 1513.66 Z\" fill=\"#000000\" fill-rule=\"evenodd\" fill-opacity=\"1\" /><polyline clip-path=\"url(#clip692)\" style=\"stroke:#000000; stroke-linecap:butt; stroke-linejoin:round; stroke-width:2; stroke-opacity:0.1; fill:none\" points=\"\n",
       "  156.274,1198.32 2352.76,1198.32 \n",
       "  \"/>\n",
       "<polyline clip-path=\"url(#clip692)\" style=\"stroke:#000000; stroke-linecap:butt; stroke-linejoin:round; stroke-width:2; stroke-opacity:0.1; fill:none\" points=\"\n",
       "  156.274,879.665 2352.76,879.665 \n",
       "  \"/>\n",
       "<polyline clip-path=\"url(#clip692)\" style=\"stroke:#000000; stroke-linecap:butt; stroke-linejoin:round; stroke-width:2; stroke-opacity:0.1; fill:none\" points=\"\n",
       "  156.274,561.007 2352.76,561.007 \n",
       "  \"/>\n",
       "<polyline clip-path=\"url(#clip692)\" style=\"stroke:#000000; stroke-linecap:butt; stroke-linejoin:round; stroke-width:2; stroke-opacity:0.1; fill:none\" points=\"\n",
       "  156.274,242.349 2352.76,242.349 \n",
       "  \"/>\n",
       "<polyline clip-path=\"url(#clip690)\" style=\"stroke:#000000; stroke-linecap:butt; stroke-linejoin:round; stroke-width:4; stroke-opacity:1; fill:none\" points=\"\n",
       "  156.274,1486.45 156.274,47.2441 \n",
       "  \"/>\n",
       "<polyline clip-path=\"url(#clip690)\" style=\"stroke:#000000; stroke-linecap:butt; stroke-linejoin:round; stroke-width:4; stroke-opacity:1; fill:none\" points=\"\n",
       "  156.274,1198.32 175.172,1198.32 \n",
       "  \"/>\n",
       "<polyline clip-path=\"url(#clip690)\" style=\"stroke:#000000; stroke-linecap:butt; stroke-linejoin:round; stroke-width:4; stroke-opacity:1; fill:none\" points=\"\n",
       "  156.274,879.665 175.172,879.665 \n",
       "  \"/>\n",
       "<polyline clip-path=\"url(#clip690)\" style=\"stroke:#000000; stroke-linecap:butt; stroke-linejoin:round; stroke-width:4; stroke-opacity:1; fill:none\" points=\"\n",
       "  156.274,561.007 175.172,561.007 \n",
       "  \"/>\n",
       "<polyline clip-path=\"url(#clip690)\" style=\"stroke:#000000; stroke-linecap:butt; stroke-linejoin:round; stroke-width:4; stroke-opacity:1; fill:none\" points=\"\n",
       "  156.274,242.349 175.172,242.349 \n",
       "  \"/>\n",
       "<path clip-path=\"url(#clip690)\" d=\"M62.9365 1184.12 Q59.3254 1184.12 57.4967 1187.69 Q55.6912 1191.23 55.6912 1198.36 Q55.6912 1205.46 57.4967 1209.03 Q59.3254 1212.57 62.9365 1212.57 Q66.5707 1212.57 68.3763 1209.03 Q70.205 1205.46 70.205 1198.36 Q70.205 1191.23 68.3763 1187.69 Q66.5707 1184.12 62.9365 1184.12 M62.9365 1180.42 Q68.7467 1180.42 71.8022 1185.02 Q74.8809 1189.61 74.8809 1198.36 Q74.8809 1207.08 71.8022 1211.69 Q68.7467 1216.27 62.9365 1216.27 Q57.1264 1216.27 54.0477 1211.69 Q50.9921 1207.08 50.9921 1198.36 Q50.9921 1189.61 54.0477 1185.02 Q57.1264 1180.42 62.9365 1180.42 Z\" fill=\"#000000\" fill-rule=\"evenodd\" fill-opacity=\"1\" /><path clip-path=\"url(#clip690)\" d=\"M83.0984 1209.72 L87.9827 1209.72 L87.9827 1215.6 L83.0984 1215.6 L83.0984 1209.72 Z\" fill=\"#000000\" fill-rule=\"evenodd\" fill-opacity=\"1\" /><path clip-path=\"url(#clip690)\" d=\"M108.746 1196.46 Q105.598 1196.46 103.746 1198.61 Q101.918 1200.77 101.918 1204.52 Q101.918 1208.24 103.746 1210.42 Q105.598 1212.57 108.746 1212.57 Q111.895 1212.57 113.723 1210.42 Q115.575 1208.24 115.575 1204.52 Q115.575 1200.77 113.723 1198.61 Q111.895 1196.46 108.746 1196.46 M118.029 1181.81 L118.029 1186.07 Q116.27 1185.23 114.464 1184.79 Q112.682 1184.35 110.922 1184.35 Q106.293 1184.35 103.839 1187.48 Q101.409 1190.6 101.061 1196.92 Q102.427 1194.91 104.487 1193.84 Q106.547 1192.76 109.024 1192.76 Q114.233 1192.76 117.242 1195.93 Q120.274 1199.08 120.274 1204.52 Q120.274 1209.84 117.126 1213.06 Q113.978 1216.27 108.746 1216.27 Q102.751 1216.27 99.5798 1211.69 Q96.4085 1207.08 96.4085 1198.36 Q96.4085 1190.16 100.297 1185.3 Q104.186 1180.42 110.737 1180.42 Q112.496 1180.42 114.279 1180.77 Q116.084 1181.11 118.029 1181.81 Z\" fill=\"#000000\" fill-rule=\"evenodd\" fill-opacity=\"1\" /><path clip-path=\"url(#clip690)\" d=\"M64.0013 865.464 Q60.3902 865.464 58.5615 869.028 Q56.756 872.57 56.756 879.7 Q56.756 886.806 58.5615 890.371 Q60.3902 893.913 64.0013 893.913 Q67.6356 893.913 69.4411 890.371 Q71.2698 886.806 71.2698 879.7 Q71.2698 872.57 69.4411 869.028 Q67.6356 865.464 64.0013 865.464 M64.0013 861.76 Q69.8115 861.76 72.867 866.366 Q75.9457 870.95 75.9457 879.7 Q75.9457 888.427 72.867 893.033 Q69.8115 897.616 64.0013 897.616 Q58.1912 897.616 55.1125 893.033 Q52.0569 888.427 52.0569 879.7 Q52.0569 870.95 55.1125 866.366 Q58.1912 861.76 64.0013 861.76 Z\" fill=\"#000000\" fill-rule=\"evenodd\" fill-opacity=\"1\" /><path clip-path=\"url(#clip690)\" d=\"M84.1632 891.065 L89.0475 891.065 L89.0475 896.945 L84.1632 896.945 L84.1632 891.065 Z\" fill=\"#000000\" fill-rule=\"evenodd\" fill-opacity=\"1\" /><path clip-path=\"url(#clip690)\" d=\"M98.0521 862.385 L120.274 862.385 L120.274 864.376 L107.728 896.945 L102.844 896.945 L114.649 866.32 L98.0521 866.32 L98.0521 862.385 Z\" fill=\"#000000\" fill-rule=\"evenodd\" fill-opacity=\"1\" /><path clip-path=\"url(#clip690)\" d=\"M63.1911 546.806 Q59.58 546.806 57.7513 550.37 Q55.9458 553.912 55.9458 561.042 Q55.9458 568.148 57.7513 571.713 Q59.58 575.254 63.1911 575.254 Q66.8254 575.254 68.6309 571.713 Q70.4596 568.148 70.4596 561.042 Q70.4596 553.912 68.6309 550.37 Q66.8254 546.806 63.1911 546.806 M63.1911 543.102 Q69.0013 543.102 72.0568 547.708 Q75.1355 552.292 75.1355 561.042 Q75.1355 569.768 72.0568 574.375 Q69.0013 578.958 63.1911 578.958 Q57.381 578.958 54.3023 574.375 Q51.2468 569.768 51.2468 561.042 Q51.2468 552.292 54.3023 547.708 Q57.381 543.102 63.1911 543.102 Z\" fill=\"#000000\" fill-rule=\"evenodd\" fill-opacity=\"1\" /><path clip-path=\"url(#clip690)\" d=\"M83.3531 572.407 L88.2373 572.407 L88.2373 578.287 L83.3531 578.287 L83.3531 572.407 Z\" fill=\"#000000\" fill-rule=\"evenodd\" fill-opacity=\"1\" /><path clip-path=\"url(#clip690)\" d=\"M108.422 561.875 Q105.089 561.875 103.168 563.657 Q101.27 565.44 101.27 568.565 Q101.27 571.69 103.168 573.472 Q105.089 575.254 108.422 575.254 Q111.756 575.254 113.677 573.472 Q115.598 571.667 115.598 568.565 Q115.598 565.44 113.677 563.657 Q111.779 561.875 108.422 561.875 M103.746 559.884 Q100.737 559.143 99.0474 557.083 Q97.3808 555.023 97.3808 552.06 Q97.3808 547.917 100.321 545.509 Q103.284 543.102 108.422 543.102 Q113.584 543.102 116.524 545.509 Q119.464 547.917 119.464 552.06 Q119.464 555.023 117.774 557.083 Q116.108 559.143 113.121 559.884 Q116.501 560.671 118.376 562.963 Q120.274 565.255 120.274 568.565 Q120.274 573.588 117.195 576.273 Q114.14 578.958 108.422 578.958 Q102.705 578.958 99.6261 576.273 Q96.5706 573.588 96.5706 568.565 Q96.5706 565.255 98.4687 562.963 Q100.367 560.671 103.746 559.884 M102.034 552.5 Q102.034 555.185 103.7 556.69 Q105.39 558.194 108.422 558.194 Q111.432 558.194 113.121 556.69 Q114.834 555.185 114.834 552.5 Q114.834 549.815 113.121 548.31 Q111.432 546.806 108.422 546.806 Q105.39 546.806 103.7 548.31 Q102.034 549.815 102.034 552.5 Z\" fill=\"#000000\" fill-rule=\"evenodd\" fill-opacity=\"1\" /><path clip-path=\"url(#clip690)\" d=\"M63.2837 228.147 Q59.6726 228.147 57.8439 231.712 Q56.0384 235.254 56.0384 242.383 Q56.0384 249.49 57.8439 253.055 Q59.6726 256.596 63.2837 256.596 Q66.918 256.596 68.7235 253.055 Q70.5522 249.49 70.5522 242.383 Q70.5522 235.254 68.7235 231.712 Q66.918 228.147 63.2837 228.147 M63.2837 224.444 Q69.0939 224.444 72.1494 229.05 Q75.2281 233.633 75.2281 242.383 Q75.2281 251.11 72.1494 255.717 Q69.0939 260.3 63.2837 260.3 Q57.4736 260.3 54.3949 255.717 Q51.3393 251.11 51.3393 242.383 Q51.3393 233.633 54.3949 229.05 Q57.4736 224.444 63.2837 224.444 Z\" fill=\"#000000\" fill-rule=\"evenodd\" fill-opacity=\"1\" /><path clip-path=\"url(#clip690)\" d=\"M83.4457 253.749 L88.3299 253.749 L88.3299 259.629 L83.4457 259.629 L83.4457 253.749 Z\" fill=\"#000000\" fill-rule=\"evenodd\" fill-opacity=\"1\" /><path clip-path=\"url(#clip690)\" d=\"M98.6539 258.911 L98.6539 254.652 Q100.413 255.485 102.219 255.925 Q104.024 256.365 105.76 256.365 Q110.39 256.365 112.82 253.263 Q115.274 250.138 115.621 243.795 Q114.279 245.786 112.219 246.851 Q110.158 247.916 107.658 247.916 Q102.473 247.916 99.4409 244.791 Q96.4317 241.643 96.4317 236.203 Q96.4317 230.879 99.5798 227.661 Q102.728 224.444 107.959 224.444 Q113.955 224.444 117.103 229.05 Q120.274 233.633 120.274 242.383 Q120.274 250.555 116.385 255.439 Q112.52 260.3 105.969 260.3 Q104.209 260.3 102.404 259.953 Q100.598 259.606 98.6539 258.911 M107.959 244.258 Q111.108 244.258 112.936 242.106 Q114.788 239.953 114.788 236.203 Q114.788 232.476 112.936 230.323 Q111.108 228.147 107.959 228.147 Q104.811 228.147 102.959 230.323 Q101.131 232.476 101.131 236.203 Q101.131 239.953 102.959 242.106 Q104.811 244.258 107.959 244.258 Z\" fill=\"#000000\" fill-rule=\"evenodd\" fill-opacity=\"1\" /><polyline clip-path=\"url(#clip692)\" style=\"stroke:#009af9; stroke-linecap:butt; stroke-linejoin:round; stroke-width:4; stroke-opacity:1; fill:none\" points=\"\n",
       "  218.439,1436.62 219.13,1438.92 219.821,1436.64 220.512,1438.93 221.203,1441.21 221.893,1443.49 222.584,1441.18 223.275,1443.45 223.966,1445.72 224.657,1443.39 \n",
       "  225.348,1441.09 226.039,1438.79 226.73,1436.51 227.421,1438.81 228.112,1436.52 228.803,1438.82 229.494,1436.54 230.185,1438.83 230.876,1436.55 231.567,1434.28 \n",
       "  232.258,1432.03 232.949,1429.79 233.64,1427.56 234.331,1429.89 235.021,1427.66 235.712,1425.45 236.403,1423.25 237.094,1425.59 237.785,1423.39 238.476,1421.2 \n",
       "  239.167,1423.56 239.858,1421.37 240.549,1423.72 241.24,1426.06 241.931,1428.4 242.622,1426.18 243.313,1428.52 244.004,1426.3 244.695,1424.09 245.386,1426.43 \n",
       "  246.077,1424.23 246.768,1426.57 247.459,1428.9 248.149,1431.23 248.84,1433.54 249.531,1435.85 250.222,1438.14 250.913,1440.43 251.604,1438.14 252.295,1440.42 \n",
       "  252.986,1438.13 253.677,1440.42 254.368,1438.13 255.059,1435.85 255.75,1433.59 256.441,1435.89 257.132,1433.63 257.823,1431.38 258.514,1429.14 259.205,1426.92 \n",
       "  259.896,1429.25 260.587,1431.58 261.278,1433.89 261.968,1431.64 262.659,1433.95 263.35,1431.7 264.041,1434.01 264.732,1431.76 265.423,1429.52 266.114,1427.29 \n",
       "  266.805,1425.08 267.496,1427.42 268.187,1425.21 268.878,1423.01 269.569,1420.82 270.26,1423.18 270.951,1420.99 271.642,1423.35 272.333,1421.16 273.024,1418.98 \n",
       "  273.715,1416.82 274.406,1414.68 275.096,1412.54 275.787,1410.42 276.478,1408.32 277.169,1406.22 277.86,1404.14 278.551,1406.56 279.242,1404.48 279.933,1402.41 \n",
       "  280.624,1404.83 281.315,1402.76 282.006,1400.7 282.697,1398.66 283.388,1401.09 284.079,1399.04 284.77,1397.01 285.461,1394.99 286.152,1397.43 286.843,1399.86 \n",
       "  287.534,1397.83 288.224,1400.26 288.915,1402.68 289.606,1405.1 290.297,1407.51 290.988,1405.42 291.679,1407.83 292.37,1405.74 293.061,1403.67 293.752,1401.6 \n",
       "  294.443,1399.55 295.134,1397.52 295.825,1399.95 296.516,1402.38 297.207,1404.8 297.898,1402.73 298.589,1405.14 299.28,1407.55 299.971,1405.47 300.662,1403.39 \n",
       "  301.352,1401.33 302.043,1403.75 302.734,1401.69 303.425,1404.11 304.116,1402.04 304.807,1399.99 305.498,1397.95 306.189,1395.93 306.88,1398.37 307.571,1396.34 \n",
       "  308.262,1394.32 308.953,1396.77 309.644,1394.75 310.335,1392.74 311.026,1390.75 311.717,1388.78 312.408,1386.81 313.099,1389.28 313.79,1387.31 314.48,1389.77 \n",
       "  315.171,1387.8 315.862,1390.26 316.553,1388.29 317.244,1386.33 317.935,1388.79 318.626,1391.25 319.317,1393.7 320.008,1391.71 320.699,1389.72 321.39,1387.75 \n",
       "  322.081,1390.21 322.772,1388.24 323.463,1390.7 324.154,1393.15 324.845,1391.16 325.536,1393.61 326.227,1391.62 326.918,1389.63 327.608,1392.09 328.299,1390.1 \n",
       "  328.99,1388.13 329.681,1386.17 330.372,1384.22 331.063,1382.29 331.754,1380.37 332.445,1378.46 333.136,1376.57 333.827,1374.68 334.518,1372.82 335.209,1375.32 \n",
       "  335.9,1377.81 336.591,1375.92 337.282,1374.04 337.973,1372.18 338.664,1374.68 339.355,1372.81 340.046,1375.31 340.737,1373.44 341.427,1375.93 342.118,1378.43 \n",
       "  342.809,1376.53 343.5,1379.02 344.191,1381.51 344.882,1383.99 345.573,1386.46 346.264,1384.51 346.955,1386.98 347.646,1389.44 348.337,1387.48 349.028,1385.52 \n",
       "  349.719,1383.58 350.41,1386.05 351.101,1388.52 351.792,1386.55 352.483,1389.02 353.174,1391.48 353.865,1389.5 354.555,1391.95 355.246,1389.97 355.937,1387.99 \n",
       "  356.628,1386.04 357.319,1388.5 358.01,1390.96 358.701,1393.42 359.392,1391.42 360.083,1389.44 360.774,1391.89 361.465,1394.35 362.156,1396.79 362.847,1399.22 \n",
       "  363.538,1397.19 364.229,1395.17 364.92,1397.61 365.611,1395.59 366.302,1393.58 366.993,1396.02 367.683,1394.01 368.374,1396.46 369.065,1398.89 369.756,1396.86 \n",
       "  370.447,1394.84 371.138,1397.28 371.829,1395.26 372.52,1397.7 373.211,1395.68 373.902,1393.67 374.593,1391.67 375.284,1394.12 375.975,1396.57 376.666,1399 \n",
       "  377.357,1401.43 378.048,1399.38 378.739,1401.81 379.43,1404.23 380.121,1406.65 380.811,1404.56 381.502,1402.5 382.193,1400.44 382.884,1402.86 383.575,1400.81 \n",
       "  384.266,1398.76 384.957,1401.19 385.648,1399.15 386.339,1401.57 387.03,1404 387.721,1406.41 388.412,1404.33 389.103,1402.26 389.794,1400.21 390.485,1398.17 \n",
       "  391.176,1396.14 391.867,1398.58 392.558,1401.01 393.249,1398.96 393.939,1396.93 394.63,1399.37 395.321,1401.8 396.012,1404.22 396.703,1402.15 397.394,1400.1 \n",
       "  398.085,1398.06 398.776,1400.49 399.467,1402.91 400.158,1405.33 400.849,1403.26 401.54,1401.2 402.231,1399.15 402.922,1401.58 403.613,1399.53 404.304,1397.49 \n",
       "  404.995,1395.47 405.686,1397.91 406.377,1400.34 407.068,1402.77 407.758,1400.71 408.449,1398.67 409.14,1396.64 409.831,1399.07 410.522,1401.5 411.213,1399.45 \n",
       "  411.904,1397.42 412.595,1395.4 413.286,1397.84 413.977,1400.27 414.668,1398.23 415.359,1400.66 416.05,1398.62 416.741,1401.05 417.432,1403.47 418.123,1401.41 \n",
       "  418.814,1403.83 419.505,1401.77 420.196,1404.19 420.886,1406.6 421.577,1404.52 422.268,1402.45 422.959,1400.4 423.65,1402.82 424.341,1400.76 425.032,1398.72 \n",
       "  425.723,1396.69 426.414,1394.67 427.105,1392.67 427.796,1390.68 428.487,1388.7 429.178,1391.16 429.869,1389.18 430.56,1387.21 431.251,1389.68 431.942,1392.13 \n",
       "  432.633,1390.15 433.324,1392.6 434.014,1390.61 434.705,1388.63 435.396,1391.09 436.087,1389.11 436.778,1391.57 437.469,1389.59 438.16,1392.05 438.851,1390.06 \n",
       "  439.542,1388.09 440.233,1390.55 440.924,1388.57 441.615,1386.61 442.306,1384.66 442.997,1387.13 443.688,1385.18 444.379,1383.24 445.07,1385.71 445.761,1388.18 \n",
       "  446.452,1386.22 447.142,1388.68 447.833,1386.72 448.524,1384.77 449.215,1382.83 449.906,1380.91 450.597,1383.39 451.288,1385.86 451.979,1383.92 452.67,1386.39 \n",
       "  453.361,1388.85 454.052,1391.31 454.743,1389.33 455.434,1387.36 456.125,1389.83 456.816,1387.85 457.507,1385.9 458.198,1388.36 458.889,1390.82 459.58,1388.85 \n",
       "  460.27,1386.88 460.961,1384.93 461.652,1387.4 462.343,1385.44 463.034,1383.5 463.725,1385.98 464.416,1388.44 465.107,1386.48 465.798,1384.53 466.489,1382.59 \n",
       "  467.18,1385.07 467.871,1383.13 468.562,1381.2 469.253,1379.29 469.944,1381.78 470.635,1379.86 471.326,1377.95 472.017,1376.06 472.708,1378.56 473.398,1376.66 \n",
       "  474.089,1374.78 474.78,1372.91 475.471,1371.05 476.162,1369.21 476.853,1367.38 477.544,1369.89 478.235,1368.05 478.926,1370.56 479.617,1368.72 480.308,1371.23 \n",
       "  480.999,1373.73 481.69,1376.23 482.381,1374.35 483.072,1376.85 483.763,1374.96 484.454,1373.09 485.145,1375.59 485.836,1378.09 486.527,1376.19 487.217,1374.31 \n",
       "  487.908,1372.45 488.599,1370.6 489.29,1368.76 489.981,1366.93 490.672,1365.11 491.363,1363.31 492.054,1361.52 492.745,1359.74 493.436,1362.27 494.127,1360.49 \n",
       "  494.818,1358.72 495.509,1356.96 496.2,1355.22 496.891,1357.75 497.582,1360.28 498.273,1362.8 498.964,1361.02 499.655,1359.24 500.345,1357.48 501.036,1360.01 \n",
       "  501.727,1358.24 502.418,1360.77 503.109,1363.3 503.8,1365.81 504.491,1364.01 505.182,1362.21 505.873,1360.43 506.564,1362.96 507.255,1365.48 507.946,1363.67 \n",
       "  508.637,1366.19 509.328,1368.7 510.019,1371.21 510.71,1373.71 511.401,1371.85 512.092,1370 512.783,1368.17 513.473,1366.34 514.164,1364.53 514.855,1362.73 \n",
       "  515.546,1365.25 516.237,1363.45 516.928,1361.66 517.619,1364.18 518.31,1366.7 519.001,1364.89 519.692,1367.4 520.383,1365.58 521.074,1363.78 521.765,1361.99 \n",
       "  522.456,1360.21 523.147,1358.44 523.838,1356.68 524.529,1354.94 525.22,1353.21 525.911,1351.49 526.601,1349.78 527.292,1348.09 527.983,1350.63 528.674,1353.17 \n",
       "  529.365,1355.71 530.056,1353.97 530.747,1352.25 531.438,1354.79 532.129,1353.06 532.82,1351.34 533.511,1353.88 534.202,1352.16 534.893,1350.45 535.584,1348.75 \n",
       "  536.275,1347.06 536.966,1345.39 537.657,1347.93 538.348,1346.25 539.039,1344.58 539.729,1342.93 540.42,1345.48 541.111,1343.81 541.802,1342.16 542.493,1344.71 \n",
       "  543.184,1343.05 543.875,1345.6 544.566,1343.94 545.257,1346.49 545.948,1344.82 546.639,1343.16 547.33,1341.51 548.021,1339.88 548.712,1338.25 549.403,1336.64 \n",
       "  550.094,1335.04 550.785,1333.46 551.476,1331.88 552.167,1334.44 552.857,1332.85 553.548,1331.28 554.239,1333.84 554.93,1332.26 555.621,1330.69 556.312,1329.14 \n",
       "  557.003,1331.7 557.694,1330.13 558.385,1328.58 559.076,1327.04 559.767,1325.51 560.458,1323.99 561.149,1322.48 561.84,1320.98 562.531,1323.55 563.222,1322.04 \n",
       "  563.913,1320.55 564.604,1319.07 565.295,1317.59 565.986,1316.13 566.676,1314.68 567.367,1313.24 568.058,1311.81 568.749,1310.39 569.44,1308.98 570.131,1311.55 \n",
       "  570.822,1310.13 571.513,1308.72 572.204,1307.32 572.895,1309.89 573.586,1308.48 574.277,1311.04 574.968,1313.61 575.659,1312.17 576.35,1314.74 577.041,1313.3 \n",
       "  577.732,1311.87 578.423,1314.43 579.114,1317 579.804,1319.56 580.495,1318.08 581.186,1316.62 581.877,1315.16 582.568,1317.73 583.259,1320.29 583.95,1322.86 \n",
       "  584.641,1321.36 585.332,1319.87 586.023,1322.43 586.714,1320.94 587.405,1319.45 588.096,1317.97 588.787,1320.54 589.478,1319.06 590.169,1317.58 590.86,1316.12 \n",
       "  591.551,1318.69 592.242,1321.25 592.932,1319.76 593.623,1318.28 594.314,1316.82 595.005,1319.38 595.696,1321.95 596.387,1324.51 597.078,1327.07 597.769,1325.54 \n",
       "  598.46,1328.11 599.151,1326.57 599.842,1325.04 600.533,1323.52 601.224,1322.02 601.915,1320.53 602.606,1323.09 603.297,1321.59 603.988,1324.15 604.679,1326.72 \n",
       "  605.37,1325.19 606.06,1323.67 606.751,1326.23 607.442,1324.71 608.133,1323.2 608.824,1321.69 609.515,1320.2 610.206,1318.72 610.897,1321.29 611.588,1323.85 \n",
       "  612.279,1322.34 612.97,1320.85 613.661,1319.36 614.352,1317.89 615.043,1316.42 615.734,1314.97 616.425,1313.53 617.116,1312.1 617.807,1314.66 618.498,1313.22 \n",
       "  619.188,1311.79 619.879,1310.37 620.57,1308.96 621.261,1311.52 621.952,1310.11 622.643,1308.7 623.334,1307.3 624.025,1305.92 624.716,1308.48 625.407,1307.08 \n",
       "  626.098,1305.7 626.789,1304.32 627.48,1302.96 628.171,1305.52 628.862,1304.14 629.553,1302.78 630.244,1301.43 630.935,1300.08 631.626,1298.75 632.316,1297.43 \n",
       "  633.007,1296.11 633.698,1298.67 634.389,1301.22 635.08,1303.78 635.771,1306.34 636.462,1308.9 637.153,1307.51 637.844,1306.12 638.535,1308.68 639.226,1307.28 \n",
       "  639.917,1305.9 640.608,1308.46 641.299,1311.02 641.99,1313.58 642.681,1316.15 643.372,1318.71 644.063,1321.28 644.754,1323.84 645.445,1322.33 646.135,1320.84 \n",
       "  646.826,1319.35 647.517,1317.88 648.208,1316.41 648.899,1314.96 649.59,1313.52 650.281,1316.08 650.972,1314.63 651.663,1317.2 652.354,1315.74 653.045,1314.29 \n",
       "  653.736,1312.85 654.427,1315.42 655.118,1313.97 655.809,1312.53 656.5,1311.11 657.191,1309.7 657.882,1308.29 658.573,1310.85 659.263,1313.42 659.954,1311.99 \n",
       "  660.645,1314.55 661.336,1317.11 662.027,1319.68 662.718,1318.2 663.409,1316.74 664.1,1315.28 664.791,1317.85 665.482,1320.41 666.173,1322.97 666.864,1321.47 \n",
       "  667.555,1319.98 668.246,1318.5 668.937,1317.04 669.628,1319.6 670.319,1318.12 671.01,1316.66 671.701,1315.2 672.391,1313.76 673.082,1312.33 673.773,1310.9 \n",
       "  674.464,1309.49 675.155,1312.05 675.846,1314.62 676.537,1313.18 677.228,1315.74 677.919,1314.29 678.61,1316.86 679.301,1315.4 679.992,1317.96 680.683,1320.53 \n",
       "  681.374,1319.05 682.065,1321.61 682.756,1324.17 683.447,1322.66 684.138,1325.23 684.829,1327.79 685.519,1326.26 686.21,1324.73 686.901,1327.29 687.592,1325.76 \n",
       "  688.283,1324.24 688.974,1322.73 689.665,1321.23 690.356,1319.74 691.047,1322.31 691.738,1320.81 692.429,1323.38 693.12,1321.87 693.811,1320.38 694.502,1318.9 \n",
       "  695.193,1321.46 695.884,1319.97 696.575,1318.49 697.266,1317.02 697.957,1319.59 698.647,1318.11 699.338,1320.68 700.029,1319.19 700.72,1317.72 701.411,1316.26 \n",
       "  702.102,1318.82 702.793,1317.35 703.484,1315.89 704.175,1318.46 704.866,1316.99 705.557,1319.55 706.248,1318.08 706.939,1320.64 707.63,1323.2 708.321,1325.77 \n",
       "  709.012,1328.33 709.703,1326.79 710.394,1325.26 711.085,1327.83 711.776,1326.29 712.466,1328.85 713.157,1327.31 713.848,1329.87 714.539,1328.32 715.23,1326.78 \n",
       "  715.921,1325.25 716.612,1323.73 717.303,1326.3 717.994,1324.77 718.685,1327.34 719.376,1325.8 720.067,1324.28 720.758,1322.77 721.449,1325.33 722.14,1323.82 \n",
       "  722.831,1326.38 723.522,1324.85 724.213,1323.34 724.904,1325.9 725.594,1324.38 726.285,1322.87 726.976,1321.37 727.667,1323.93 728.358,1326.5 729.049,1324.97 \n",
       "  729.74,1327.53 730.431,1330.1 731.122,1328.54 731.813,1327 732.504,1325.47 733.195,1323.95 733.886,1322.45 734.577,1320.95 735.268,1319.46 735.959,1317.99 \n",
       "  736.65,1316.52 737.341,1315.07 738.032,1313.63 738.722,1312.19 739.413,1314.76 740.104,1313.32 740.795,1311.89 741.486,1310.47 742.177,1309.06 742.868,1307.66 \n",
       "  743.559,1310.22 744.25,1312.78 744.941,1311.36 745.632,1313.92 746.323,1316.48 747.014,1319.05 747.705,1317.58 748.396,1316.11 749.087,1314.66 749.778,1313.22 \n",
       "  750.469,1311.79 751.16,1310.37 751.85,1308.96 752.541,1311.53 753.232,1314.09 753.923,1316.66 754.614,1315.2 755.305,1313.76 755.996,1316.32 756.687,1314.87 \n",
       "  757.378,1313.43 758.069,1312 758.76,1314.56 759.451,1313.12 760.142,1311.69 760.833,1310.27 761.524,1312.84 762.215,1311.41 762.906,1309.99 763.597,1312.56 \n",
       "  764.288,1311.13 764.978,1313.69 765.669,1316.26 766.36,1314.81 767.051,1313.36 767.742,1311.93 768.433,1310.51 769.124,1313.08 769.815,1315.64 770.506,1314.19 \n",
       "  771.197,1316.76 771.888,1315.3 772.579,1317.87 773.27,1320.43 773.961,1323 774.652,1321.49 775.343,1320 776.034,1318.53 776.725,1317.06 777.416,1319.62 \n",
       "  778.106,1322.19 778.797,1320.69 779.488,1319.21 780.179,1321.77 780.87,1320.28 781.561,1318.8 782.252,1317.33 782.943,1315.87 783.634,1314.42 784.325,1312.98 \n",
       "  785.016,1311.55 785.707,1310.13 786.398,1308.73 787.089,1311.29 787.78,1309.87 788.471,1308.47 789.162,1307.07 789.853,1305.69 790.544,1304.31 791.235,1306.87 \n",
       "  791.925,1309.44 792.616,1308.03 793.307,1306.64 793.998,1309.2 794.689,1307.8 795.38,1310.37 796.071,1308.96 796.762,1311.52 797.453,1310.1 798.144,1312.67 \n",
       "  798.835,1311.24 799.526,1309.83 800.217,1308.42 800.908,1310.98 801.599,1313.55 802.29,1312.11 802.981,1310.69 803.672,1309.28 804.363,1307.88 805.053,1310.44 \n",
       "  805.744,1309.03 806.435,1307.63 807.126,1306.25 807.817,1308.81 808.508,1307.41 809.199,1306.02 809.89,1304.65 810.581,1303.28 811.272,1301.92 811.963,1300.57 \n",
       "  812.654,1303.13 813.345,1305.69 814.036,1304.32 814.727,1302.95 815.418,1305.51 816.109,1304.14 816.8,1302.78 817.491,1301.42 818.181,1303.98 818.872,1302.62 \n",
       "  819.563,1305.18 820.254,1303.81 820.945,1302.45 821.636,1305.01 822.327,1303.64 823.018,1302.28 823.709,1300.93 824.4,1299.59 825.091,1298.26 825.782,1300.81 \n",
       "  826.473,1303.37 827.164,1305.93 827.855,1308.49 828.546,1311.06 829.237,1313.62 829.928,1312.19 830.619,1310.76 831.309,1309.35 832,1307.95 832.691,1306.56 \n",
       "  833.382,1305.18 834.073,1303.81 834.764,1302.45 835.455,1305.01 836.146,1303.64 836.837,1302.28 837.528,1304.84 838.219,1303.47 838.91,1306.03 839.601,1308.59 \n",
       "  840.292,1307.19 840.983,1305.81 841.674,1304.43 842.365,1303.07 843.056,1301.71 843.747,1300.36 844.437,1302.92 845.128,1301.57 845.819,1300.22 846.51,1298.89 \n",
       "  847.201,1297.56 847.892,1296.25 848.583,1298.8 849.274,1297.48 849.965,1296.16 850.656,1294.86 851.347,1293.56 852.038,1292.28 852.729,1291 853.42,1293.55 \n",
       "  854.111,1292.26 854.802,1290.99 855.493,1293.53 856.184,1296.09 856.875,1298.64 857.565,1297.32 858.256,1299.87 858.947,1302.43 859.638,1301.08 860.329,1303.64 \n",
       "  861.02,1302.28 861.711,1304.84 862.402,1307.4 863.093,1306.01 863.784,1308.57 864.475,1307.18 865.166,1305.79 865.857,1304.42 866.548,1306.98 867.239,1305.59 \n",
       "  867.93,1308.15 868.621,1306.76 869.312,1305.38 870.003,1304.01 870.694,1302.64 871.384,1305.2 872.075,1303.83 872.766,1302.47 873.457,1305.03 874.148,1303.66 \n",
       "  874.839,1302.3 875.53,1300.95 876.221,1299.61 876.912,1302.17 877.603,1300.82 878.294,1299.48 878.985,1302.04 879.676,1304.6 880.367,1303.23 881.058,1301.87 \n",
       "  881.749,1300.53 882.44,1299.19 883.131,1301.75 883.822,1304.3 884.512,1306.87 885.203,1305.48 885.894,1304.11 886.585,1302.75 887.276,1301.39 887.967,1300.05 \n",
       "  888.658,1302.61 889.349,1305.17 890.04,1303.8 890.731,1302.43 891.422,1301.08 892.113,1303.64 892.804,1302.28 893.495,1300.93 894.186,1299.59 894.877,1298.26 \n",
       "  895.568,1296.94 896.259,1299.5 896.95,1298.17 897.64,1300.72 898.331,1299.39 899.022,1298.06 899.713,1300.61 900.404,1299.27 901.095,1301.83 901.786,1300.49 \n",
       "  902.477,1303.04 903.168,1305.6 903.859,1304.23 904.55,1302.87 905.241,1301.51 905.932,1300.17 906.623,1298.83 907.314,1297.51 908.005,1296.19 908.696,1294.89 \n",
       "  909.387,1290.33 910.078,1285.79 910.768,1281.28 911.459,1276.8 912.15,1272.34 912.841,1267.91 913.532,1263.51 914.223,1259.13 914.914,1254.78 915.605,1250.45 \n",
       "  916.296,1246.15 916.987,1241.88 917.678,1237.64 918.369,1233.42 919.06,1229.23 919.751,1225.06 920.442,1220.92 921.133,1216.81 921.824,1212.72 922.515,1208.66 \n",
       "  923.206,1204.62 923.896,1209.49 924.587,1205.45 925.278,1201.44 925.969,1206.32 926.66,1202.3 927.351,1198.31 928.042,1203.19 928.733,1199.19 929.424,1204.08 \n",
       "  930.115,1200.07 930.806,1196.1 931.497,1192.14 932.188,1197.05 932.879,1201.94 933.57,1197.95 934.261,1193.98 934.952,1190.04 935.643,1186.13 936.334,1182.24 \n",
       "  937.024,1178.38 937.715,1174.54 938.406,1170.73 939.097,1166.94 939.788,1163.18 940.479,1168.16 941.17,1164.39 941.861,1160.64 942.552,1156.93 943.243,1153.23 \n",
       "  943.934,1149.56 944.625,1145.92 945.316,1142.3 946.007,1138.71 946.698,1135.14 947.389,1131.6 948.08,1128.08 948.771,1133.11 949.462,1129.58 950.153,1134.61 \n",
       "  950.843,1131.07 951.534,1127.56 952.225,1124.06 952.916,1129.11 953.607,1134.14 954.298,1130.6 954.989,1127.09 955.68,1123.6 956.371,1120.13 957.062,1116.69 \n",
       "  957.753,1113.28 958.444,1109.88 959.135,1114.94 959.826,1111.54 960.517,1108.16 961.208,1104.8 961.899,1101.46 962.59,1098.15 963.281,1094.86 963.971,1091.6 \n",
       "  964.662,1088.36 965.353,1093.44 966.044,1090.18 966.735,1086.95 967.426,1083.74 968.117,1080.56 968.808,1077.39 969.499,1074.25 970.19,1079.34 970.881,1076.18 \n",
       "  971.572,1073.05 972.263,1069.94 972.954,1075.03 973.645,1071.9 974.336,1076.99 975.027,1073.86 975.718,1070.74 976.409,1067.64 977.099,1064.57 977.79,1069.66 \n",
       "  978.481,1066.58 979.172,1063.51 979.863,1068.6 980.554,1073.7 981.245,1078.78 981.936,1075.63 982.627,1080.72 983.318,1085.81 984.009,1082.61 984.7,1079.43 \n",
       "  985.391,1084.51 986.082,1081.32 986.773,1078.15 987.464,1075 988.155,1071.88 988.846,1068.78 989.537,1073.87 990.227,1070.75 990.918,1067.66 991.609,1072.75 \n",
       "  992.3,1069.64 992.991,1066.55 993.682,1063.49 994.373,1060.44 995.064,1057.42 995.755,1054.42 996.446,1051.44 997.137,1048.48 997.828,1053.58 998.519,1050.61 \n",
       "  999.21,1055.7 999.901,1052.71 1000.59,1049.74 1001.28,1046.8 1001.97,1043.87 1002.66,1048.97 1003.36,1046.03 1004.05,1043.11 1004.74,1048.2 1005.43,1045.27 \n",
       "  1006.12,1042.35 1006.81,1039.46 1007.5,1036.59 1008.19,1041.68 1008.88,1038.79 1009.57,1035.92 1010.26,1033.08 1010.96,1038.17 1011.65,1035.3 1012.34,1032.46 \n",
       "  1013.03,1029.64 1013.72,1034.73 1014.41,1031.89 1015.1,1029.07 1015.79,1034.16 1016.48,1031.32 1017.17,1028.51 1017.87,1025.72 1018.56,1022.94 1019.25,1020.19 \n",
       "  1019.94,1017.45 1020.63,1014.74 1021.32,1019.82 1022.01,1024.9 1022.7,1022.13 1023.39,1027.21 1024.08,1024.43 1024.77,1021.66 1025.47,1018.92 1026.16,1016.19 \n",
       "  1026.85,1013.49 1027.54,1010.8 1028.23,1008.13 1028.92,1013.21 1029.61,1010.52 1030.3,1007.85 1030.99,1012.93 1031.68,1010.24 1032.38,1007.58 1033.07,1004.94 \n",
       "  1033.76,1002.31 1034.45,999.703 1035.14,997.114 1035.83,994.544 1036.52,991.993 1037.21,989.459 1037.9,986.944 1038.59,984.447 1039.28,981.967 1039.98,987.007 \n",
       "  1040.67,984.509 1041.36,982.029 1042.05,979.567 1042.74,977.122 1043.43,974.695 1044.12,972.285 1044.81,969.892 1045.5,967.516 1046.19,965.157 1046.89,970.166 \n",
       "  1047.58,967.788 1048.27,965.428 1048.96,963.084 1049.65,960.756 1050.34,958.446 1051.03,956.151 1051.72,953.873 1052.41,951.611 1053.1,956.59 1053.79,954.309 \n",
       "  1054.49,952.044 1055.18,949.795 1055.87,954.769 1056.56,952.501 1057.25,950.249 1057.94,948.013 1058.63,945.792 1059.32,943.588 1060.01,941.398 1060.7,939.225 \n",
       "  1061.4,937.067 1062.09,934.924 1062.78,932.796 1063.47,930.683 1064.16,928.585 1064.85,926.501 1065.54,924.433 1066.23,922.378 1066.92,920.339 1067.61,918.313 \n",
       "  1068.3,923.197 1069,921.152 1069.69,919.121 1070.38,924.007 1071.07,928.91 1071.76,926.824 1072.45,924.753 1073.14,922.697 1073.83,927.595 1074.52,925.519 \n",
       "  1075.21,930.426 1075.91,928.33 1076.6,926.248 1077.29,924.181 1077.98,922.129 1078.67,927.026 1079.36,931.937 1080.05,929.831 1080.74,927.739 1081.43,925.661 \n",
       "  1082.12,923.598 1082.81,928.5 1083.51,926.417 1084.2,931.327 1084.89,936.252 1085.58,934.114 1086.27,931.992 1086.96,929.885 1087.65,927.792 1088.34,925.715 \n",
       "  1089.03,930.622 1089.72,928.525 1090.41,926.442 1091.11,924.374 1091.8,929.277 1092.49,934.196 1093.18,932.073 1093.87,929.965 1094.56,934.886 1095.25,932.758 \n",
       "  1095.94,930.646 1096.63,928.548 1097.32,926.465 1098.02,924.396 1098.71,929.3 1099.4,927.212 1100.09,925.138 1100.78,923.079 1101.47,927.978 1102.16,925.899 \n",
       "  1102.85,923.835 1103.54,921.785 1104.23,919.749 1104.92,917.728 1105.62,922.61 1106.31,920.569 1107,918.542 1107.69,916.529 1108.38,914.53 1109.07,912.545 \n",
       "  1109.76,910.574 1110.45,908.617 1111.14,906.673 1111.83,904.743 1112.53,902.826 1113.22,900.923 1113.91,905.745 1114.6,903.821 1115.29,901.911 1115.98,900.014 \n",
       "  1116.67,898.13 1117.36,896.259 1118.05,894.401 1118.74,892.556 1119.43,890.723 1120.13,888.904 1120.82,887.096 1121.51,891.863 1122.2,890.036 1122.89,894.815 \n",
       "  1123.58,892.967 1124.27,891.132 1124.96,889.309 1125.65,887.499 1126.34,885.701 1127.04,890.462 1127.73,888.644 1128.42,886.839 1129.11,885.046 1129.8,889.804 \n",
       "  1130.49,887.991 1131.18,886.19 1131.87,884.401 1132.56,882.624 1133.25,880.86 1133.94,879.108 1134.64,877.368 1135.33,882.093 1136.02,880.332 1136.71,878.583 \n",
       "  1137.4,883.313 1138.09,881.545 1138.78,879.788 1139.47,878.043 1140.16,876.31 1140.85,874.589 1141.55,872.879 1142.24,871.181 1142.93,869.495 1143.62,867.82 \n",
       "  1144.31,866.157 1145,864.505 1145.69,862.864 1146.38,861.234 1147.07,859.614 1147.76,858.006 1148.45,856.409 1149.15,854.822 1149.84,853.246 1150.53,851.681 \n",
       "  1151.22,850.126 1151.91,848.581 1152.6,853.163 1153.29,851.598 1153.98,856.196 1154.67,854.611 1155.36,853.036 1156.05,851.472 1156.75,856.07 1157.44,854.485 \n",
       "  1158.13,852.912 1158.82,851.348 1159.51,849.796 1160.2,848.253 1160.89,846.721 1161.58,845.199 1162.27,849.762 1162.96,854.351 1163.66,852.778 1164.35,851.215 \n",
       "  1165.04,849.663 1165.73,848.122 1166.42,846.59 1167.11,845.069 1167.8,843.558 1168.49,842.057 1169.18,840.566 1169.87,839.085 1170.56,837.613 1171.26,836.151 \n",
       "  1171.95,834.699 1172.64,833.256 1173.33,837.751 1174.02,836.289 1174.71,834.836 1175.4,833.392 1176.09,831.958 1176.78,836.445 1177.47,840.959 1178.17,839.475 \n",
       "  1178.86,838.001 1179.55,836.537 1180.24,841.051 1180.93,839.566 1181.62,838.092 1182.31,836.627 1183,835.171 1183.69,833.726 1184.38,832.289 1185.07,830.862 \n",
       "  1185.77,835.343 1186.46,833.896 1187.15,832.459 1187.84,831.031 1188.53,829.612 1189.22,828.203 1189.91,826.803 1190.6,831.259 1191.29,829.838 1191.98,828.428 \n",
       "  1192.68,827.026 1193.37,825.633 1194.06,824.25 1194.75,822.875 1195.44,821.51 1196.13,820.153 1196.82,818.805 1197.51,817.465 1198.2,816.135 1198.89,820.523 \n",
       "  1199.58,824.94 1200.28,829.385 1200.97,827.977 1201.66,826.578 1202.35,825.188 1203.04,823.808 1203.73,822.436 1204.42,821.073 1205.11,825.494 1205.8,824.111 \n",
       "  1206.49,822.737 1207.19,821.373 1207.88,820.017 1208.57,818.669 1209.26,817.331 1209.95,821.727 1210.64,820.369 1211.33,819.02 1212.02,817.679 1212.71,816.347 \n",
       "  1213.4,815.023 1214.09,813.708 1214.79,812.402 1215.48,811.103 1216.17,809.813 1216.86,808.532 1217.55,807.258 1218.24,805.993 1218.93,804.735 1219.62,803.486 \n",
       "  1220.31,802.244 1221,801.01 1221.7,799.784 1222.39,798.566 1223.08,802.835 1223.77,807.133 1224.46,805.869 1225.15,804.612 1225.84,803.363 1226.53,802.123 \n",
       "  1227.22,800.89 1227.91,799.664 1228.6,798.447 1229.3,797.237 1229.99,796.035 1230.68,794.84 1231.37,799.082 1232.06,797.868 1232.75,796.662 1233.44,795.463 \n",
       "  1234.13,794.272 1234.82,793.088 1235.51,791.912 1236.2,790.743 1236.9,789.581 1237.59,788.426 1238.28,787.279 1238.97,786.139 1239.66,785.005 1240.35,783.879 \n",
       "  1241.04,782.76 1241.73,781.647 1242.42,785.79 1243.11,784.659 1243.81,783.535 1244.5,782.417 1245.19,781.307 1245.88,780.203 1246.57,779.106 1247.26,778.016 \n",
       "  1247.95,782.13 1248.64,786.277 1249.33,790.455 1250.02,789.295 1250.71,793.496 1251.41,792.317 1252.1,791.145 1252.79,789.981 1253.48,788.824 1254.17,787.674 \n",
       "  1254.86,786.531 1255.55,785.396 1256.24,784.267 1256.93,783.145 1257.62,787.299 1258.32,786.159 1259.01,785.026 1259.7,783.899 1260.39,788.059 1261.08,786.914 \n",
       "  1261.77,785.776 1262.46,784.645 1263.15,783.521 1263.84,787.678 1264.53,791.867 1265.22,790.698 1265.92,789.536 1266.61,793.739 1267.3,797.973 1267.99,802.237 \n",
       "  1268.68,801.004 1269.37,799.778 1270.06,798.559 1270.75,797.349 1271.44,796.146 1272.13,794.95 1272.83,799.193 1273.52,803.466 1274.21,802.225 1274.9,800.991 \n",
       "  1275.59,799.765 1276.28,798.547 1276.97,797.337 1277.66,796.134 1278.35,794.938 1279.04,799.181 1279.73,797.966 1280.43,802.231 1281.12,800.997 1281.81,799.771 \n",
       "  1282.5,798.553 1283.19,802.822 1283.88,801.584 1284.57,800.355 1285.26,799.133 1285.95,797.919 1286.64,796.712 1287.34,795.513 1288.03,794.322 1288.72,793.138 \n",
       "  1289.41,791.961 1290.1,796.182 1290.79,794.986 1291.48,793.798 1292.17,792.617 1292.86,791.444 1293.55,795.66 1294.24,794.468 1294.94,798.707 1295.63,797.496 \n",
       "  1296.32,796.292 1297.01,795.095 1297.7,799.339 1298.39,798.124 1299.08,796.916 1299.77,795.715 1300.46,794.523 1301.15,793.337 1301.84,792.16 1302.54,790.989 \n",
       "  1303.23,789.826 1303.92,788.67 1304.61,787.521 1305.3,791.708 1305.99,790.54 1306.68,789.38 1307.37,788.227 1308.06,787.08 1308.75,791.265 1309.45,795.48 \n",
       "  1310.14,794.289 1310.83,793.105 1311.52,791.929 1312.21,796.149 1312.9,794.954 1313.59,799.196 1314.28,803.469 1314.97,802.228 1315.66,800.994 1316.35,799.768 \n",
       "  1317.05,798.55 1317.74,797.34 1318.43,801.6 1319.12,800.37 1319.81,799.148 1320.5,797.934 1321.19,796.727 1321.88,795.528 1322.57,794.336 1323.26,793.152 \n",
       "  1323.96,791.976 1324.65,790.806 1325.34,789.644 1326.03,793.847 1326.72,798.082 1327.41,796.874 1328.1,795.674 1328.79,794.482 1329.48,798.721 1330.17,802.991 \n",
       "  1330.86,801.753 1331.56,806.044 1332.25,804.786 1332.94,803.536 1333.63,807.84 1334.32,812.173 1335.01,816.536 1335.7,815.211 1336.39,813.895 1337.08,812.587 \n",
       "  1337.77,811.287 1338.47,809.996 1339.16,808.713 1339.85,807.439 1340.54,806.172 1341.23,804.913 1341.92,803.663 1342.61,802.42 1343.3,806.716 1343.99,805.454 \n",
       "  1344.68,804.2 1345.37,802.954 1346.07,807.253 1346.76,811.583 1347.45,810.29 1348.14,809.005 1348.83,807.728 1349.52,806.46 1350.21,805.199 1350.9,803.947 \n",
       "  1351.59,802.702 1352.28,801.466 1352.98,800.237 1353.67,799.016 1354.36,797.802 1355.05,796.597 1355.74,795.398 1356.43,794.208 1357.12,793.024 1357.81,791.848 \n",
       "  1358.5,790.68 1359.19,794.891 1359.88,793.703 1360.58,797.937 1361.27,802.201 1361.96,800.968 1362.65,799.742 1363.34,798.524 1364.03,797.313 1364.72,801.573 \n",
       "  1365.41,800.344 1366.1,799.122 1366.79,797.908 1367.49,796.701 1368.18,795.502 1368.87,799.749 1369.56,798.531 1370.25,797.321 1370.94,796.118 1371.63,794.922 \n",
       "  1372.32,793.735 1373.01,792.554 1373.7,791.381 1374.39,790.216 1375.09,794.423 1375.78,798.662 1376.47,797.451 1377.16,796.247 1377.85,800.499 1378.54,804.782 \n",
       "  1379.23,803.532 1379.92,802.29 1380.61,801.056 1381.3,799.83 1381.99,804.107 1382.69,802.862 1383.38,801.624 1384.07,800.394 1384.76,799.172 1385.45,803.445 \n",
       "  1386.14,802.204 1386.83,806.498 1387.52,805.238 1388.21,803.985 1388.9,802.74 1389.6,801.503 1390.29,800.274 1390.98,799.053 1391.67,797.839 1392.36,796.633 \n",
       "  1393.05,795.435 1393.74,794.244 1394.43,798.481 1395.12,797.271 1395.81,796.069 1396.5,794.874 1397.2,799.116 1397.89,797.902 1398.58,802.166 1399.27,800.932 \n",
       "  1399.96,805.218 1400.65,809.533 1401.34,813.878 1402.03,812.57 1402.72,811.271 1403.41,809.98 1404.11,808.697 1404.8,807.422 1405.49,811.753 1406.18,810.459 \n",
       "  1406.87,809.173 1407.56,813.515 1408.25,812.21 1408.94,810.913 1409.63,815.267 1410.32,813.95 1411.01,812.642 1411.71,811.342 1412.4,815.699 1413.09,814.38 \n",
       "  1413.78,813.069 1414.47,811.766 1415.16,810.472 1415.85,809.186 1416.54,807.909 1417.23,806.639 1417.92,805.377 1418.62,804.124 1419.31,802.878 1420,807.177 \n",
       "  1420.69,805.912 1421.38,804.655 1422.07,803.406 1422.76,802.165 1423.45,800.932 1424.14,799.707 1424.83,803.983 1425.52,802.739 1426.22,801.502 1426.91,800.273 \n",
       "  1427.6,799.051 1428.29,803.323 1428.98,802.083 1429.67,800.85 1430.36,799.625 1431.05,798.408 1431.74,802.675 1432.43,801.439 1433.13,800.21 1433.82,798.989 \n",
       "  1434.51,797.776 1435.2,796.57 1435.89,795.372 1436.58,794.182 1437.27,792.999 1437.96,797.227 1438.65,796.025 1439.34,794.83 1440.03,793.643 1440.73,792.463 \n",
       "  1441.42,791.291 1442.11,790.125 1442.8,788.967 1443.49,787.817 1444.18,786.673 1444.87,785.536 1445.56,789.709 1446.25,788.554 1446.94,787.405 1447.63,791.592 \n",
       "  1448.33,790.425 1449.02,789.265 1449.71,788.113 1450.4,786.967 1451.09,785.829 1451.78,784.697 1452.47,783.573 1453.16,782.456 1453.85,781.345 1454.54,780.241 \n",
       "  1455.24,779.144 1455.93,778.054 1456.62,776.97 1457.31,775.893 1458,774.822 1458.69,773.758 1459.38,777.838 1460.07,776.756 1460.76,775.68 1461.45,774.611 \n",
       "  1462.14,773.548 1462.84,777.626 1463.53,781.737 1464.22,780.631 1464.91,779.532 1465.6,778.439 1466.29,777.353 1466.98,776.273 1467.67,775.2 1468.36,774.134 \n",
       "  1469.05,773.074 1469.75,772.021 1470.44,770.973 1471.13,769.933 1471.82,768.898 1472.51,767.87 1473.2,766.847 1473.89,765.831 1474.58,764.821 1475.27,763.817 \n",
       "  1475.96,762.819 1476.65,761.827 1477.35,760.841 1478.04,759.861 1478.73,758.886 1479.42,757.917 1480.11,761.865 1480.8,760.878 1481.49,759.898 1482.18,758.923 \n",
       "  1482.87,757.954 1483.56,756.991 1484.26,760.93 1484.95,764.903 1485.64,763.899 1486.33,762.9 1487.02,761.908 1487.71,760.921 1488.4,759.94 1489.09,763.905 \n",
       "  1489.78,762.907 1490.47,766.897 1491.16,765.881 1491.86,764.87 1492.55,763.866 1493.24,762.868 1493.93,766.858 1494.62,765.841 1495.31,764.831 1496,763.827 \n",
       "  1496.69,762.829 1497.38,761.837 1498.07,760.851 1498.77,764.824 1499.46,763.82 1500.15,762.821 1500.84,761.829 1501.53,760.843 1502.22,759.863 1502.91,758.888 \n",
       "  1503.6,757.919 1504.29,761.867 1504.98,760.88 1505.67,759.9 1506.37,763.864 1507.06,767.863 1507.75,766.841 1508.44,765.825 1509.13,764.815 1509.82,763.811 \n",
       "  1510.51,762.813 1511.2,761.821 1511.89,760.834 1512.58,764.807 1513.28,763.803 1513.97,762.805 1514.66,761.813 1515.35,760.827 1516.04,759.847 1516.73,763.811 \n",
       "  1517.42,762.813 1518.11,761.821 1518.8,765.802 1519.49,764.792 1520.18,763.788 1520.88,762.79 1521.57,761.798 1522.26,760.812 1522.95,764.785 1523.64,763.781 \n",
       "  1524.33,762.783 1525.02,766.772 1525.71,765.757 1526.4,769.771 1527.09,768.737 1527.78,767.71 1528.48,766.689 1529.17,770.711 1529.86,774.766 1530.55,773.703 \n",
       "  1531.24,772.645 1531.93,771.594 1532.62,775.657 1533.31,774.588 1534,773.525 1534.69,772.469 1535.39,771.419 1536.08,770.375 1536.77,769.338 1537.46,768.307 \n",
       "  1538.15,767.282 1538.84,766.264 1539.53,765.251 1540.22,764.244 1540.91,763.244 1541.6,762.249 1542.29,761.261 1542.99,760.278 1543.68,759.301 1544.37,758.329 \n",
       "  1545.06,757.364 1545.75,756.404 1546.44,755.45 1547.13,754.501 1547.82,758.419 1548.51,757.453 1549.2,756.492 1549.9,755.538 1550.59,759.464 1551.28,758.492 \n",
       "  1551.97,757.526 1552.66,756.565 1553.35,755.61 1554.04,754.66 1554.73,753.716 1555.42,752.778 1556.11,751.845 1556.8,750.917 1557.5,754.803 1558.19,753.858 \n",
       "  1558.88,752.919 1559.57,751.985 1560.26,751.056 1560.95,750.133 1561.64,749.216 1562.33,748.304 1563.02,747.397 1563.71,746.495 1564.41,745.598 1565.1,744.707 \n",
       "  1565.79,743.821 1566.48,747.641 1567.17,751.497 1567.86,750.572 1568.55,749.652 1569.24,753.526 1569.93,752.589 1570.62,756.489 1571.31,755.534 1572.01,754.585 \n",
       "  1572.7,753.642 1573.39,752.704 1574.08,751.771 1574.77,750.844 1575.46,754.729 1576.15,753.785 1576.84,752.846 1577.53,751.912 1578.22,755.807 1578.92,754.856 \n",
       "  1579.61,758.777 1580.3,757.809 1580.99,756.846 1581.68,755.889 1582.37,754.938 1583.06,758.859 1583.75,762.815 1584.44,761.823 1585.13,765.804 1585.82,769.819 \n",
       "  1586.52,768.785 1587.21,767.757 1587.9,766.736 1588.59,765.72 1589.28,764.711 1589.97,763.707 1590.66,762.71 1591.35,761.719 1592.04,760.733 1592.73,759.753 \n",
       "  1593.42,763.717 1594.12,762.719 1594.81,761.728 1595.5,760.742 1596.19,764.714 1596.88,763.711 1597.57,762.713 1598.26,761.722 1598.95,760.736 1599.64,764.708 \n",
       "  1600.33,759.74 1601.03,764.729 1601.72,759.76 1602.41,754.823 1603.1,759.822 1603.79,754.884 1604.48,749.977 1605.17,745.101 1605.86,740.256 1606.55,735.442 \n",
       "  1607.24,730.658 1607.93,725.905 1608.63,721.182 1609.32,726.245 1610.01,721.52 1610.7,716.826 1611.39,712.162 1612.08,707.529 1612.77,712.613 1613.46,707.977 \n",
       "  1614.15,703.372 1614.84,698.796 1615.54,694.251 1616.23,689.736 1616.92,685.251 1617.61,680.796 1618.3,676.371 1618.99,671.975 1619.68,677.106 1620.37,672.706 \n",
       "  1621.06,668.335 1621.75,663.994 1622.44,659.683 1623.14,655.401 1623.83,651.148 1624.52,646.924 1625.21,642.73 1625.9,638.564 1626.59,634.427 1627.28,630.319 \n",
       "  1627.97,626.24 1628.66,622.188 1629.35,618.166 1630.05,614.171 1630.74,610.205 1631.43,606.266 1632.12,602.355 1632.81,598.472 1633.5,603.646 1634.19,599.754 \n",
       "  1634.88,595.89 1635.57,592.052 1636.26,588.243 1636.95,584.46 1637.65,589.633 1638.34,585.84 1639.03,582.075 1639.72,578.336 1640.41,574.624 1641.1,570.939 \n",
       "  1641.79,567.281 1642.48,563.648 1643.17,560.042 1643.86,556.462 1644.56,552.908 1645.25,549.38 1645.94,545.877 1646.63,542.4 1647.32,538.948 1648.01,535.521 \n",
       "  1648.7,540.666 1649.39,537.227 1650.08,533.812 1650.77,530.423 1651.46,527.059 1652.16,523.719 1652.85,520.403 1653.54,517.112 1654.23,522.235 1654.92,518.931 \n",
       "  1655.61,515.651 1656.3,512.394 1656.99,509.162 1657.68,505.954 1658.37,502.769 1659.06,499.608 1659.76,496.47 1660.45,493.355 1661.14,490.263 1661.83,487.194 \n",
       "  1662.52,484.148 1663.21,481.124 1663.9,478.122 1664.59,475.143 1665.28,472.186 1665.97,469.251 1666.67,466.338 1667.36,463.446 1668.05,460.576 1668.74,457.727 \n",
       "  1669.43,454.899 1670.12,452.093 1670.81,449.307 1671.5,446.542 1672.19,443.797 1672.88,441.073 1673.57,438.369 1674.27,443.324 1674.96,440.604 1675.65,437.903 \n",
       "  1676.34,435.223 1677.03,432.563 1677.72,429.922 1678.41,427.301 1679.1,424.7 1679.79,422.118 1680.48,419.555 1681.18,417.012 1681.87,414.487 1682.56,411.981 \n",
       "  1683.25,409.494 1683.94,407.025 1684.63,404.574 1685.32,402.142 1686.01,399.728 1686.7,397.332 1687.39,394.953 1688.08,392.593 1688.78,397.387 1689.47,395.008 \n",
       "  1690.16,392.647 1690.85,390.303 1691.54,387.977 1692.23,385.668 1692.92,383.376 1693.61,381.101 1694.3,378.844 1694.99,376.602 1695.69,374.378 1696.38,372.17 \n",
       "  1697.07,376.875 1697.76,374.648 1698.45,372.438 1699.14,370.244 1699.83,368.067 1700.52,365.906 1701.21,363.76 1701.9,361.631 1702.59,359.517 1703.29,357.419 \n",
       "  1703.98,355.336 1704.67,353.268 1705.36,351.216 1706.05,349.179 1706.74,347.157 1707.43,345.15 1708.12,343.158 1708.81,341.18 1709.5,339.217 1710.2,343.754 \n",
       "  1710.89,341.772 1711.58,339.804 1712.27,337.851 1712.96,335.912 1713.65,333.988 1714.34,332.077 1715.03,330.181 1715.72,334.667 1716.41,339.179 1717.1,337.23 \n",
       "  1717.8,341.757 1718.49,339.789 1719.18,337.836 1719.87,335.897 1720.56,333.973 1721.25,332.062 1721.94,336.559 1722.63,334.63 1723.32,332.715 1724.01,337.216 \n",
       "  1724.71,335.281 1725.4,333.361 1726.09,337.866 1726.78,335.927 1727.47,334.002 1728.16,332.092 1728.85,330.195 1729.54,334.681 1730.23,339.193 1730.92,337.244 \n",
       "  1731.61,335.31 1732.31,333.39 1733,337.894 1733.69,335.955 1734.38,334.03 1735.07,332.12 1735.76,330.223 1736.45,328.34 1737.14,326.471 1737.83,324.615 \n",
       "  1738.52,329.068 1739.21,327.193 1739.91,325.333 1740.6,323.485 1741.29,321.652 1741.98,326.087 1742.67,324.234 1743.36,328.685 1744.05,326.813 1744.74,324.955 \n",
       "  1745.43,323.11 1746.12,321.279 1746.82,319.462 1747.51,317.657 1748.2,315.866 1748.89,314.088 1749.58,312.322 1750.27,310.57 1750.96,308.83 1751.65,313.184 \n",
       "  1752.34,317.566 1753.03,315.776 1753.72,313.998 1754.42,312.233 1755.11,310.481 1755.8,308.742 1756.49,307.015 1757.18,305.301 1757.87,303.6 1758.56,301.91 \n",
       "  1759.25,300.233 1759.94,298.568 1760.63,296.915 1761.33,295.273 1762.02,293.644 1762.71,292.026 1763.4,290.42 1764.09,288.826 1764.78,287.243 1765.47,285.671 \n",
       "  1766.16,284.11 1766.85,282.561 1767.54,281.023 1768.23,279.495 1768.93,277.979 1769.62,276.473 1770.31,274.979 1771,273.494 1771.69,272.021 1772.38,270.557 \n",
       "  1773.07,269.104 1773.76,267.662 1774.45,266.229 1775.14,270.274 1775.84,268.824 1776.53,267.383 1777.22,265.952 1777.91,264.532 1778.6,263.122 1779.29,261.721 \n",
       "  1779.98,260.331 1780.67,258.95 1781.36,257.579 1782.05,256.218 1782.74,260.181 1783.44,258.801 1784.13,257.431 1784.82,256.071 1785.51,254.72 1786.2,253.379 \n",
       "  1786.89,252.047 1787.58,250.724 1788.27,249.411 1788.96,248.106 1789.65,246.811 1790.35,250.693 1791.04,249.38 1791.73,248.076 1792.42,246.781 1793.11,245.495 \n",
       "  1793.8,244.218 1794.49,242.95 1795.18,241.691 1795.87,240.44 1796.56,239.198 1797.25,237.965 1797.95,241.767 1798.64,240.516 1799.33,239.274 1800.02,238.04 \n",
       "  1800.71,236.814 1801.4,235.597 1802.09,239.378 1802.78,238.144 1803.47,241.948 1804.16,240.695 1804.85,244.523 1805.55,243.252 1806.24,241.991 1806.93,240.738 \n",
       "  1807.62,239.494 1808.31,238.259 1809,237.032 1809.69,235.814 1810.38,239.596 1811.07,238.36 1811.76,237.133 1812.46,235.914 1813.15,234.703 1813.84,233.501 \n",
       "  1814.53,232.307 1815.22,231.121 1815.91,229.943 1816.6,228.773 1817.29,227.612 1817.98,226.458 1818.67,225.312 1819.36,224.174 1820.06,223.044 1820.75,221.922 \n",
       "  1821.44,220.807 1822.13,219.7 1822.82,218.6 1823.51,217.508 1824.2,216.423 1824.89,215.345 1825.58,214.275 1826.27,213.212 1826.97,212.156 1827.66,211.107 \n",
       "  1828.35,214.647 1829.04,213.582 1829.73,212.523 1830.42,211.472 1831.11,215.016 1831.8,213.948 1832.49,212.887 1833.18,211.833 1833.87,210.787 1834.57,209.747 \n",
       "  1835.26,208.715 1835.95,207.689 1836.64,206.67 1837.33,205.658 1838.02,204.653 1838.71,203.655 1839.4,202.663 1840.09,201.678 1840.78,200.699 1841.48,199.727 \n",
       "  1842.17,198.761 1842.86,202.169 1843.55,201.187 1844.24,200.212 1844.93,199.243 1845.62,202.657 1846.31,201.671 1847,200.693 1847.69,199.721 1848.38,198.755 \n",
       "  1849.08,197.796 1849.77,196.843 1850.46,195.897 1851.15,194.956 1851.84,194.022 1852.53,193.094 1853.22,196.439 1853.91,199.821 1854.6,198.855 1855.29,197.895 \n",
       "  1855.99,196.942 1856.68,200.33 1857.37,199.36 1858.06,198.397 1858.75,197.44 1859.44,196.489 1860.13,195.545 1860.82,194.607 1861.51,193.675 1862.2,197.027 \n",
       "  1862.89,196.079 1863.59,195.137 1864.28,194.202 1864.97,193.273 1865.66,192.35 1866.35,191.433 1867.04,194.759 1867.73,198.123 1868.42,197.168 1869.11,196.219 \n",
       "  1869.8,195.277 1870.5,198.646 1871.19,197.687 1871.88,196.735 1872.57,195.789 1873.26,194.85 1873.95,193.916 1874.64,192.989 1875.33,192.068 1876.02,191.153 \n",
       "  1876.71,190.244 1877.4,189.341 1878.1,188.444 1878.79,187.553 1879.48,186.667 1880.17,185.788 1880.86,189.048 1881.55,188.153 1882.24,187.264 1882.93,190.542 \n",
       "  1883.62,193.857 1884.31,192.93 1885,192.01 1885.7,191.095 1886.39,190.186 1887.08,189.284 1887.77,188.387 1888.46,187.496 1889.15,186.611 1889.84,185.732 \n",
       "  1890.53,184.858 1891.22,183.991 1891.91,187.23 1892.61,186.347 1893.3,185.469 1893.99,184.597 1894.68,183.731 1895.37,186.968 1896.06,186.086 1896.75,185.21 \n",
       "  1897.44,184.34 1898.13,187.584 1898.82,186.698 1899.51,185.818 1900.21,184.944 1900.9,184.076 1901.59,183.213 1902.28,186.443 1902.97,185.565 1903.66,184.693 \n",
       "  1904.35,183.826 1905.04,182.965 1905.73,186.192 1906.42,185.316 1907.12,184.445 1907.81,183.58 1908.5,182.72 1909.19,181.867 1909.88,181.018 1910.57,180.175 \n",
       "  1911.26,179.338 1911.95,178.506 1912.64,181.68 1913.33,180.833 1914.02,179.991 1914.72,179.155 1915.41,178.324 1916.1,177.499 1916.79,176.679 1917.48,179.83 \n",
       "  1918.17,178.995 1918.86,178.165 1919.55,177.341 1920.24,176.522 1920.93,179.671 1921.63,178.837 1922.32,178.009 1923.01,177.185 1923.7,176.367 1924.39,179.515 \n",
       "  1925.08,178.682 1925.77,177.854 1926.46,181.02 1927.15,180.177 1927.84,179.34 1928.53,178.508 1929.23,177.681 1929.92,176.86 1930.61,176.044 1931.3,175.233 \n",
       "  1931.99,174.428 1932.68,173.627 1933.37,172.832 1934.06,172.042 1934.75,171.257 1935.44,170.477 1936.14,169.702 1936.83,168.932 1937.52,168.167 1938.21,167.407 \n",
       "  1938.9,166.651 1939.59,165.901 1940.28,165.155 1940.97,168.162 1941.66,167.401 1942.35,166.646 1943.04,165.895 1943.74,165.15 1944.43,164.409 1945.12,163.672 \n",
       "  1945.81,162.94 1946.5,162.213 1947.19,165.182 1947.88,164.44 1948.57,163.704 1949.26,162.972 1949.95,162.244 1950.64,161.522 1951.34,160.804 1952.03,163.753 \n",
       "  1952.72,163.021 1953.41,162.293 1954.1,161.57 1954.79,160.852 1955.48,160.138 1956.17,159.429 1956.86,162.36 1957.55,161.637 1958.25,164.597 1958.94,163.86 \n",
       "  1959.63,166.849 1960.32,166.097 1961.01,165.35 1961.7,164.608 1962.39,167.608 1963.08,166.851 1963.77,169.879 1964.46,169.108 1965.15,168.342 1965.85,167.58 \n",
       "  1966.54,166.824 1967.23,166.072 1967.92,165.325 1968.61,164.583 1969.3,167.582 1969.99,166.826 1970.68,166.074 1971.37,169.092 1972.06,168.326 1972.76,167.565 \n",
       "  1973.45,166.809 1974.14,166.057 1974.83,165.31 1975.52,164.568 1976.21,163.831 1976.9,163.098 1977.59,162.37 1978.28,161.646 1978.97,160.927 1979.66,160.213 \n",
       "  1980.36,159.503 1981.05,158.798 1981.74,158.097 1982.43,157.4 1983.12,160.304 1983.81,159.594 1984.5,158.888 1985.19,158.186 1985.88,157.489 1986.57,156.796 \n",
       "  1987.27,156.108 1987.96,155.424 1988.65,154.744 1989.34,154.068 1990.03,153.397 1990.72,152.73 1991.41,155.57 1992.1,154.89 1992.79,154.213 1993.48,153.541 \n",
       "  1994.17,152.873 1994.87,152.209 1995.56,151.549 1996.25,150.893 1996.94,150.241 1997.63,149.594 1998.32,148.95 1999.01,148.31 1999.7,147.675 2000.39,147.043 \n",
       "  2001.08,146.415 2001.78,145.791 2002.47,145.171 2003.16,144.554 2003.85,147.28 2004.54,146.651 2005.23,146.025 2005.92,145.404 2006.61,144.786 2007.3,144.172 \n",
       "  2007.99,143.561 2008.68,142.955 2009.38,142.352 2010.07,141.753 2010.76,141.158 2011.45,140.566 2012.14,143.233 2012.83,142.629 2013.52,142.028 2014.21,141.431 \n",
       "  2014.9,140.837 2015.59,140.248 2016.29,142.91 2016.98,142.308 2017.67,141.709 2018.36,141.114 2019.05,140.522 2019.74,139.934 2020.43,139.35 2021.12,138.769 \n",
       "  2021.81,138.192 2022.5,137.618 2023.19,137.048 2023.89,136.481 2024.58,135.917 2025.27,135.357 2025.96,134.801 2026.65,134.247 2027.34,133.697 2028.03,133.151 \n",
       "  2028.72,135.707 2029.41,135.149 2030.1,134.593 2030.79,134.041 2031.49,133.492 2032.18,132.947 2032.87,132.405 2033.56,131.866 2034.25,131.33 2034.94,130.798 \n",
       "  2035.63,130.269 2036.32,129.742 2037.01,132.246 2037.7,131.709 2038.4,131.174 2039.09,130.642 2039.78,130.114 2040.47,129.589 2041.16,129.067 2041.85,128.548 \n",
       "  2042.54,128.032 2043.23,127.519 2043.92,127.009 2044.61,126.503 2045.3,125.999 2046,125.498 2046.69,125.001 2047.38,127.43 2048.07,126.921 2048.76,126.414 \n",
       "  2049.45,128.866 2050.14,131.356 2050.83,130.824 2051.52,130.294 2052.21,129.768 2052.91,129.245 2053.6,131.741 2054.29,131.206 2054.98,130.674 2055.67,133.193 \n",
       "  2056.36,132.649 2057.05,132.109 2057.74,131.572 2058.43,131.038 2059.12,130.507 2059.81,129.98 2060.51,129.455 2061.2,128.934 2061.89,128.416 2062.58,127.901 \n",
       "  2063.27,127.389 2063.96,126.88 2064.65,126.374 2065.34,125.871 2066.03,125.371 2066.72,124.874 2067.42,127.301 2068.11,129.767 2068.8,129.244 2069.49,128.724 \n",
       "  2070.18,128.207 2070.87,130.687 2071.56,133.206 2072.25,132.662 2072.94,132.121 2073.63,131.584 2074.32,131.05 2075.02,130.519 2075.71,129.992 2076.4,129.467 \n",
       "  2077.09,128.946 2077.78,128.428 2078.47,127.913 2079.16,127.401 2079.85,126.892 2080.54,126.386 2081.23,125.883 2081.93,125.383 2082.62,124.886 2083.31,124.391 \n",
       "  2084,123.9 2084.69,123.412 2085.38,122.926 2086.07,122.444 2086.76,121.964 2087.45,124.344 2088.14,123.853 2088.83,123.365 2089.53,125.768 2090.22,125.269 \n",
       "  2090.91,124.772 2091.6,124.279 2092.29,123.789 2092.98,123.301 2093.67,122.816 2094.36,122.334 2095.05,124.72 2095.74,127.145 2096.43,129.608 2097.13,129.086 \n",
       "  2097.82,128.567 2098.51,128.051 2099.2,127.538 2099.89,127.028 2100.58,126.521 2101.27,126.018 2101.96,125.517 2102.65,125.019 2103.34,124.524 2104.04,126.946 \n",
       "  2104.73,126.439 2105.42,125.936 2106.11,128.38 2106.8,127.865 2107.49,127.353 2108.18,126.845 2108.87,126.339 2109.56,125.836 2110.25,128.279 2110.94,127.764 \n",
       "  2111.64,127.253 2112.33,126.745 2113.02,126.24 2113.71,125.738 2114.4,125.239 2115.09,124.742 2115.78,124.249 2116.47,123.759 2117.16,123.271 2117.85,122.787 \n",
       "  2118.55,122.305 2119.24,121.826 2119.93,121.35 2120.62,120.877 2121.31,120.406 2122,119.939 2122.69,119.474 2123.38,119.011 2124.07,118.552 2124.76,118.095 \n",
       "  2125.45,117.64 2126.15,117.189 2126.84,116.74 2127.53,116.294 2128.22,115.85 2128.91,115.409 2129.6,114.97 2130.29,114.534 2130.98,114.1 2131.67,113.669 \n",
       "  2132.36,115.911 2133.06,115.469 2133.75,115.03 2134.44,114.594 2135.13,114.16 2135.82,116.41 2136.51,118.698 2137.2,118.24 2137.89,120.559 2138.58,120.09 \n",
       "  2139.27,119.625 2139.96,119.161 2140.66,118.701 2141.35,118.243 2142.04,117.788 2142.73,117.336 2143.42,116.886 2144.11,116.439 2144.8,115.994 2145.49,115.552 \n",
       "  2146.18,115.112 2146.87,114.676 2147.57,114.241 2148.26,113.809 2148.95,113.38 2149.64,112.953 2150.33,112.529 2151.02,112.107 2151.71,111.687 2152.4,111.27 \n",
       "  2153.09,110.855 2153.78,110.443 2154.47,110.033 2155.17,109.625 2155.86,109.22 2156.55,108.817 2157.24,108.416 2157.93,108.018 2158.62,107.622 2159.31,107.228 \n",
       "  2160,109.357 2160.69,108.953 2161.38,108.552 2162.08,108.153 2162.77,107.756 2163.46,107.361 2164.15,106.969 2164.84,106.579 2165.53,106.191 2166.22,105.805 \n",
       "  2166.91,105.421 2167.6,105.04 2168.29,104.661 2168.98,104.284 2169.68,103.909 2170.37,103.536 2171.06,103.166 2171.75,102.797 2172.44,102.43 2173.13,102.066 \n",
       "  2173.82,101.704 2174.51,103.732 2175.2,103.36 2175.89,102.991 2176.58,102.623 2177.28,102.258 2177.97,101.894 2178.66,101.533 2179.35,101.173 2180.04,100.816 \n",
       "  2180.73,100.461 2181.42,100.107 2182.11,102.106 2182.8,101.744 2183.49,101.383 2184.19,101.025 2184.88,100.668 2185.57,102.677 2186.26,102.312 2186.95,101.948 \n",
       "  2187.64,101.586 2188.33,103.612 2189.02,103.241 2189.71,102.872 2190.4,102.505 2191.09,104.549 2191.79,104.172 2192.48,103.798 2193.17,103.426 2193.86,103.056 \n",
       "  2194.55,102.688 2195.24,102.322 2195.93,104.362 2196.62,103.987 2197.31,103.614 2198,103.243 2198.7,102.874 2199.39,102.507 2200.08,102.142 2200.77,101.779 \n",
       "  2201.46,101.418 2202.15,101.059 2202.84,103.076 2203.53,102.708 2204.22,102.342 2204.91,104.382 2205.6,106.46 2206.3,106.073 2206.99,105.688 2207.68,105.305 \n",
       "  2208.37,104.924 2209.06,104.546 2209.75,106.627 2210.44,106.238 2211.13,105.852 2211.82,105.469 2212.51,105.087 2213.21,104.708 2213.9,104.33 2214.59,103.955 \n",
       "  2215.28,103.582 2215.97,103.211 2216.66,102.842 2217.35,102.476 2218.04,102.111 2218.73,101.748 2219.42,103.778 2220.11,105.844 2220.81,105.461 2221.5,105.079 \n",
       "  2222.19,104.7 2222.88,104.322 2223.57,103.947 2224.26,103.574 2224.95,103.203 2225.64,102.835 2226.33,102.468 2227.02,102.103 2227.72,101.741 2228.41,103.77 \n",
       "  2229.1,103.398 2229.79,103.028 2230.48,102.66 2231.17,102.295 2231.86,101.931 2232.55,101.569 2233.24,101.21 2233.93,100.852 2234.62,100.497 2235.32,100.143 \n",
       "  2236.01,99.7914 2236.7,99.4418 2237.39,99.0942 2238.08,98.7485 2238.77,98.4047 2239.46,98.0628 2240.15,97.7229 2240.84,97.3848 2241.53,97.0487 2242.22,96.7144 \n",
       "  2242.92,98.649 2243.61,98.3057 2244.3,97.9644 2244.99,97.625 2245.68,97.2875 2246.37,96.9519 2247.06,96.6181 2247.75,96.2862 2248.44,95.9562 2249.13,95.6279 \n",
       "  2249.83,95.3015 2250.52,94.9769 2251.21,94.6541 2251.9,94.3331 2252.59,94.0139 2253.28,93.6964 2253.97,93.3807 2254.66,93.0667 2255.35,92.7545 2256.04,92.444 \n",
       "  2256.73,92.1352 2257.43,91.828 2258.12,91.5226 2258.81,91.2189 2259.5,93.0458 2260.19,92.7337 2260.88,92.4233 2261.57,92.1146 2262.26,91.8076 2262.95,91.5023 \n",
       "  2263.64,91.1987 2264.34,90.8967 2265.03,90.5964 2265.72,90.2977 2266.41,92.1062 2267.1,91.7993 2267.79,91.494 2268.48,91.1904 2269.17,90.8885 2269.86,90.5882 \n",
       "  2270.55,90.2896 2271.24,89.9926 2271.94,89.6972 2272.63,91.4936 2273.32,91.19 2274.01,90.8881 2274.7,90.5878 2275.39,90.2892 2276.08,89.9922 2276.77,89.6969 \n",
       "  2277.46,89.4031 2278.15,89.111 2278.85,88.8204 2279.54,88.5315 2280.23,88.2441 2280.92,90.0109 2281.61,89.7155 2282.3,89.4216 2282.99,89.1294 2283.68,88.8387 \n",
       "  2284.37,88.5497 2285.06,88.2622 2285.75,87.9763 2286.45,89.7376 2287.14,89.4436 2287.83,89.1513 2288.52,90.9366 2289.21,90.6361 2289.9,92.4514 2290.59,92.1425 \n",
       "  \n",
       "  \"/>\n",
       "<path clip-path=\"url(#clip690)\" d=\"\n",
       "M1983.06 198.898 L2279.54 198.898 L2279.54 95.2176 L1983.06 95.2176  Z\n",
       "  \" fill=\"#ffffff\" fill-rule=\"evenodd\" fill-opacity=\"1\"/>\n",
       "<polyline clip-path=\"url(#clip690)\" style=\"stroke:#000000; stroke-linecap:butt; stroke-linejoin:round; stroke-width:4; stroke-opacity:1; fill:none\" points=\"\n",
       "  1983.06,198.898 2279.54,198.898 2279.54,95.2176 1983.06,95.2176 1983.06,198.898 \n",
       "  \"/>\n",
       "<polyline clip-path=\"url(#clip690)\" style=\"stroke:#009af9; stroke-linecap:butt; stroke-linejoin:round; stroke-width:4; stroke-opacity:1; fill:none\" points=\"\n",
       "  2007.46,147.058 2153.89,147.058 \n",
       "  \"/>\n",
       "<path clip-path=\"url(#clip690)\" d=\"M2192.14 166.745 Q2190.34 171.375 2188.62 172.787 Q2186.91 174.199 2184.04 174.199 L2180.64 174.199 L2180.64 170.634 L2183.14 170.634 Q2184.9 170.634 2185.87 169.8 Q2186.84 168.967 2188.02 165.865 L2188.78 163.921 L2178.3 138.412 L2182.81 138.412 L2190.91 158.689 L2199.02 138.412 L2203.53 138.412 L2192.14 166.745 Z\" fill=\"#000000\" fill-rule=\"evenodd\" fill-opacity=\"1\" /><path clip-path=\"url(#clip690)\" d=\"M2210.82 160.402 L2218.46 160.402 L2218.46 134.037 L2210.15 135.703 L2210.15 131.444 L2218.41 129.778 L2223.09 129.778 L2223.09 160.402 L2230.73 160.402 L2230.73 164.338 L2210.82 164.338 L2210.82 160.402 Z\" fill=\"#000000\" fill-rule=\"evenodd\" fill-opacity=\"1\" /></svg>\n"
      ]
     },
     "execution_count": 29,
     "metadata": {},
     "output_type": "execute_result"
    }
   ],
   "source": [
    "F = []\n",
    "𝜔₁ = [1/2 0; 0 1/2]\n",
    "𝜔 = []\n",
    "𝑌 =[]\n",
    "𝐸 = []\n",
    "\n",
    "push!(𝜔, 𝜔₁)\n",
    "\n",
    "n = 1000\n",
    "\n",
    "for 𝐸ₜ in [E₁, Ex₊, Ey₊]\n",
    "\n",
    "    𝑌 = [𝑌 ; rand(Bernoulli(abs(tr(𝐸ₜ*ρ))), n)]\n",
    "    𝐸 = [𝐸 ; repeat([𝐸ₜ], n)]\n",
    "\n",
    "    #println(\"Measure operator\", 𝐸ₜ )\n",
    "\n",
    "    for t in 1:n\n",
    "        𝜔ₜ = next_𝜔(𝜔, 𝐸, 𝑌)\n",
    "        push!(𝜔, 𝜔ₜ)\n",
    "        push!(F, fidelity(ρ, 𝜔ₜ))\n",
    "    end  \n",
    "    #println(𝜔[end])\n",
    "end\n",
    "\n",
    "print(\"Final fidelity:\", fidelity(ρ, 𝜔[end]))\n",
    "\n",
    "plt = plot(F)\n",
    "\n",
    "savefig(plt, \"mmw_fidelity_toy.pdf\")\n",
    "\n",
    "plt"
   ]
  },
  {
   "cell_type": "code",
   "execution_count": 22,
   "id": "3af903fa",
   "metadata": {},
   "outputs": [
    {
     "data": {
      "text/plain": [
       "2×2 Hermitian{ComplexF64, Matrix{ComplexF64}}:\n",
       "  0.356749+0.0im       -0.297234-0.374875im\n",
       " -0.297234+0.374875im   0.643251+0.0im"
      ]
     },
     "execution_count": 22,
     "metadata": {},
     "output_type": "execute_result"
    }
   ],
   "source": [
    "ρ"
   ]
  },
  {
   "cell_type": "code",
   "execution_count": 23,
   "id": "d834ec54",
   "metadata": {},
   "outputs": [
    {
     "data": {
      "text/plain": [
       "2×2 Matrix{ComplexF64}:\n",
       "  0.407744+0.0im       -0.240157-0.348737im\n",
       " -0.240157+0.348737im   0.592256+0.0im"
      ]
     },
     "execution_count": 23,
     "metadata": {},
     "output_type": "execute_result"
    }
   ],
   "source": [
    "𝜔[end]"
   ]
  },
  {
   "cell_type": "code",
   "execution_count": null,
   "id": "e4c9908c",
   "metadata": {},
   "outputs": [],
   "source": []
  }
 ],
 "metadata": {
  "@webio": {
   "lastCommId": null,
   "lastKernelId": null
  },
  "kernelspec": {
   "display_name": "Julia 1.7.2",
   "language": "julia",
   "name": "julia-1.7"
  },
  "language_info": {
   "file_extension": ".jl",
   "mimetype": "application/julia",
   "name": "julia",
   "version": "1.7.2"
  }
 },
 "nbformat": 4,
 "nbformat_minor": 5
}
# quantum-tomography
